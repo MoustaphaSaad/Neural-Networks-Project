{
 "cells": [
  {
   "cell_type": "markdown",
   "metadata": {},
   "source": [
    "# Neural-Networks Project\n",
    "\n",
    "## Introduction\n",
    "An essential part of the behavior of humans is their ability to recognize objects. Humans are able to recognize\n",
    "large numbers of other humans, letters, digits, and so on.\n",
    "The object recognition problem can be defined as a labeling problem based on models of known objects. Formally,\n",
    "given an image containing one or more objects of interest (and background) and a set of labels corresponding to a set\n",
    "of models known to the system, the system should assign correct labels to regions, or a set of regions, in the image.\n",
    "\n",
    "## Objective\n",
    "The goal of this project is to build an object recognition system that can pick out and identify objects from an\n",
    "inputted camera image, as shown in Figure 1, based on the registered objects.\n",
    "\n",
    "## System Architecture\n",
    "\n",
    "Input -> Features Extraction -> Classifier -> Voting -> Output\n",
    "\n",
    "## Features Extraction\n",
    "\n",
    "- Use Scale Invariant Feature Transform (SIFT) algorithm [1] to extract features of an image.\n",
    "- SIFT describes image features that have many properties that make them suitable for matching differing images of an object or scene.\n",
    "- The features are invariant to image scaling and rotation, and partially invariant to change in illumination and 3D camera viewpoint.\n",
    "- An important aspect of this approach is that it generates large numbers of features that densely cover the image over the full range of scales and locations.\n",
    "- As shown in Figure 3, given an image, SIFT generates a set of keypoints, each keypoint consists of its location, scale, orientation, and a set of 128 descriptors.\n",
    "- Keypoints are the samples, and their features are the 128 element feature vector (descriptors) for each keypoint.\n",
    "- You can use the implementation of SIFT in VLFeat library [2] or in OpenCV [3].\n",
    "\n",
    "## Requirments\n",
    "\n",
    "- The user must be able to insert an input (image) to the application, and the application has to identify objects on the inputted image.\n",
    "- Using the test images you will test your classifier. And find the performance of your classifier using the Overall Accuracy (OA) and Confusion Matrix.\n",
    "- A comparative study showing the difference in applying the three classification algorithms based on the six evaluation measures mentioned above. Thus, a report template will be provided to you for filling it.\n",
    "- Also, the report must be provided showing the different NN architectures and different parameters you used, and their effect on the training and testing results.\n",
    "\n",
    "### Bouns\n",
    "Conduct a comparative study of different feature extraction algorithms such as SIFT, PCA-SIFT [5], and\n",
    "SURF [6] to show up their effects in improving classification performance of the project’s objective based\n",
    "on the six evaluation measures mentioned above. (A report template will be provided for that)"
   ]
  },
  {
   "cell_type": "markdown",
   "metadata": {},
   "source": [
    "## How to use ipython-notebook?\n",
    "ipython notebook act as client to the server side that's running on your console write now\n",
    "\n",
    "the notebook has cells just like this one ... you can click on this cell to edit it after editing the cell whether it's a \"markdown\" cell or \"code\" cell you can \"evaluate\" or run the cell by pressing \"shift+enter\" or you can use the play button in the icon bar above\n",
    "\n",
    "you can know and change the type of the cell using the dropdown menu from the icon bar above\n",
    "\n",
    "you can evaluate each cell in any order you wish when a cell is not evaluated it has an empty brackets like this on it's left side \"[]\" when the code in this block is running or waiting to be executed the left side indicator will be \"[\\*]\" after finishing executing the cell will have a number indicating it's order in execution \"[1]\" for first cell, \"[2]\" for the second ... etc\n",
    "\n",
    "you can use *TAB* key to auto-complete code\n",
    "\n",
    "you can add *?* then evaluate the cell to get the documentation for example: \"np.array?\""
   ]
  },
  {
   "cell_type": "markdown",
   "metadata": {},
   "source": [
    "### Step 01:\n",
    "listing the files of training and testing"
   ]
  },
  {
   "cell_type": "code",
   "execution_count": 4,
   "metadata": {
    "collapsed": false
   },
   "outputs": [],
   "source": [
    "import os,sys\n",
    "import numpy as np\n",
    "import cv2\n",
    "from os import listdir\n",
    "from os.path import isfile, join\n",
    "from sklearn import svm\n",
    "from sklearn.cluster import KMeans\n",
    "import random\n",
    "\n",
    "import warnings\n",
    "warnings.filterwarnings(\"ignore\")\n",
    "\n",
    "\n",
    "TRAINING_PATH = \"Data set/Training/\"\n",
    "TESTING_PATH = \"Data set/Testing/\"\n",
    "TRAINING_FILES = [f for f in listdir(TRAINING_PATH) if isfile(join(TRAINING_PATH, f))]\n",
    "TESTING_FILES = [f for f in listdir(TESTING_PATH) if isfile(join(TESTING_PATH, f))]"
   ]
  },
  {
   "cell_type": "markdown",
   "metadata": {},
   "source": [
    "### Step 02:\n",
    "loading images and labels into dictionary"
   ]
  },
  {
   "cell_type": "code",
   "execution_count": 59,
   "metadata": {
    "collapsed": false
   },
   "outputs": [],
   "source": [
    "Labels_Index = {\n",
    "                \"Cat\":        np.array([1.0,0.0,0.0,0.0,0.0]),\n",
    "                \"Laptop\":     np.array([0.0,1.0,0.0,0.0,0.0]),\n",
    "                \"Apple\":      np.array([0.0,0.0,1.0,0.0,0.0]),\n",
    "                \"Car\":        np.array([0.0,0.0,0.0,1.0,0.0]),\n",
    "                \"Helicopter\": np.array([0.0,0.0,0.0,0.0,1.0])\n",
    "                }\n",
    "\n",
    "#given the word this function returns the onehot vector label\n",
    "def getLabelIndex(word):\n",
    "    if word in Labels_Index:\n",
    "        return Labels_Index[word]\n",
    "    else:\n",
    "        return np.zeros(5)\n",
    "\n",
    "#given the onehot vector label this function returns the word\n",
    "def getLabelWord(index):\n",
    "    for key in Labels_Index.keys():\n",
    "        if np.argmax(index) == np.argmax(Labels_Index[key]):\n",
    "            return key\n",
    "    return \"\"\n",
    "\n",
    "def getIndexWord(index):\n",
    "    one_hot = np.array([0,0,0,0,0])\n",
    "    one_hot[int(index)] = 1.0\n",
    "    return getLabelWord(one_hot)"
   ]
  },
  {
   "cell_type": "code",
   "execution_count": 6,
   "metadata": {
    "collapsed": false
   },
   "outputs": [],
   "source": [
    "#function given filename it returns a list of labels associated with this file\n",
    "#it depend on filename that  contains the classes of this image\n",
    "def getImageLabels(image_filename):\n",
    "    result = []\n",
    "    if image_filename.find(\"Cat\") != -1:\n",
    "        result.append(Labels_Index[\"Cat\"])\n",
    "    \n",
    "    if image_filename.find(\"Laptop\") != -1:\n",
    "        result.append(Labels_Index[\"Laptop\"])\n",
    "        \n",
    "    if image_filename.find(\"Apple\") != -1:\n",
    "        result.append(Labels_Index[\"Apple\"])\n",
    "        \n",
    "    if image_filename.find(\"Car\") != -1:\n",
    "        result.append(Labels_Index[\"Car\"])\n",
    "        \n",
    "    if image_filename.find(\"Helicopter\") != -1:\n",
    "        result.append(Labels_Index[\"Helicopter\"])\n",
    "        \n",
    "    return result\n",
    "        "
   ]
  },
  {
   "cell_type": "markdown",
   "metadata": {},
   "source": [
    "### Data Layout:\n",
    "- Data = Dictionary or map of data\n",
    "- Key = File name\n",
    "- Value = Dictionary {\"image\": numpy array of image data, \"labels\": list of onehot vectors that represents the labels associated with this image\n",
    "\n",
    "### How to Iterate over Data?\n",
    "```\n",
    "for filename in TrainingData:\n",
    "        image = TrainingData[filename][\"image\"]\n",
    "        labels = TrainingData[filename][\"labels\"]\n",
    "```"
   ]
  },
  {
   "cell_type": "code",
   "execution_count": 7,
   "metadata": {
    "collapsed": false
   },
   "outputs": [],
   "source": [
    "#dictionary that contains the training data\n",
    "TrainingData = {}\n",
    "for image in TRAINING_FILES:\n",
    "    image_filename = join(TRAINING_PATH, image)\n",
    "    TrainingData[image_filename] = {\"image\": cv2.imread(image_filename),\n",
    "                                     \"labels\": getImageLabels(image_filename)}\n",
    "#dictionary that contains the testing data\n",
    "TestingData = {}\n",
    "for image in TESTING_FILES:\n",
    "    image_filename = join(TESTING_PATH, image)\n",
    "    TestingData[image_filename] = {\"image\": cv2.imread(image_filename),\n",
    "                                    \"labels\": getImageLabels(image_filename)}"
   ]
  },
  {
   "cell_type": "markdown",
   "metadata": {},
   "source": [
    "Function to View the image given it's image matrix/data"
   ]
  },
  {
   "cell_type": "code",
   "execution_count": 8,
   "metadata": {
    "collapsed": false
   },
   "outputs": [],
   "source": [
    "def view_image(img):\n",
    "    cv2.startWindowThread()\n",
    "    cv2.namedWindow(\"preview\")\n",
    "    cv2.imshow(\"preview\" ,img)"
   ]
  },
  {
   "cell_type": "markdown",
   "metadata": {},
   "source": [
    "Get SIFT Features and a function to draw and view the features on the image"
   ]
  },
  {
   "cell_type": "code",
   "execution_count": 9,
   "metadata": {
    "collapsed": false
   },
   "outputs": [],
   "source": [
    "SIFT = cv2.SIFT()\n",
    "def getKeyPoints(img):\n",
    "    return SIFT.detect(img,None)\n",
    "\n",
    "def getKeyDescPoints(img):\n",
    "    return SIFT.detectAndCompute(img, None)\n",
    "\n",
    "def viewSIFTPoints(img,points):\n",
    "    view_image(cv2.drawKeypoints(img,points))"
   ]
  },
  {
   "cell_type": "code",
   "execution_count": 10,
   "metadata": {
    "collapsed": true
   },
   "outputs": [],
   "source": [
    "def logical_or_labels(labels):\n",
    "    result = None\n",
    "    for label in labels:\n",
    "        if result is None:\n",
    "            result = label\n",
    "        else:\n",
    "            result = np.logical_or(result, label).astype(float)\n",
    "    return result"
   ]
  },
  {
   "cell_type": "code",
   "execution_count": 11,
   "metadata": {
    "collapsed": false
   },
   "outputs": [],
   "source": [
    "SVM = svm.NuSVC(probability=True,decision_function_shape=\"ovr\")\n",
    "def train_SVM():\n",
    "    all_descriptions = []\n",
    "    all_labels = []\n",
    "    for key in TrainingData.keys():\n",
    "        img = TrainingData[key][\"image\"]\n",
    "        img = cv2.Canny(img, 100, 200)\n",
    "        points, descriptions = getKeyDescPoints(img)\n",
    "        label = logical_or_labels(TrainingData[key][\"labels\"])\n",
    "        descriptions = np.array(descriptions)\n",
    "        all_descriptions.append(np.mean(descriptions, axis = 0))\n",
    "        all_labels.append(np.argmax(label))\n",
    "    \n",
    "    SVM.fit(all_descriptions,all_labels)\n",
    "    \n",
    "    kmeans = KMeans(n_clusters=3)\n",
    "    for key in TestingData.keys():\n",
    "        org_img = TestingData[key][\"image\"]\n",
    "        img = cv2.Canny(org_img, 100, 200)\n",
    "        points, descriptions = getKeyDescPoints(img)\n",
    "        all_points = [point.pt for point in points]\n",
    "        kmeans.fit(all_points)\n",
    "        clusters_indices = kmeans.predict(all_points)\n",
    "        cluster_pts0 = []\n",
    "        cluster_pts1 = []\n",
    "        cluster_pts2 = []\n",
    "        points0 = []\n",
    "        points1 = []\n",
    "        points2 = []\n",
    "        desc0 = []\n",
    "        desc1 = []\n",
    "        desc2 = []\n",
    "        clusters = [0,0,0]\n",
    "        for i in xrange(len(clusters_indices)):\n",
    "            clusters[clusters_indices[i]] += 1\n",
    "            if clusters_indices[i] == 0:\n",
    "                cluster_pts0.append(points[i])\n",
    "                desc0.append(descriptions[i])\n",
    "                points0.append(points[i].pt)\n",
    "            elif clusters_indices[i] == 1:\n",
    "                cluster_pts1.append(points[i])\n",
    "                desc1.append(descriptions[i])\n",
    "                points1.append(points[i].pt)\n",
    "            elif clusters_indices[i] == 2:\n",
    "                cluster_pts2.append(points[i])\n",
    "                desc2.append(descriptions[i])\n",
    "                points2.append(points[i].pt)\n",
    "        \n",
    "        points0 = np.array(points0)\n",
    "        points1 = np.array(points1)\n",
    "        points2 = np.array(points2)\n",
    "        \n",
    "        c1 = SVM.predict(np.mean(np.array(desc0), axis = 0))\n",
    "        \n",
    "        c2 = SVM.predict(np.mean(np.array(desc1), axis = 0))\n",
    "        \n",
    "        c3 = SVM.predict(np.mean(np.array(desc2), axis = 0))\n",
    "        \n",
    "        answer = {}\n",
    "        answer[getIndexWord(c1[0])] = points0\n",
    "        answer[getIndexWord(c2[0])] = points1\n",
    "        answer[getIndexWord(c3[0])] = points2\n",
    "        \n",
    "        answer_image = org_img\n",
    "        \n",
    "        colors = [(255,0,0), (0,255,0), (0,0,255)]\n",
    "        color_ix = 0\n",
    "        print \"answers: \", len(answer)\n",
    "        for ans in answer.keys():\n",
    "            min_pt = (100000, 100000)\n",
    "            max_pt = (0, 0)\n",
    "            for pt in answer[ans]:\n",
    "                if pt[0] < min_pt[0] or pt[1] < min_pt[1]:\n",
    "                    min_pt = pt\n",
    "                elif pt[0] > max_pt[0] or pt[1] > max_pt[1]:\n",
    "                    max_pt = pt\n",
    "            cv2.rectangle(answer_image,(int(min_pt[0]), int(min_pt[1])), (int(max_pt[0]), int(max_pt[1])),colors[color_ix])\n",
    "            cv2.putText(answer_image, ans, (int(min_pt[0]), int(min_pt[1])), cv2.FONT_HERSHEY_DUPLEX, 0.5, colors[color_ix])\n",
    "            if color_ix == 0:\n",
    "                print \"Blue: \", ans\n",
    "            elif color_ix == 1:\n",
    "                print \"Green: \", ans\n",
    "            elif color_ix == 2:\n",
    "                print \"Red: \", ans\n",
    "                    \n",
    "            color_ix += 1\n",
    "            if color_ix > 2:\n",
    "                color_ix = 0\n",
    "        view_image(answer_image)\n",
    "        raw_input(\"wait\")\n",
    "        "
   ]
  },
  {
   "cell_type": "code",
   "execution_count": 15,
   "metadata": {
    "collapsed": true
   },
   "outputs": [
    {
     "name": "stderr",
     "output_type": "stream",
     "text": [
      "/home/moustapha/.local/lib/python2.7/site-packages/sklearn/utils/validation.py:386: DeprecationWarning: Passing 1d arrays as data is deprecated in 0.17 and willraise ValueError in 0.19. Reshape your data either using X.reshape(-1, 1) if your data has a single feature or X.reshape(1, -1) if it contains a single sample.\n",
      "  DeprecationWarning)\n",
      "/home/moustapha/.local/lib/python2.7/site-packages/sklearn/utils/validation.py:386: DeprecationWarning: Passing 1d arrays as data is deprecated in 0.17 and willraise ValueError in 0.19. Reshape your data either using X.reshape(-1, 1) if your data has a single feature or X.reshape(1, -1) if it contains a single sample.\n",
      "  DeprecationWarning)\n",
      "/home/moustapha/.local/lib/python2.7/site-packages/sklearn/utils/validation.py:386: DeprecationWarning: Passing 1d arrays as data is deprecated in 0.17 and willraise ValueError in 0.19. Reshape your data either using X.reshape(-1, 1) if your data has a single feature or X.reshape(1, -1) if it contains a single sample.\n",
      "  DeprecationWarning)\n"
     ]
    },
    {
     "name": "stdout",
     "output_type": "stream",
     "text": [
      "4\n",
      "4\n",
      "3\n",
      "[4] [4] [3]\n",
      "answers:  2\n",
      "Blue:  Helicopter\n",
      "Green:  Car\n",
      "wait\n"
     ]
    },
    {
     "name": "stderr",
     "output_type": "stream",
     "text": [
      "/home/moustapha/.local/lib/python2.7/site-packages/sklearn/utils/validation.py:386: DeprecationWarning: Passing 1d arrays as data is deprecated in 0.17 and willraise ValueError in 0.19. Reshape your data either using X.reshape(-1, 1) if your data has a single feature or X.reshape(1, -1) if it contains a single sample.\n",
      "  DeprecationWarning)\n",
      "/home/moustapha/.local/lib/python2.7/site-packages/sklearn/utils/validation.py:386: DeprecationWarning: Passing 1d arrays as data is deprecated in 0.17 and willraise ValueError in 0.19. Reshape your data either using X.reshape(-1, 1) if your data has a single feature or X.reshape(1, -1) if it contains a single sample.\n",
      "  DeprecationWarning)\n",
      "/home/moustapha/.local/lib/python2.7/site-packages/sklearn/utils/validation.py:386: DeprecationWarning: Passing 1d arrays as data is deprecated in 0.17 and willraise ValueError in 0.19. Reshape your data either using X.reshape(-1, 1) if your data has a single feature or X.reshape(1, -1) if it contains a single sample.\n",
      "  DeprecationWarning)\n"
     ]
    },
    {
     "name": "stdout",
     "output_type": "stream",
     "text": [
      "0\n",
      "0\n",
      "2\n",
      "[0] [0] [2]\n",
      "answers:  2\n",
      "Blue:  Apple\n",
      "Green:  Cat\n",
      "wait\n"
     ]
    },
    {
     "name": "stderr",
     "output_type": "stream",
     "text": [
      "/home/moustapha/.local/lib/python2.7/site-packages/sklearn/utils/validation.py:386: DeprecationWarning: Passing 1d arrays as data is deprecated in 0.17 and willraise ValueError in 0.19. Reshape your data either using X.reshape(-1, 1) if your data has a single feature or X.reshape(1, -1) if it contains a single sample.\n",
      "  DeprecationWarning)\n",
      "/home/moustapha/.local/lib/python2.7/site-packages/sklearn/utils/validation.py:386: DeprecationWarning: Passing 1d arrays as data is deprecated in 0.17 and willraise ValueError in 0.19. Reshape your data either using X.reshape(-1, 1) if your data has a single feature or X.reshape(1, -1) if it contains a single sample.\n",
      "  DeprecationWarning)\n",
      "/home/moustapha/.local/lib/python2.7/site-packages/sklearn/utils/validation.py:386: DeprecationWarning: Passing 1d arrays as data is deprecated in 0.17 and willraise ValueError in 0.19. Reshape your data either using X.reshape(-1, 1) if your data has a single feature or X.reshape(1, -1) if it contains a single sample.\n",
      "  DeprecationWarning)\n"
     ]
    },
    {
     "name": "stdout",
     "output_type": "stream",
     "text": [
      "2\n",
      "2\n",
      "4\n",
      "[2] [2] [4]\n",
      "answers:  2\n",
      "Blue:  Helicopter\n",
      "Green:  Apple\n",
      "wait\n"
     ]
    },
    {
     "name": "stderr",
     "output_type": "stream",
     "text": [
      "/home/moustapha/.local/lib/python2.7/site-packages/sklearn/utils/validation.py:386: DeprecationWarning: Passing 1d arrays as data is deprecated in 0.17 and willraise ValueError in 0.19. Reshape your data either using X.reshape(-1, 1) if your data has a single feature or X.reshape(1, -1) if it contains a single sample.\n",
      "  DeprecationWarning)\n",
      "/home/moustapha/.local/lib/python2.7/site-packages/sklearn/utils/validation.py:386: DeprecationWarning: Passing 1d arrays as data is deprecated in 0.17 and willraise ValueError in 0.19. Reshape your data either using X.reshape(-1, 1) if your data has a single feature or X.reshape(1, -1) if it contains a single sample.\n",
      "  DeprecationWarning)\n",
      "/home/moustapha/.local/lib/python2.7/site-packages/sklearn/utils/validation.py:386: DeprecationWarning: Passing 1d arrays as data is deprecated in 0.17 and willraise ValueError in 0.19. Reshape your data either using X.reshape(-1, 1) if your data has a single feature or X.reshape(1, -1) if it contains a single sample.\n",
      "  DeprecationWarning)\n"
     ]
    },
    {
     "name": "stdout",
     "output_type": "stream",
     "text": [
      "1\n",
      "4\n",
      "2\n",
      "[1] [4] [2]\n",
      "answers:  3\n",
      "Blue:  Helicopter\n",
      "Green:  Laptop\n",
      "Red:  Apple\n",
      "wait\n"
     ]
    },
    {
     "name": "stderr",
     "output_type": "stream",
     "text": [
      "/home/moustapha/.local/lib/python2.7/site-packages/sklearn/utils/validation.py:386: DeprecationWarning: Passing 1d arrays as data is deprecated in 0.17 and willraise ValueError in 0.19. Reshape your data either using X.reshape(-1, 1) if your data has a single feature or X.reshape(1, -1) if it contains a single sample.\n",
      "  DeprecationWarning)\n",
      "/home/moustapha/.local/lib/python2.7/site-packages/sklearn/utils/validation.py:386: DeprecationWarning: Passing 1d arrays as data is deprecated in 0.17 and willraise ValueError in 0.19. Reshape your data either using X.reshape(-1, 1) if your data has a single feature or X.reshape(1, -1) if it contains a single sample.\n",
      "  DeprecationWarning)\n",
      "/home/moustapha/.local/lib/python2.7/site-packages/sklearn/utils/validation.py:386: DeprecationWarning: Passing 1d arrays as data is deprecated in 0.17 and willraise ValueError in 0.19. Reshape your data either using X.reshape(-1, 1) if your data has a single feature or X.reshape(1, -1) if it contains a single sample.\n",
      "  DeprecationWarning)\n"
     ]
    },
    {
     "name": "stdout",
     "output_type": "stream",
     "text": [
      "2\n",
      "2\n",
      "2\n",
      "[2] [2] [2]\n",
      "answers:  1\n",
      "Blue:  Apple\n",
      "wait\n"
     ]
    },
    {
     "name": "stderr",
     "output_type": "stream",
     "text": [
      "/home/moustapha/.local/lib/python2.7/site-packages/sklearn/utils/validation.py:386: DeprecationWarning: Passing 1d arrays as data is deprecated in 0.17 and willraise ValueError in 0.19. Reshape your data either using X.reshape(-1, 1) if your data has a single feature or X.reshape(1, -1) if it contains a single sample.\n",
      "  DeprecationWarning)\n",
      "/home/moustapha/.local/lib/python2.7/site-packages/sklearn/utils/validation.py:386: DeprecationWarning: Passing 1d arrays as data is deprecated in 0.17 and willraise ValueError in 0.19. Reshape your data either using X.reshape(-1, 1) if your data has a single feature or X.reshape(1, -1) if it contains a single sample.\n",
      "  DeprecationWarning)\n",
      "/home/moustapha/.local/lib/python2.7/site-packages/sklearn/utils/validation.py:386: DeprecationWarning: Passing 1d arrays as data is deprecated in 0.17 and willraise ValueError in 0.19. Reshape your data either using X.reshape(-1, 1) if your data has a single feature or X.reshape(1, -1) if it contains a single sample.\n",
      "  DeprecationWarning)\n"
     ]
    },
    {
     "name": "stdout",
     "output_type": "stream",
     "text": [
      "1\n",
      "1\n",
      "2\n",
      "[1] [1] [2]\n",
      "answers:  2\n",
      "Blue:  Laptop\n",
      "Green:  Apple\n"
     ]
    },
    {
     "ename": "KeyboardInterrupt",
     "evalue": "",
     "output_type": "error",
     "traceback": [
      "\u001b[1;31m---------------------------------------------------------------------------\u001b[0m",
      "\u001b[1;31mKeyboardInterrupt\u001b[0m                         Traceback (most recent call last)",
      "\u001b[1;32m<ipython-input-15-f79d2d12b620>\u001b[0m in \u001b[0;36m<module>\u001b[1;34m()\u001b[0m\n\u001b[1;32m----> 1\u001b[1;33m \u001b[0mtrain_SVM\u001b[0m\u001b[1;33m(\u001b[0m\u001b[1;33m)\u001b[0m\u001b[1;33m\u001b[0m\u001b[0m\n\u001b[0m",
      "\u001b[1;32m<ipython-input-14-510d5216e08a>\u001b[0m in \u001b[0;36mtrain_SVM\u001b[1;34m()\u001b[0m\n\u001b[0;32m     88\u001b[0m                 \u001b[0mcolor_ix\u001b[0m \u001b[1;33m=\u001b[0m \u001b[1;36m0\u001b[0m\u001b[1;33m\u001b[0m\u001b[0m\n\u001b[0;32m     89\u001b[0m         \u001b[0mview_image\u001b[0m\u001b[1;33m(\u001b[0m\u001b[0manswer_image\u001b[0m\u001b[1;33m)\u001b[0m\u001b[1;33m\u001b[0m\u001b[0m\n\u001b[1;32m---> 90\u001b[1;33m         \u001b[0mraw_input\u001b[0m\u001b[1;33m(\u001b[0m\u001b[1;34m\"wait\"\u001b[0m\u001b[1;33m)\u001b[0m\u001b[1;33m\u001b[0m\u001b[0m\n\u001b[0m\u001b[0;32m     91\u001b[0m \u001b[1;33m\u001b[0m\u001b[0m\n",
      "\u001b[1;32m/home/moustapha/.local/lib/python2.7/site-packages/ipykernel/kernelbase.pyc\u001b[0m in \u001b[0;36mraw_input\u001b[1;34m(self, prompt)\u001b[0m\n\u001b[0;32m    687\u001b[0m             \u001b[0mself\u001b[0m\u001b[1;33m.\u001b[0m\u001b[0m_parent_ident\u001b[0m\u001b[1;33m,\u001b[0m\u001b[1;33m\u001b[0m\u001b[0m\n\u001b[0;32m    688\u001b[0m             \u001b[0mself\u001b[0m\u001b[1;33m.\u001b[0m\u001b[0m_parent_header\u001b[0m\u001b[1;33m,\u001b[0m\u001b[1;33m\u001b[0m\u001b[0m\n\u001b[1;32m--> 689\u001b[1;33m             \u001b[0mpassword\u001b[0m\u001b[1;33m=\u001b[0m\u001b[0mFalse\u001b[0m\u001b[1;33m,\u001b[0m\u001b[1;33m\u001b[0m\u001b[0m\n\u001b[0m\u001b[0;32m    690\u001b[0m         )\n\u001b[0;32m    691\u001b[0m \u001b[1;33m\u001b[0m\u001b[0m\n",
      "\u001b[1;32m/home/moustapha/.local/lib/python2.7/site-packages/ipykernel/kernelbase.pyc\u001b[0m in \u001b[0;36m_input_request\u001b[1;34m(self, prompt, ident, parent, password)\u001b[0m\n\u001b[0;32m    717\u001b[0m             \u001b[1;32mexcept\u001b[0m \u001b[0mKeyboardInterrupt\u001b[0m\u001b[1;33m:\u001b[0m\u001b[1;33m\u001b[0m\u001b[0m\n\u001b[0;32m    718\u001b[0m                 \u001b[1;31m# re-raise KeyboardInterrupt, to truncate traceback\u001b[0m\u001b[1;33m\u001b[0m\u001b[1;33m\u001b[0m\u001b[0m\n\u001b[1;32m--> 719\u001b[1;33m                 \u001b[1;32mraise\u001b[0m \u001b[0mKeyboardInterrupt\u001b[0m\u001b[1;33m\u001b[0m\u001b[0m\n\u001b[0m\u001b[0;32m    720\u001b[0m             \u001b[1;32melse\u001b[0m\u001b[1;33m:\u001b[0m\u001b[1;33m\u001b[0m\u001b[0m\n\u001b[0;32m    721\u001b[0m                 \u001b[1;32mbreak\u001b[0m\u001b[1;33m\u001b[0m\u001b[0m\n",
      "\u001b[1;31mKeyboardInterrupt\u001b[0m: "
     ]
    }
   ],
   "source": [
    "train_SVM()"
   ]
  },
  {
   "cell_type": "markdown",
   "metadata": {},
   "source": [
    "## Back-Propagation\n",
    "### Network Class"
   ]
  },
  {
   "cell_type": "code",
   "execution_count": 41,
   "metadata": {
    "collapsed": true
   },
   "outputs": [],
   "source": [
    "class Network(object):\n",
    "\n",
    "    def __init__(self, sizes):\n",
    "        \"\"\"The list ``sizes`` contains the number of neurons in the\n",
    "        respective layers of the network.  For example, if the list\n",
    "        was [2, 3, 1] then it would be a three-layer network, with the\n",
    "        first layer containing 2 neurons, the second layer 3 neurons,\n",
    "        and the third layer 1 neuron.  The biases and weights for the\n",
    "        network are initialized randomly, using a Gaussian\n",
    "        distribution with mean 0, and variance 1.  Note that the first\n",
    "        layer is assumed to be an input layer, and by convention we\n",
    "        won't set any biases for those neurons, since biases are only\n",
    "        ever used in computing the outputs from later layers.\"\"\"\n",
    "        self.num_layers = len(sizes)\n",
    "        self.sizes = sizes\n",
    "        self.biases = [np.random.randn(y, 1) for y in sizes[1:]]\n",
    "        self.weights = [np.random.randn(y, x)\n",
    "                        for x, y in zip(sizes[:-1], sizes[1:])]\n",
    "\n",
    "    def feedforward(self, a):\n",
    "        \"\"\"Return the output of the network if ``a`` is input.\"\"\"\n",
    "        for b, w in zip(self.biases, self.weights):\n",
    "            a = sigmoid(np.dot(w, a)+b)\n",
    "        return a\n",
    "\n",
    "    def SGD(self, training_data, epochs, mini_batch_size, eta,\n",
    "            test_data=None):\n",
    "        \"\"\"Train the neural network using mini-batch stochastic\n",
    "        gradient descent.  The ``training_data`` is a list of tuples\n",
    "        ``(x, y)`` representing the training inputs and the desired\n",
    "        outputs.  The other non-optional parameters are\n",
    "        self-explanatory.  If ``test_data`` is provided then the\n",
    "        network will be evaluated against the test data after each\n",
    "        epoch, and partial progress printed out.  This is useful for\n",
    "        tracking progress, but slows things down substantially.\"\"\"\n",
    "        if test_data: n_test = len(test_data)\n",
    "        n = len(training_data)\n",
    "        for j in xrange(epochs):\n",
    "            random.shuffle(training_data)\n",
    "            mini_batches = [\n",
    "                training_data[k:k+mini_batch_size]\n",
    "                for k in xrange(0, n, mini_batch_size)]\n",
    "            for mini_batch in mini_batches:\n",
    "                self.update_mini_batch(mini_batch, eta)\n",
    "            if test_data:\n",
    "                print \"Epoch {0}: {1} / {2}\".format(\n",
    "                    j, self.evaluate(test_data), n_test)\n",
    "            else:\n",
    "                print \"Epoch {0} complete\".format(j)\n",
    "\n",
    "    def update_mini_batch(self, mini_batch, eta):\n",
    "        \"\"\"Update the network's weights and biases by applying\n",
    "        gradient descent using backpropagation to a single mini batch.\n",
    "        The ``mini_batch`` is a list of tuples ``(x, y)``, and ``eta``\n",
    "        is the learning rate.\"\"\"\n",
    "        nabla_b = [np.zeros(b.shape) for b in self.biases]\n",
    "        nabla_w = [np.zeros(w.shape) for w in self.weights]\n",
    "        for x, y in mini_batch:\n",
    "            delta_nabla_b, delta_nabla_w = self.backprop(x, y)\n",
    "            nabla_b = [nb+dnb for nb, dnb in zip(nabla_b, delta_nabla_b)]\n",
    "            nabla_w = [nw+dnw for nw, dnw in zip(nabla_w, delta_nabla_w)]\n",
    "        self.weights = [w-(eta/len(mini_batch))*nw\n",
    "                        for w, nw in zip(self.weights, nabla_w)]\n",
    "        self.biases = [b-(eta/len(mini_batch))*nb\n",
    "                       for b, nb in zip(self.biases, nabla_b)]\n",
    "\n",
    "    def backprop(self, x, y):\n",
    "        \"\"\"Return a tuple ``(nabla_b, nabla_w)`` representing the\n",
    "        gradient for the cost function C_x.  ``nabla_b`` and\n",
    "        ``nabla_w`` are layer-by-layer lists of numpy arrays, similar\n",
    "        to ``self.biases`` and ``self.weights``.\"\"\"\n",
    "        nabla_b = [np.zeros(b.shape) for b in self.biases]\n",
    "        nabla_w = [np.zeros(w.shape) for w in self.weights]\n",
    "        # feedforward\n",
    "        activation = x\n",
    "        activations = [x] # list to store all the activations, layer by layer\n",
    "        zs = [] # list to store all the z vectors, layer by layer\n",
    "        for b, w in zip(self.biases, self.weights):\n",
    "            z = np.dot(w, activation)+b\n",
    "            zs.append(z)\n",
    "            activation = sigmoid(z)\n",
    "            activations.append(activation)\n",
    "        # backward pass\n",
    "        sg_prime = sigmoid_prime(zs[-1])\n",
    "        cost_dev = self.cost_derivative(activations[-1], y)\n",
    "        delta = cost_dev * sg_prime\n",
    "        nabla_b[-1] = delta\n",
    "        #print delta.shape, activations[-2].transpose().shape\n",
    "        nabla_w[-1] = np.dot(delta, activations[-2].transpose())\n",
    "        # Note that the variable l in the loop below is used a little\n",
    "        # differently to the notation in Chapter 2 of the book.  Here,\n",
    "        # l = 1 means the last layer of neurons, l = 2 is the\n",
    "        # second-last layer, and so on.  It's a renumbering of the\n",
    "        # scheme in the book, used here to take advantage of the fact\n",
    "        # that Python can use negative indices in lists.\n",
    "        for l in xrange(2, self.num_layers):\n",
    "            z = zs[-l]\n",
    "            sp = sigmoid_prime(z)\n",
    "            delta = np.dot(self.weights[-l+1].transpose(), delta) * sp\n",
    "            nabla_b[-l] = delta\n",
    "            nabla_w[-l] = np.dot(delta, activations[-l-1].transpose())\n",
    "        return (nabla_b, nabla_w)\n",
    "\n",
    "    def evaluate(self, test_data):\n",
    "        \"\"\"Return the number of test inputs for which the neural\n",
    "        network outputs the correct result. Note that the neural\n",
    "        network's output is assumed to be the index of whichever\n",
    "        neuron in the final layer has the highest activation.\"\"\"\n",
    "        test_results = [(np.argmax(self.feedforward(x)), y)\n",
    "                        for (x, y) in test_data]\n",
    "\n",
    "        return sum(int(x == y) for (x, y) in test_results)\n",
    "    \n",
    "    def evaluate_test(self, test_data):\n",
    "        \"\"\"Return the number of test inputs for which the neural\n",
    "        network outputs the correct result. Note that the neural\n",
    "        network's output is assumed to be the index of whichever\n",
    "        neuron in the final layer has the highest activation.\"\"\"\n",
    "        test_results = [(np.argmax(self.feedforward(x)), y)\n",
    "                        for (x, y) in test_data]\n",
    "\n",
    "        return test_results\n",
    "\n",
    "    def cost_derivative(self, output_activations, y):\n",
    "        \"\"\"Return the vector of partial derivatives \\partial C_x /\n",
    "        \\partial a for the output activations.\"\"\"\n",
    "        return (output_activations-y)\n",
    "\n",
    "#### Miscellaneous functions\n",
    "def sigmoid(z):\n",
    "    \"\"\"The sigmoid function.\"\"\"\n",
    "    return 1.0/(1.0+np.exp(-z))\n",
    "\n",
    "def sigmoid_prime(z):\n",
    "    \"\"\"Derivative of the sigmoid function.\"\"\"\n",
    "    return sigmoid(z)*(1-sigmoid(z))"
   ]
  },
  {
   "cell_type": "markdown",
   "metadata": {},
   "source": [
    "### Training & Testing"
   ]
  },
  {
   "cell_type": "code",
   "execution_count": 42,
   "metadata": {
    "collapsed": true
   },
   "outputs": [],
   "source": [
    "NET = Network([128, 25, 5])\n",
    "def devectorize_result(arr):\n",
    "    return np.argmax(arr)\n",
    "def backPropagation():\n",
    "    \n",
    "    def vectorized_result(j):\n",
    "        e = np.zeros((5, 1))\n",
    "        e[j] = 1.0\n",
    "        return e\n",
    "    \n",
    "    def devectorize_result(arr):\n",
    "        return np.argmax(arr)\n",
    "\n",
    "    training_samples = []\n",
    "    training_labels = []\n",
    "    for key in TrainingData.keys():\n",
    "        kp, desc = getKeyDescPoints(TrainingData[key][\"image\"])\n",
    "        \n",
    "        for i in xrange(len(desc)):\n",
    "            training_samples.append(np.reshape(desc[i], (128,1)))\n",
    "            label = TrainingData[key][\"labels\"]\n",
    "            training_labels.append(vectorized_result(np.argmax(label[0])))\n",
    "    training_data = zip(training_samples, training_labels)\n",
    "    \n",
    "    testing_samples = []\n",
    "    testing_labels = []\n",
    "    \n",
    "    for key in TestingData.keys():\n",
    "        dp, desc = getKeyDescPoints(TestingData[key][\"image\"])\n",
    "        \n",
    "        for i in xrange(len(desc)):\n",
    "            testing_samples.append(np.reshape(desc[i], (128,1)))\n",
    "            testing_labels.append(devectorize_result(TestingData[key][\"labels\"][0]))\n",
    "\n",
    "    testing_data = zip(testing_samples, testing_labels)\n",
    "    \n",
    "    NET.SGD(training_data, 30, 100, 0.5, test_data=None)\n",
    "        "
   ]
  },
  {
   "cell_type": "code",
   "execution_count": 43,
   "metadata": {
    "collapsed": false
   },
   "outputs": [
    {
     "name": "stdout",
     "output_type": "stream",
     "text": [
      "Epoch 0 complete\n",
      "Epoch 1 complete\n",
      "Epoch 2 complete\n",
      "Epoch 3 complete\n",
      "Epoch 4 complete\n",
      "Epoch 5 complete\n",
      "Epoch 6 complete\n",
      "Epoch 7 complete\n",
      "Epoch 8 complete\n",
      "Epoch 9 complete\n",
      "Epoch 10 complete\n",
      "Epoch 11 complete\n",
      "Epoch 12 complete\n",
      "Epoch 13 complete\n",
      "Epoch 14 complete\n",
      "Epoch 15 complete\n",
      "Epoch 16 complete\n",
      "Epoch 17 complete\n",
      "Epoch 18 complete\n",
      "Epoch 19 complete\n",
      "Epoch 20 complete\n",
      "Epoch 21 complete\n",
      "Epoch 22 complete\n",
      "Epoch 23 complete\n",
      "Epoch 24 complete\n",
      "Epoch 25 complete\n",
      "Epoch 26 complete\n",
      "Epoch 27 complete\n",
      "Epoch 28 complete\n",
      "Epoch 29 complete\n"
     ]
    }
   ],
   "source": [
    "backPropagation()"
   ]
  },
  {
   "cell_type": "code",
   "execution_count": 60,
   "metadata": {
    "collapsed": false
   },
   "outputs": [
    {
     "name": "stdout",
     "output_type": "stream",
     "text": [
      "3 Car 4 Helicopter {0: 453, 1: 104, 2: 4, 3: 207, 4: 201}\n",
      "0 Cat {0: 786, 1: 106, 2: 2, 3: 252, 4: 264}\n",
      "0 Cat 2 Apple 4 Helicopter {0: 620, 1: 85, 2: 6, 3: 199, 4: 256}\n",
      "3 Car {0: 494, 1: 76, 2: 2, 3: 273, 4: 232}\n",
      "0 Cat 1 Laptop {0: 912, 1: 653, 2: 3, 3: 276, 4: 205}\n",
      "1 Laptop {0: 350, 1: 97, 3: 148, 4: 141}\n",
      "0 Cat 1 Laptop {0: 341, 1: 42, 2: 1, 3: 120, 4: 99}\n",
      "2 Apple {0: 52, 1: 6, 2: 1, 3: 18, 4: 14}\n",
      "0 Cat 1 Laptop {0: 380, 1: 98, 2: 1, 3: 190, 4: 197}\n",
      "1 Laptop 3 Car {0: 408, 1: 87, 2: 4, 3: 186, 4: 194}\n",
      "1 Laptop 2 Apple {0: 250, 1: 65, 3: 108, 4: 95}\n",
      "0 Cat 3 Car {0: 134, 1: 26, 2: 1, 3: 95, 4: 68}\n",
      "4 Helicopter {0: 169, 1: 32, 3: 53, 4: 44}\n",
      "0 Cat 3 Car {0: 544, 1: 122, 2: 3, 3: 237, 4: 221}\n"
     ]
    }
   ],
   "source": [
    "testing_samples = []\n",
    "testing_labels = []\n",
    "\n",
    "for key in TestingData.keys():\n",
    "    dp, desc = getKeyDescPoints(TestingData[key][\"image\"])\n",
    "\n",
    "    for i in xrange(len(desc)):\n",
    "        testing_samples.append(np.reshape(desc[i], (128,1)))\n",
    "        testing_labels.append(devectorize_result(TestingData[key][\"labels\"][0]))\n",
    "        \n",
    "    result = NET.evaluate_test(zip(testing_samples, testing_labels))\n",
    "    result_classes = {}\n",
    "    for (x, y) in result:\n",
    "        if x in result_classes:\n",
    "            result_classes[x] += 1\n",
    "        else:\n",
    "            result_classes[x] = 1\n",
    "    for label in TestingData[key][\"labels\"]:\n",
    "        ix = np.argmax(label)\n",
    "        print ix, getIndexWord(ix),\n",
    "    print result_classes\n",
    "            \n",
    "    \n",
    "        \n",
    "    testing_samples = []\n",
    "    testing_labels = []\n",
    "\n",
    "testing_data = zip(testing_samples, testing_labels)"
   ]
  },
  {
   "cell_type": "code",
   "execution_count": 44,
   "metadata": {
    "collapsed": false
   },
   "outputs": [
    {
     "name": "stdout",
     "output_type": "stream",
     "text": [
      "[(1, 3), (1, 3), (0, 3), (3, 3), (0, 3), (1, 3), (1, 3), (1, 3), (3, 3), (0, 3), (0, 3), (0, 3), (0, 3), (4, 3), (4, 3), (0, 3), (1, 3), (3, 3), (3, 3), (1, 3), (4, 3), (4, 3), (4, 3), (3, 3), (3, 3), (0, 3), (0, 3), (0, 3), (0, 3), (4, 3), (3, 3), (0, 3), (0, 3), (4, 3), (0, 3), (4, 3), (4, 3), (0, 3), (4, 3), (0, 3), (0, 3), (3, 3), (4, 3), (0, 3), (0, 3), (0, 3), (0, 3), (1, 3), (4, 3), (0, 3), (0, 3), (1, 3), (0, 3), (0, 3), (0, 3), (4, 3), (3, 3), (0, 3), (4, 3), (0, 3), (3, 3), (0, 3), (0, 3), (1, 3), (1, 3), (3, 3), (1, 3), (0, 3), (0, 3), (0, 3), (3, 3), (0, 3), (4, 3), (4, 3), (3, 3), (4, 3), (4, 3), (0, 3), (3, 3), (3, 3), (1, 3), (0, 3), (0, 3), (0, 3), (3, 3), (0, 3), (0, 3), (3, 3), (0, 3), (1, 3), (0, 3), (3, 3), (0, 3), (1, 3), (0, 3), (0, 3), (3, 3), (1, 3), (1, 3), (1, 3), (4, 3), (0, 3), (0, 3), (3, 3), (3, 3), (4, 3), (0, 3), (3, 3), (0, 3), (0, 3), (4, 3), (0, 3), (0, 3), (4, 3), (1, 3), (0, 3), (0, 3), (0, 3), (0, 3), (0, 3), (0, 3), (0, 3), (3, 3), (0, 3), (1, 3), (0, 3), (3, 3), (0, 3), (0, 3), (4, 3), (3, 3), (0, 3), (0, 3), (3, 3), (0, 3), (0, 3), (4, 3), (0, 3), (1, 3), (4, 3), (1, 3), (0, 3), (0, 3), (0, 3), (0, 3), (1, 3), (4, 3), (0, 3), (0, 3), (0, 3), (0, 3), (0, 3), (0, 3), (0, 3), (0, 3), (0, 3), (0, 3), (0, 3), (4, 3), (4, 3), (3, 3), (4, 3), (0, 3), (1, 3), (0, 3), (0, 3), (0, 3), (0, 3), (1, 3), (4, 3), (3, 3), (4, 3), (0, 3), (0, 3), (3, 3), (4, 3), (4, 3), (1, 3), (0, 3), (3, 3), (0, 3), (0, 3), (0, 3), (0, 3), (0, 3), (3, 3), (4, 3), (0, 3), (0, 3), (0, 3), (3, 3), (0, 3), (0, 3), (0, 3), (4, 3), (0, 3), (3, 3), (0, 3), (3, 3), (1, 3), (0, 3), (0, 3), (0, 3), (0, 3), (0, 3), (1, 3), (3, 3), (3, 3), (4, 3), (3, 3), (4, 3), (0, 3), (0, 3), (0, 3), (3, 3), (0, 3), (3, 3), (1, 3), (3, 3), (0, 3), (3, 3), (3, 3), (0, 3), (0, 3), (3, 3), (0, 3), (4, 3), (3, 3), (4, 3), (3, 3), (0, 3), (3, 3), (4, 3), (1, 3), (4, 3), (4, 3), (4, 3), (1, 3), (4, 3), (1, 3), (3, 3), (1, 3), (1, 3), (0, 3), (0, 3), (3, 3), (0, 3), (3, 3), (0, 3), (4, 3), (4, 3), (0, 3), (3, 3), (1, 3), (3, 3), (3, 3), (0, 3), (4, 3), (4, 3), (0, 3), (0, 3), (0, 3), (3, 3), (2, 3), (0, 3), (0, 3), (4, 3), (3, 3), (3, 3), (0, 3), (0, 3), (0, 3), (0, 3), (4, 3), (0, 3), (0, 3), (0, 3), (3, 3), (3, 3), (4, 3), (4, 3), (4, 3), (3, 3), (4, 3), (0, 3), (0, 3), (3, 3), (1, 3), (0, 3), (0, 3), (0, 3), (1, 3), (4, 3), (4, 3), (3, 3), (0, 3), (0, 3), (0, 3), (3, 3), (0, 3), (4, 3), (1, 3), (4, 3), (0, 3), (0, 3), (0, 3), (1, 3), (3, 3), (4, 3), (0, 3), (3, 3), (0, 3), (4, 3), (4, 3), (0, 3), (4, 3), (4, 3), (1, 3), (0, 3), (3, 3), (3, 3), (3, 3), (0, 3), (4, 3), (0, 3), (1, 3), (1, 3), (4, 3), (1, 3), (0, 3), (0, 3), (4, 3), (0, 3), (1, 3), (1, 3), (4, 3), (1, 3), (4, 3), (4, 3), (4, 3), (4, 3), (0, 3), (4, 3), (3, 3), (1, 3), (0, 3), (0, 3), (0, 3), (4, 3), (3, 3), (3, 3), (0, 3), (1, 3), (0, 3), (4, 3), (4, 3), (4, 3), (0, 3), (4, 3), (3, 3), (3, 3), (3, 3), (0, 3), (3, 3), (0, 3), (3, 3), (4, 3), (0, 3), (0, 3), (4, 3), (3, 3), (4, 3), (0, 3), (4, 3), (4, 3), (1, 3), (4, 3), (4, 3), (3, 3), (0, 3), (1, 3), (4, 3), (0, 3), (3, 3), (0, 3), (3, 3), (4, 3), (3, 3), (1, 3), (0, 3), (3, 3), (0, 3), (0, 3), (0, 3), (0, 3), (4, 3), (0, 3), (4, 3), (0, 3), (4, 3), (0, 3), (3, 3), (3, 3), (0, 3), (4, 3), (4, 3), (0, 3), (4, 3), (0, 3), (0, 3), (3, 3), (0, 3), (0, 3), (4, 3), (0, 3), (0, 3), (4, 3), (0, 3), (4, 3), (0, 3), (1, 3), (3, 3), (4, 3), (0, 3), (0, 3), (0, 3), (0, 3), (0, 3), (0, 3), (3, 3), (4, 3), (4, 3), (3, 3), (3, 3), (4, 3), (0, 3), (0, 3), (0, 3), (3, 3), (4, 3), (0, 3), (0, 3), (0, 3), (4, 3), (0, 3), (1, 3), (0, 3), (0, 3), (1, 3), (4, 3), (3, 3), (3, 3), (3, 3), (1, 3), (0, 3), (3, 3), (0, 3), (0, 3), (0, 3), (4, 3), (0, 3), (0, 3), (0, 3), (0, 3), (0, 3), (0, 3), (0, 3), (0, 3), (1, 3), (0, 3), (4, 3), (0, 3), (4, 3), (0, 3), (0, 3), (4, 3), (0, 3), (4, 3), (3, 3), (4, 3), (0, 3), (3, 3), (3, 3), (3, 3), (2, 3), (3, 3), (0, 3), (0, 3), (0, 3), (3, 3), (0, 3), (3, 3), (0, 3), (0, 3), (0, 3), (3, 3), (3, 3), (3, 3), (0, 3), (1, 3), (4, 3), (3, 3), (3, 3), (3, 3), (1, 3), (1, 3), (1, 3), (1, 3), (4, 3), (0, 3), (0, 3), (0, 3), (0, 3), (4, 3), (4, 3), (0, 3), (3, 3), (3, 3), (0, 3), (0, 3), (0, 3), (0, 3), (0, 3), (0, 3), (4, 3), (0, 3), (0, 3), (3, 3), (4, 3), (3, 3), (4, 3), (3, 3), (3, 3), (0, 3), (1, 3), (1, 3), (0, 3), (0, 3), (3, 3), (0, 3), (1, 3), (1, 3), (0, 3), (0, 3), (3, 3), (4, 3), (0, 3), (0, 3), (0, 3), (3, 3), (4, 3), (4, 3), (0, 3), (0, 3), (0, 3), (0, 3), (3, 3), (3, 3), (3, 3), (4, 3), (3, 3), (3, 3), (0, 3), (0, 3), (1, 3), (3, 3), (4, 3), (4, 3), (1, 3), (1, 3), (4, 3), (0, 3), (0, 3), (0, 3), (0, 3), (0, 3), (0, 3), (0, 3), (0, 3), (0, 3), (3, 3), (0, 3), (0, 3), (4, 3), (0, 3), (0, 3), (0, 3), (4, 3), (1, 3), (0, 3), (4, 3), (4, 3), (1, 3), (0, 3), (0, 3), (3, 3), (0, 3), (4, 3), (1, 3), (3, 3), (0, 3), (0, 3), (1, 3), (0, 3), (0, 3), (0, 3), (1, 3), (0, 3), (4, 3), (0, 3), (1, 3), (3, 3), (0, 3), (3, 3), (3, 3), (3, 3), (3, 3), (0, 3), (0, 3), (3, 3), (0, 3), (0, 3), (0, 3), (0, 3), (0, 3), (1, 3), (0, 3), (4, 3), (4, 3), (2, 3), (0, 3), (3, 3), (4, 3), (3, 3), (0, 3), (0, 3), (4, 3), (0, 3), (0, 3), (3, 3), (3, 3), (0, 3), (1, 3), (4, 3), (1, 3), (4, 3), (4, 3), (0, 3), (1, 3), (4, 3), (0, 3), (0, 3), (0, 3), (1, 3), (3, 3), (0, 3), (0, 3), (0, 3), (0, 3), (0, 3), (4, 3), (3, 3), (4, 3), (4, 3), (0, 3), (4, 3), (0, 3), (3, 3), (0, 3), (0, 3), (3, 3), (0, 3), (0, 3), (1, 3), (4, 3), (4, 3), (3, 3), (3, 3), (4, 3), (0, 3), (0, 3), (0, 3), (4, 3), (4, 3), (4, 3), (4, 3), (0, 3), (0, 3), (3, 3), (3, 3), (4, 3), (0, 3), (0, 3), (3, 3), (3, 3), (1, 3), (0, 3), (0, 3), (3, 3), (0, 3), (3, 3), (0, 3), (3, 3), (3, 3), (0, 3), (3, 3), (3, 3), (1, 3), (0, 3), (0, 3), (0, 3), (0, 3), (3, 3), (0, 3), (1, 3), (0, 3), (1, 3), (0, 3), (0, 3), (0, 3), (1, 3), (0, 3), (0, 3), (0, 3), (3, 3), (4, 3), (4, 3), (0, 3), (0, 3), (0, 3), (3, 3), (0, 3), (0, 3), (0, 3), (3, 3), (1, 3), (0, 3), (4, 3), (4, 3), (0, 3), (0, 3), (0, 3), (0, 3), (0, 3), (3, 3), (0, 3), (3, 3), (0, 3), (0, 3), (4, 3), (4, 3), (3, 3), (0, 3), (0, 3), (3, 3), (0, 3), (0, 3), (3, 3), (0, 3), (3, 3), (4, 3), (0, 3), (3, 3), (3, 3), (0, 3), (0, 3), (4, 3), (0, 3), (0, 3), (3, 3), (4, 3), (4, 3), (3, 3), (0, 3), (3, 3), (4, 3), (0, 3), (4, 3), (0, 3), (0, 3), (4, 3), (0, 3), (3, 3), (0, 3), (4, 3), (0, 3), (0, 3), (0, 3), (0, 3), (4, 3), (0, 3), (0, 3), (0, 3), (3, 3), (0, 3), (3, 3), (4, 3), (4, 3), (4, 3), (3, 3), (3, 3), (3, 3), (3, 3), (0, 3), (0, 3), (4, 3), (0, 3), (4, 3), (4, 3), (0, 3), (0, 3), (3, 3), (0, 3), (0, 3), (3, 3), (4, 3), (4, 3), (0, 3), (0, 3), (0, 3), (0, 3), (3, 3), (3, 3), (1, 3), (3, 3), (4, 3), (4, 3), (4, 3), (0, 3), (0, 3), (3, 3), (0, 3), (0, 3), (0, 3), (1, 3), (0, 3), (0, 3), (1, 3), (0, 3), (0, 3), (0, 3), (0, 3), (0, 3), (3, 3), (4, 3), (4, 3), (0, 3), (4, 3), (0, 3), (0, 3), (4, 3), (0, 3), (0, 3), (3, 3), (4, 3), (1, 3), (0, 3), (0, 3), (4, 3), (3, 3), (0, 3), (0, 3), (0, 3), (1, 3), (3, 3), (0, 3), (4, 3), (0, 3), (4, 3), (0, 3), (0, 3), (1, 3), (0, 3), (0, 3), (3, 3), (3, 3), (4, 3), (3, 3), (0, 3), (0, 3), (3, 3), (0, 3), (0, 3), (0, 3), (0, 3), (0, 3), (0, 3), (1, 3), (0, 3), (3, 3), (0, 3), (0, 3), (3, 3), (4, 3), (0, 3), (3, 3), (0, 3), (0, 3), (2, 3), (4, 3), (0, 3), (3, 3), (4, 3), (0, 3), (3, 3), (4, 3), (3, 3), (0, 3), (4, 3), (3, 3), (0, 3), (1, 3), (1, 3), (4, 3), (0, 3), (4, 3), (4, 3), (1, 3), (0, 3), (0, 3), (1, 3), (1, 3), (1, 3), (1, 3), (0, 3), (3, 3), (0, 3), (4, 3), (1, 3), (0, 3), (4, 3), (3, 3), (0, 3), (0, 3), (0, 3), (0, 3), (4, 3), (4, 3), (0, 3), (4, 3), (3, 3), (4, 3), (0, 3), (3, 3), (0, 3), (4, 3), (3, 3), (3, 3), (3, 3), (0, 3), (0, 3), (3, 3), (1, 3), (0, 3), (3, 3), (4, 3), (3, 3), (3, 3), (1, 3), (4, 3), (3, 3), (3, 3), (0, 3), (3, 3), (0, 3), (0, 3), (4, 3), (3, 3), (1, 3), (4, 0), (4, 0), (0, 0), (3, 0), (4, 0), (3, 0), (0, 0), (3, 0), (3, 0), (0, 0), (3, 0), (4, 0), (4, 0), (0, 0), (3, 0), (3, 0), (4, 0), (3, 0), (3, 0), (3, 0), (3, 0), (4, 0), (0, 0), (0, 0), (0, 0), (0, 0), (3, 0), (0, 0), (0, 0), (3, 0), (3, 0), (4, 0), (0, 0), (3, 0), (3, 0), (4, 0), (0, 0), (4, 0), (0, 0), (4, 0), (0, 0), (0, 0), (3, 0), (4, 0), (1, 0), (3, 0), (3, 0), (0, 0), (0, 0), (4, 0), (4, 0), (3, 0), (0, 0), (4, 0), (0, 0), (3, 0), (1, 0), (3, 0), (0, 0), (0, 0), (3, 0), (0, 0), (1, 0), (0, 0), (4, 0), (4, 0), (0, 0), (4, 0), (3, 0), (4, 0), (0, 0), (4, 0), (0, 0), (4, 0), (4, 0), (0, 0), (0, 0), (4, 0), (4, 0), (4, 0), (3, 0), (0, 0), (3, 0), (4, 0), (3, 0), (0, 0), (4, 0), (3, 0), (0, 0), (4, 0), (0, 0), (1, 0), (4, 0), (3, 0), (3, 0), (4, 0), (4, 0), (0, 0), (1, 0), (1, 0), (4, 0), (0, 0), (0, 0), (4, 0), (0, 0), (1, 0), (0, 0), (0, 0), (3, 0), (1, 0), (4, 0), (0, 0), (0, 0), (1, 0), (0, 0), (4, 0), (3, 0), (0, 0), (0, 0), (4, 0), (0, 0), (0, 0), (3, 0), (0, 0), (4, 0), (4, 0), (0, 0), (1, 0), (4, 0), (1, 0), (0, 0), (3, 0), (3, 0), (3, 0), (3, 0), (0, 0), (3, 0), (4, 0), (0, 0), (3, 0), (0, 0), (0, 0), (0, 0), (0, 0), (1, 0), (0, 0), (4, 0), (0, 0), (3, 0), (1, 0), (0, 0), (0, 0), (4, 0), (0, 0), (4, 0), (1, 0), (0, 0), (0, 0), (0, 0), (0, 0), (1, 0), (0, 0), (0, 0), (0, 0), (0, 0), (0, 0), (0, 0), (0, 0), (0, 0), (3, 0), (0, 0), (4, 0), (3, 0), (3, 0), (0, 0), (0, 0), (3, 0), (4, 0), (1, 0), (4, 0), (0, 0), (3, 0), (3, 0), (0, 0), (4, 0), (0, 0), (3, 0), (0, 0), (1, 0), (4, 0), (0, 0), (4, 0), (0, 0), (0, 0), (0, 0), (4, 0), (0, 0), (3, 0), (0, 0), (0, 0), (0, 0), (3, 0), (4, 0), (0, 0), (0, 0), (0, 0), (0, 0), (1, 0), (0, 0), (0, 0), (0, 0), (0, 0), (4, 0), (4, 0), (4, 0), (0, 0), (0, 0), (4, 0), (0, 0), (0, 0), (4, 0), (0, 0), (0, 0), (0, 0), (0, 0), (0, 0), (0, 0), (0, 0), (0, 0), (0, 0), (0, 0), (0, 0), (0, 0), (0, 0), (0, 0), (0, 0), (3, 0), (4, 0), (0, 0), (0, 0), (0, 0), (0, 0), (0, 0), (0, 0), (0, 0), (0, 0), (4, 0), (0, 0), (0, 0), (0, 0), (0, 0), (4, 0), (1, 0), (0, 0), (0, 0), (1, 0), (0, 0), (3, 0), (0, 0), (4, 0), (1, 0), (0, 0), (1, 0), (0, 0), (0, 0), (4, 0), (3, 0), (0, 0), (1, 0), (0, 0), (0, 0), (0, 0), (0, 0), (3, 0), (4, 0), (3, 0), (0, 0), (4, 0), (3, 0), (0, 0), (4, 0), (0, 0), (0, 0), (0, 0), (3, 0), (0, 0), (0, 0), (0, 0), (0, 0), (0, 0), (0, 0), (0, 0), (3, 0), (0, 0), (4, 0), (3, 0), (3, 0), (0, 0), (3, 0), (4, 0), (3, 0), (3, 0), (0, 0), (0, 0), (0, 0), (4, 0), (3, 0), (3, 0), (0, 0), (0, 0), (0, 0), (3, 0), (4, 0), (0, 0), (0, 0), (3, 0), (0, 0), (0, 0), (3, 0), (4, 0), (0, 0), (3, 0), (0, 0), (0, 0), (4, 0), (0, 0), (0, 0), (3, 0), (4, 0), (0, 0), (0, 0), (0, 0), (0, 0), (4, 0), (0, 0), (1, 0), (0, 0), (4, 0), (0, 0), (0, 0), (3, 0), (0, 0), (0, 0), (0, 0), (0, 0), (0, 0), (3, 0), (1, 0), (0, 0), (0, 0), (1, 0), (4, 0), (0, 0), (0, 0), (1, 0), (3, 0), (0, 0), (0, 0), (0, 0), (0, 0), (4, 0), (1, 0), (0, 0), (0, 0), (3, 0), (0, 0), (0, 0), (0, 0), (0, 0), (0, 0), (0, 0), (0, 0), (0, 0), (3, 0), (3, 0), (0, 0), (0, 0), (4, 0), (0, 0), (4, 0), (3, 0), (4, 0), (3, 0), (0, 0), (0, 0), (0, 0), (0, 0), (0, 0), (0, 0), (4, 0), (3, 0), (0, 0), (0, 0), (0, 0), (0, 0), (4, 0), (3, 0), (4, 0), (0, 0), (0, 0), (3, 0), (4, 0), (1, 0), (1, 0), (0, 0), (0, 0), (0, 0), (0, 0), (0, 0), (4, 0), (0, 0), (0, 0), (2, 0), (0, 0), (0, 0), (0, 0), (4, 0), (3, 0), (0, 0), (3, 0), (0, 0), (0, 0), (4, 0), (3, 0), (0, 0), (3, 0), (4, 0), (4, 0), (0, 0), (3, 0), (3, 0), (3, 0), (3, 0), (3, 0), (3, 0), (4, 0), (0, 0), (0, 0), (3, 0), (4, 0), (0, 0), (4, 0), (3, 0), (0, 0), (4, 0), (4, 0), (3, 0), (0, 0), (0, 0), (0, 0), (0, 0), (0, 0), (0, 0), (4, 0), (0, 0), (3, 0), (3, 0), (0, 0), (3, 0), (4, 0), (0, 0), (0, 0), (1, 0), (4, 0), (0, 0), (4, 0), (3, 0), (0, 0), (0, 0), (3, 0), (0, 0), (0, 0), (0, 0), (3, 0), (0, 0), (0, 0), (3, 0), (1, 0), (0, 0), (0, 0), (0, 0), (0, 0), (3, 0), (0, 0), (3, 0), (0, 0), (0, 0), (0, 0), (0, 0), (4, 0), (0, 0), (0, 0), (0, 0), (0, 0), (1, 0), (1, 0), (0, 0), (0, 0), (0, 0), (0, 0), (3, 0), (0, 0), (3, 0), (0, 0), (0, 0), (4, 0), (3, 0), (0, 0), (0, 0), (1, 0), (1, 0), (4, 0), (4, 0), (0, 0), (4, 0), (3, 0), (0, 0), (3, 0), (3, 0), (1, 0), (0, 0), (0, 0), (0, 0), (0, 0), (4, 0), (0, 0), (0, 0), (3, 0), (4, 0), (0, 0), (0, 0), (0, 0), (3, 0), (0, 0), (0, 0), (0, 0), (0, 0), (0, 0), (4, 0), (3, 0), (0, 0), (3, 0), (0, 0), (1, 0), (4, 0), (0, 0), (0, 0), (4, 0), (4, 0), (0, 0), (0, 0), (0, 0), (0, 0), (0, 0), (0, 0), (0, 0), (0, 0), (3, 0), (0, 0), (0, 0), (0, 0), (0, 0), (4, 0), (4, 0), (0, 0), (0, 0), (0, 0), (0, 0), (0, 0), (0, 0), (0, 0), (0, 0), (3, 0), (0, 0), (0, 0), (0, 0), (0, 0), (0, 0), (0, 0), (0, 0), (0, 0), (0, 0), (0, 0), (4, 0), (0, 0), (0, 0), (0, 0), (0, 0), (4, 0), (4, 0), (0, 0), (4, 0), (1, 0), (4, 0), (0, 0), (0, 0), (4, 0), (4, 0), (0, 0), (0, 0), (0, 0), (0, 0), (0, 0), (0, 0), (4, 0), (0, 0), (1, 0), (0, 0), (0, 0), (0, 0), (0, 0), (3, 0), (0, 0), (4, 0), (0, 0), (0, 0), (0, 0), (3, 0), (0, 0), (4, 0), (0, 0), (0, 0), (0, 0), (0, 0), (0, 0), (3, 0), (0, 0), (0, 0), (0, 0), (0, 0), (0, 0), (3, 0), (0, 0), (0, 0), (0, 0), (0, 0), (3, 0), (0, 0), (0, 0), (4, 0), (0, 0), (4, 0), (0, 0), (3, 0), (0, 0), (4, 0), (1, 0), (0, 0), (0, 0), (3, 0), (3, 0), (0, 0), (0, 0), (1, 0), (0, 0), (0, 0), (0, 0), (0, 0), (1, 0), (3, 0), (0, 0), (0, 0), (0, 0), (0, 0), (0, 0), (0, 0), (1, 0), (3, 0), (4, 0), (0, 0), (0, 0), (0, 0), (0, 0), (0, 0), (0, 0), (0, 0), (0, 0), (0, 0), (1, 0), (0, 0), (0, 0), (0, 0), (3, 0), (0, 0), (0, 0), (0, 0), (0, 0), (3, 0), (0, 0), (0, 0), (0, 0), (0, 0), (4, 0), (0, 0), (0, 0), (0, 0), (3, 0), (4, 0), (4, 0), (4, 0), (1, 0), (3, 0), (1, 0), (4, 0), (0, 0), (0, 0), (0, 0), (3, 0), (4, 0), (3, 0), (0, 0), (0, 0), (0, 0), (4, 0), (0, 0), (0, 0), (3, 0), (3, 0), (4, 0), (3, 0), (4, 0), (3, 0), (0, 0), (0, 0), (3, 0), (3, 0), (4, 0), (4, 0), (4, 0), (3, 0), (0, 0), (4, 0), (0, 0), (0, 0), (0, 0), (3, 0), (4, 0), (0, 0), (3, 0), (3, 0), (3, 0), (3, 0), (0, 0), (4, 0), (0, 0), (0, 0), (0, 0), (0, 0), (3, 0), (0, 0), (3, 0), (3, 0), (3, 0), (0, 0), (0, 0), (1, 0), (4, 0), (0, 0), (3, 0), (3, 0), (4, 0), (4, 0), (1, 0), (4, 0), (0, 0), (0, 0), (3, 0), (1, 0), (0, 0), (0, 0), (4, 0), (1, 0), (0, 0), (0, 0), (3, 0), (0, 0), (0, 0), (3, 0), (0, 0), (3, 0), (0, 0), (0, 0), (3, 0), (3, 0), (0, 0), (0, 0), (4, 0), (0, 0), (0, 0), (0, 0), (0, 0), (1, 0), (0, 0), (0, 0), (0, 0), (4, 0), (3, 0), (4, 0), (3, 0), (4, 0), (0, 0), (0, 0), (3, 0), (0, 0), (4, 0), (0, 0), (0, 0), (0, 0), (0, 0), (0, 0), (4, 0), (0, 0), (3, 0), (3, 0), (0, 0), (0, 0), (3, 0), (0, 0), (1, 0), (1, 0), (0, 0), (4, 0), (0, 0), (0, 0), (4, 0), (0, 0), (0, 0), (4, 0), (0, 0), (1, 0), (0, 0), (0, 0), (4, 0), (0, 0), (0, 0), (4, 0), (0, 0), (0, 0), (0, 0), (0, 0), (3, 0), (0, 0), (3, 0), (3, 0), (3, 0), (0, 0), (0, 0), (0, 0), (0, 0), (3, 0), (1, 0), (3, 0), (0, 0), (0, 0), (0, 0), (0, 0), (0, 0), (0, 0), (0, 0), (1, 0), (1, 0), (0, 0), (1, 0), (0, 0), (0, 0), (4, 0), (3, 0), (0, 0), (0, 0), (3, 0), (0, 0), (0, 0), (0, 0), (0, 0), (3, 0), (0, 0), (0, 0), (0, 0), (0, 0), (0, 0), (0, 0), (0, 0), (1, 0), (0, 0), (0, 0), (0, 0), (0, 0), (1, 0), (0, 0), (3, 0), (0, 0), (1, 0), (0, 0), (3, 0), (0, 0), (1, 0), (0, 0), (4, 0), (0, 0), (0, 0), (0, 0), (0, 0), (4, 0), (0, 0), (3, 0), (4, 0), (0, 0), (0, 0), (0, 0), (0, 0), (0, 0), (0, 0), (0, 0), (1, 0), (0, 0), (4, 0), (0, 0), (0, 0), (3, 0), (4, 0), (3, 0), (0, 0), (0, 0), (0, 0), (3, 0), (0, 0), (3, 0), (1, 0), (0, 0), (0, 0), (4, 0), (0, 0), (0, 0), (3, 0), (1, 0), (0, 0), (3, 0), (3, 0), (0, 0), (4, 0), (4, 0), (0, 0), (4, 0), (4, 0), (4, 0), (0, 0), (1, 0), (3, 0), (3, 0), (3, 0), (4, 0), (4, 0), (0, 0), (3, 0), (4, 0), (0, 0), (3, 0), (4, 0), (3, 0), (4, 0), (0, 0), (4, 0), (0, 0), (3, 0), (0, 0), (0, 0), (0, 0), (0, 0), (0, 0), (0, 0), (0, 0), (0, 0), (4, 0), (4, 0), (0, 0), (0, 0), (0, 0), (0, 0), (0, 0), (1, 0), (0, 0), (3, 0), (0, 0), (0, 0), (0, 0), (0, 0), (0, 0), (1, 0), (4, 0), (0, 0), (0, 0), (4, 0), (4, 0), (0, 0), (0, 0), (0, 0), (0, 0), (0, 0), (3, 0), (4, 0), (4, 0), (4, 0), (4, 0), (0, 0), (0, 0), (0, 0), (3, 0), (0, 0), (0, 0), (0, 0), (1, 0), (0, 0), (3, 0), (0, 0), (0, 0), (1, 0), (0, 0), (4, 0), (4, 0), (0, 0), (0, 0), (0, 0), (4, 0), (0, 0), (0, 0), (3, 0), (0, 0), (1, 0), (4, 0), (0, 0), (1, 0), (0, 0), (0, 0), (0, 0), (4, 0), (1, 0), (0, 0), (4, 0), (0, 0), (0, 0), (4, 0), (0, 0), (0, 0), (0, 0), (3, 0), (0, 0), (0, 0), (3, 0), (0, 0), (4, 0), (4, 0), (1, 0), (0, 0), (0, 0), (1, 0), (1, 0), (0, 0), (3, 0), (0, 0), (0, 0), (0, 0), (0, 0), (0, 0), (1, 0), (1, 0), (0, 0), (4, 0), (0, 0), (0, 0), (4, 0), (1, 0), (3, 0), (0, 0), (0, 0), (0, 0), (0, 0), (0, 0), (4, 0), (4, 0), (0, 0), (0, 0), (1, 0), (4, 0), (3, 0), (0, 0), (0, 0), (4, 0), (0, 0), (0, 0), (3, 0), (0, 0), (0, 0), (3, 0), (0, 0), (0, 0), (0, 0), (0, 0), (3, 0), (0, 0), (0, 0), (0, 0), (4, 0), (3, 0), (0, 0), (0, 0), (0, 0), (0, 0), (0, 0), (4, 0), (3, 0), (4, 0), (0, 0), (0, 0), (0, 0), (0, 0), (0, 0), (0, 0), (0, 0), (3, 0), (4, 0), (4, 0), (0, 0), (0, 0), (0, 0), (0, 0), (4, 0), (4, 0), (0, 0), (0, 0), (0, 0), (1, 0), (3, 0), (3, 0), (0, 0), (0, 0), (4, 0), (0, 0), (4, 0), (0, 0), (4, 0), (0, 0), (4, 0), (0, 0), (0, 0), (0, 0), (0, 0), (4, 0), (0, 0), (0, 0), (0, 0), (4, 0), (0, 0), (0, 0), (0, 0), (3, 0), (0, 0), (0, 0), (1, 0), (4, 0), (3, 0), (0, 0), (1, 0), (0, 0), (0, 0), (0, 0), (0, 0), (1, 0), (0, 0), (3, 0), (4, 0), (0, 0), (2, 0), (1, 0), (0, 0), (1, 0), (0, 0), (0, 0), (3, 0), (0, 0), (0, 0), (0, 0), (0, 0), (4, 0), (0, 0), (0, 0), (4, 0), (0, 0), (0, 0), (3, 0), (0, 0), (4, 0), (0, 0), (4, 0), (3, 0), (0, 0), (0, 0), (0, 0), (0, 0), (0, 0), (3, 0), (0, 0), (0, 0), (1, 0), (4, 0), (4, 0), (0, 0), (0, 0), (3, 0), (4, 0), (3, 0), (3, 0), (4, 0), (3, 0), (4, 0), (3, 0), (0, 0), (4, 0), (0, 0), (4, 0), (3, 0), (1, 0), (0, 0), (0, 0), (0, 0), (3, 0), (0, 0), (0, 0), (0, 0), (1, 0), (0, 0), (0, 0), (0, 0), (0, 0), (4, 0), (0, 0), (3, 0), (3, 0), (0, 0), (4, 0), (1, 0), (0, 0), (4, 0), (3, 0), (1, 0), (0, 0), (0, 0), (0, 0), (1, 0), (4, 0), (0, 0), (0, 0), (4, 0), (0, 0), (0, 0), (0, 0), (4, 0), (1, 0), (0, 0), (4, 0), (1, 0), (4, 0), (0, 0), (3, 0), (3, 0), (4, 0), (4, 0), (3, 0), (4, 0), (4, 0), (0, 0), (3, 0), (3, 0), (0, 0), (0, 0), (1, 0), (0, 0), (0, 0), (0, 0), (3, 0), (3, 0), (4, 0), (4, 0), (4, 0), (0, 0), (3, 0), (0, 0), (4, 0), (3, 0), (4, 0), (3, 0), (0, 0), (4, 0), (0, 0), (0, 0), (3, 0), (3, 0), (0, 0), (0, 0), (0, 0), (3, 0), (1, 0), (4, 0), (0, 0), (3, 0), (0, 0), (3, 0), (4, 0), (0, 0), (0, 0), (0, 0), (0, 0), (0, 0), (4, 0), (0, 0), (3, 0), (0, 0), (0, 0), (1, 0), (1, 0), (1, 0), (1, 0), (3, 0), (0, 0), (0, 0), (0, 0), (4, 0), (0, 0), (4, 0), (0, 0), (4, 0), (0, 0), (1, 0), (4, 0), (0, 0), (0, 0), (0, 0), (0, 0), (0, 0), (0, 0), (3, 0), (0, 0), (0, 0), (0, 0), (0, 0), (4, 0), (0, 0), (3, 0), (0, 0), (4, 0), (4, 0), (0, 0), (0, 0), (3, 0), (3, 0), (4, 0), (4, 0), (0, 0), (0, 0), (0, 0), (3, 0), (0, 0), (0, 0), (0, 0), (0, 0), (3, 0), (3, 0), (3, 0), (4, 0), (0, 0), (0, 0), (0, 0), (0, 0), (4, 0), (4, 0), (0, 0), (0, 0), (4, 0), (3, 0), (0, 0), (3, 0), (4, 0), (0, 0), (0, 0), (4, 0), (4, 0), (0, 0), (0, 0), (0, 0), (0, 0), (4, 0), (3, 0), (4, 0), (0, 0), (4, 0), (3, 0), (1, 0), (4, 0), (0, 0), (0, 0), (3, 0), (0, 0), (0, 0), (4, 0), (0, 0), (0, 0), (1, 0), (1, 0), (3, 0), (0, 0), (1, 0), (4, 0), (3, 0), (3, 0), (0, 0), (0, 0), (3, 0), (4, 0), (0, 0), (0, 0), (0, 0), (0, 0), (3, 0), (1, 0), (3, 0), (4, 0), (0, 0), (0, 0), (0, 0), (1, 0), (3, 0), (1, 0), (0, 0), (0, 0), (0, 0), (0, 0), (0, 0), (3, 0), (4, 0), (0, 0), (0, 0), (4, 0), (0, 0), (0, 0), (3, 0), (3, 0), (4, 0), (0, 0), (4, 0), (0, 0), (3, 0), (1, 0), (0, 0), (0, 0), (3, 0), (0, 0), (4, 0), (3, 0), (0, 0), (4, 0), (0, 0), (3, 0), (0, 0), (4, 0), (4, 0), (3, 0), (0, 0), (0, 0), (4, 0), (0, 0), (0, 0), (2, 0), (0, 0), (0, 0), (4, 0), (0, 0), (4, 0), (1, 0), (4, 0), (4, 0), (0, 0), (0, 0), (0, 0), (0, 0), (0, 0), (4, 0), (0, 0), (0, 0), (0, 0), (3, 0), (4, 0), (4, 0), (4, 0), (4, 0), (0, 0), (0, 0), (0, 0), (4, 0), (3, 0), (0, 0), (4, 0), (0, 0), (0, 0), (4, 0), (0, 0), (4, 0), (0, 0), (0, 0), (0, 0), (3, 0), (3, 0), (4, 0), (4, 0), (4, 0), (3, 0), (0, 0), (0, 0), (0, 0), (3, 0), (4, 0), (3, 0), (3, 0), (0, 0), (0, 0), (0, 0), (4, 0), (0, 0), (0, 0), (0, 0), (4, 0), (0, 0), (0, 0), (0, 0), (0, 0), (0, 0), (4, 0), (4, 0), (0, 0), (0, 0), (0, 0), (0, 0), (0, 0), (0, 0), (0, 0), (0, 0), (0, 0), (4, 0), (3, 0), (3, 0), (3, 0), (0, 0), (0, 0), (4, 0), (0, 0), (0, 0), (3, 0), (3, 0), (3, 0), (0, 0), (0, 0), (3, 0), (3, 0), (3, 0), (4, 0), (0, 0), (4, 0), (4, 0), (3, 0), (4, 0), (0, 0), (4, 0), (0, 0), (1, 0), (0, 0), (1, 0), (4, 0), (0, 0), (0, 0), (0, 0), (0, 0), (0, 0), (4, 0), (0, 0), (0, 0), (3, 0), (3, 0), (0, 0), (4, 0), (0, 0), (1, 0), (0, 0), (0, 0), (1, 0), (4, 0), (0, 0), (0, 0), (4, 0), (0, 0), (3, 0), (4, 0), (0, 0), (4, 0), (1, 0), (3, 0), (3, 0), (0, 0), (0, 0), (0, 0), (0, 0), (0, 0), (0, 0), (3, 0), (3, 0), (0, 0), (0, 0), (0, 0), (0, 0), (3, 0), (4, 0), (0, 0), (0, 0), (0, 0), (3, 0), (3, 0), (0, 0), (0, 0), (0, 0), (4, 0), (3, 0), (4, 0), (0, 0), (3, 0), (3, 0), (4, 0), (0, 0), (3, 0), (0, 0), (4, 0), (1, 0), (0, 0), (4, 0), (0, 0), (4, 0), (0, 0), (3, 0), (4, 0), (1, 0), (0, 0), (0, 0), (3, 0), (0, 0), (0, 0), (0, 0), (4, 0), (0, 0), (0, 0), (0, 0), (0, 0), (4, 0), (3, 0), (0, 0), (0, 0), (4, 0), (3, 0), (0, 0), (3, 0), (3, 0), (0, 0), (0, 0), (4, 0), (4, 0), (0, 0), (4, 0), (3, 0), (4, 0), (0, 0), (4, 0), (0, 0), (0, 0), (0, 0), (2, 0), (4, 0), (0, 0), (3, 0), (3, 0), (0, 0), (3, 0), (0, 0), (4, 0), (3, 0), (3, 0), (0, 0), (1, 0), (0, 0), (4, 0), (1, 0), (4, 0), (0, 0), (3, 0), (4, 0), (0, 0), (0, 0), (0, 0), (0, 0), (0, 0), (0, 0), (3, 0), (4, 0), (0, 0), (0, 0), (0, 0), (0, 0), (3, 0), (1, 0), (0, 0), (0, 0), (3, 0), (3, 0), (0, 0), (0, 0), (4, 0), (0, 0), (0, 0), (3, 0), (0, 0), (0, 0), (0, 0), (4, 0), (4, 0), (0, 0), (0, 0), (3, 0), (0, 0), (0, 0), (0, 0), (0, 0), (4, 0), (4, 0), (4, 0), (0, 0), (0, 0), (0, 0), (0, 0), (2, 0), (0, 0), (4, 0), (0, 0), (3, 0), (0, 0), (1, 0), (0, 0), (4, 0), (0, 0), (4, 0), (0, 0), (0, 0), (0, 0), (3, 0), (0, 0), (0, 0), (0, 0), (0, 0), (0, 0), (3, 0), (0, 0), (0, 0), (0, 0), (0, 0), (1, 0), (4, 0), (4, 0), (3, 0), (0, 0), (0, 0), (3, 0), (0, 0), (4, 0), (0, 0), (0, 0), (3, 0), (4, 0), (4, 0), (4, 0), (4, 0), (0, 0), (3, 0), (0, 0), (0, 0), (0, 0), (0, 0), (0, 0), (0, 0), (0, 0), (0, 0), (0, 0), (3, 0), (0, 0), (0, 0), (0, 0), (0, 0), (0, 0), (0, 0), (0, 0), (0, 0), (0, 0), (4, 0), (0, 0), (4, 0), (4, 0), (0, 0), (3, 0), (0, 0), (1, 0), (3, 0), (0, 0), (0, 0), (0, 0), (0, 0), (0, 0), (0, 0), (0, 0), (4, 0), (3, 0), (0, 0), (0, 0), (0, 0), (3, 0), (0, 0), (0, 0), (0, 0), (0, 0), (0, 0), (0, 0), (4, 0), (1, 0), (0, 0), (0, 0), (4, 0), (0, 0), (0, 0), (0, 0), (0, 0), (4, 0), (3, 0), (0, 0), (0, 0), (0, 0), (1, 0), (3, 0), (0, 0), (4, 0), (0, 0), (0, 0), (0, 0), (3, 0), (0, 0), (4, 0), (0, 0), (4, 0), (3, 0), (3, 0), (1, 0), (0, 0), (1, 0), (0, 0), (0, 0), (0, 0), (3, 0), (4, 0), (0, 0), (0, 0), (3, 0), (0, 0), (0, 0), (0, 0), (3, 0), (3, 0), (4, 0), (0, 0), (0, 0), (0, 0), (2, 0), (0, 0), (0, 0), (0, 0), (0, 0), (3, 0), (1, 0), (0, 0), (3, 0), (4, 0), (0, 0), (1, 0), (1, 0), (3, 0), (0, 0), (0, 0), (3, 0), (0, 0), (1, 0), (0, 0), (0, 0), (4, 0), (0, 0), (3, 0), (0, 0), (4, 0), (0, 0), (3, 0), (4, 0), (4, 0), (3, 0), (3, 0), (3, 0), (0, 0), (0, 0), (0, 0), (0, 0), (4, 0), (3, 0), (0, 0), (0, 0), (4, 0), (0, 0), (4, 0), (1, 0), (1, 0), (1, 0), (0, 0), (0, 0), (3, 0), (1, 0), (0, 0), (3, 0), (3, 0), (0, 0), (0, 0), (0, 0), (0, 0), (0, 0), (1, 0), (1, 0), (3, 0), (3, 0), (4, 0), (0, 0), (4, 0), (3, 0), (0, 0), (0, 0), (4, 0), (0, 0), (0, 0), (0, 0), (0, 0), (0, 0), (4, 0), (1, 0), (0, 0), (1, 0), (0, 0), (0, 0), (0, 0), (3, 0), (3, 0), (0, 0), (0, 0), (0, 0), (0, 0), (4, 0), (0, 0), (0, 0), (4, 0), (0, 0), (3, 0), (1, 0), (0, 0), (0, 0), (4, 0), (4, 0), (0, 0), (4, 0), (4, 0), (3, 0), (0, 0), (0, 0), (0, 0), (0, 0), (4, 0), (4, 0), (3, 0), (4, 0), (1, 0), (0, 0), (0, 0), (0, 0), (1, 0), (1, 0), (0, 0), (3, 0), (3, 0), (0, 0), (4, 0), (3, 0), (4, 0), (2, 0), (0, 0), (1, 0), (0, 0), (3, 0), (4, 0), (3, 0), (3, 0), (0, 0), (0, 0), (4, 0), (3, 0), (3, 0), (0, 0), (0, 0), (3, 0), (3, 0), (1, 0), (0, 0), (4, 0), (0, 0), (3, 0), (0, 0), (4, 0), (0, 0), (1, 0), (3, 0), (4, 0), (0, 0), (0, 0), (0, 0), (0, 0), (0, 0), (4, 0), (1, 0), (1, 0), (0, 0), (0, 0), (0, 0), (0, 0), (0, 0), (4, 0), (3, 0), (3, 0), (1, 0), (0, 0), (1, 0), (3, 0), (1, 0), (0, 0), (3, 0), (0, 0), (4, 0), (0, 0), (3, 0), (0, 0), (0, 0), (0, 0), (0, 0), (4, 0), (1, 0), (1, 0), (1, 0), (0, 0), (1, 0), (4, 0), (0, 0), (4, 0), (3, 0), (4, 0), (0, 0), (3, 0), (0, 0), (0, 0), (3, 0), (0, 0), (3, 0), (0, 0), (0, 0), (0, 0), (0, 0), (0, 0), (0, 0), (0, 0), (4, 0), (0, 0), (0, 0), (0, 0), (3, 0), (0, 0), (3, 0), (3, 0), (3, 0), (0, 0), (3, 0), (0, 0), (0, 0), (4, 0), (1, 0), (0, 0), (0, 0), (0, 0), (0, 0), (0, 0), (0, 0), (0, 0), (3, 0), (3, 0), (0, 0), (3, 0), (1, 0), (0, 0), (0, 0), (4, 0), (0, 0), (4, 0), (3, 0), (0, 0), (0, 0), (0, 0), (3, 0), (4, 0), (0, 0), (4, 0), (0, 0), (0, 0), (0, 0), (4, 0), (4, 0), (0, 0), (0, 0), (4, 0), (0, 0), (0, 0), (4, 0), (4, 0), (0, 0), (0, 0), (1, 0), (0, 0), (0, 0), (0, 0), (1, 0), (1, 0), (1, 0), (3, 0), (4, 0), (0, 0), (3, 0), (4, 0), (0, 0), (3, 0), (0, 0), (0, 0), (4, 0), (4, 0), (0, 0), (4, 0), (3, 0), (4, 0), (4, 0), (0, 0), (3, 0), (4, 0), (4, 0), (0, 0), (1, 0), (1, 0), (0, 0), (0, 0), (4, 0), (3, 0), (4, 0), (0, 0), (0, 0), (4, 0), (0, 0), (3, 0), (3, 0), (4, 0), (4, 0), (0, 0), (3, 0), (0, 0), (4, 0), (0, 0), (4, 0), (3, 0), (0, 0), (0, 0), (0, 0), (0, 0), (0, 0), (4, 0), (4, 0), (0, 0), (0, 0), (0, 0), (0, 0), (1, 0), (0, 0), (0, 0), (0, 0), (4, 0), (0, 0), (4, 0), (4, 0), (4, 0), (4, 0), (4, 0), (4, 0), (3, 0), (1, 0), (4, 0), (0, 0), (4, 0), (3, 0), (4, 0), (0, 0), (4, 0), (0, 0), (0, 0), (4, 0), (4, 0), (0, 0), (0, 0), (0, 0), (0, 0), (0, 0), (0, 0), (0, 0), (4, 0), (0, 0), (0, 0), (0, 0), (0, 0), (0, 0), (3, 0), (0, 0), (0, 0), (0, 0), (3, 0), (0, 0), (1, 0), (1, 0), (3, 0), (3, 0), (0, 0), (1, 0), (1, 0), (3, 0), (0, 0), (0, 0), (0, 0), (0, 0), (4, 0), (0, 0), (0, 0), (0, 0), (4, 0), (3, 0), (0, 0), (0, 0), (3, 0), (4, 0), (0, 0), (4, 0), (1, 0), (4, 0), (1, 0), (1, 0), (4, 0), (3, 0), (3, 0), (3, 0), (1, 0), (0, 0), (1, 0), (0, 0), (0, 0), (0, 0), (4, 0), (1, 0), (1, 0), (0, 0), (0, 0), (1, 0), (0, 0), (3, 0), (0, 0), (0, 0), (4, 0), (0, 0), (3, 0), (0, 0), (0, 0), (4, 0), (3, 0), (0, 0), (0, 0), (0, 0), (0, 0), (4, 0), (4, 0), (0, 0), (0, 0), (0, 0), (0, 0), (4, 0), (4, 0), (0, 0), (3, 0), (1, 0), (4, 0), (4, 0), (4, 0), (0, 0), (4, 0), (1, 0), (0, 0), (1, 0), (0, 0), (0, 0), (0, 0), (3, 0), (4, 0), (0, 0), (0, 0), (0, 0), (4, 0), (0, 0), (0, 0), (0, 0), (3, 0), (0, 0), (0, 0), (4, 0), (0, 0), (3, 0), (0, 0), (0, 0), (3, 0), (0, 0), (0, 0), (0, 0), (0, 0), (4, 0), (0, 0), (0, 0), (0, 0), (3, 0), (0, 0), (0, 0), (1, 0), (3, 0), (3, 0), (0, 0), (0, 0), (4, 0), (3, 0), (4, 0), (0, 0), (0, 0), (0, 0), (4, 0), (0, 0), (0, 0), (3, 0), (0, 0), (0, 0), (0, 0), (0, 0), (0, 0), (0, 0), (0, 0), (0, 0), (0, 0), (0, 0), (0, 0), (0, 0), (0, 0), (4, 0), (0, 0), (0, 0), (3, 0), (0, 0), (0, 0), (0, 0), (4, 0), (0, 0), (0, 0), (0, 0), (0, 0), (3, 0), (0, 0), (4, 0), (0, 0), (0, 0), (0, 0), (4, 0), (4, 0), (0, 0), (4, 0), (4, 0), (0, 0), (0, 0), (1, 0), (4, 0), (0, 0), (0, 0), (4, 0), (3, 0), (1, 0), (4, 0), (4, 0), (1, 0), (0, 0), (0, 0), (0, 0), (4, 0), (0, 0), (4, 0), (0, 0), (0, 0), (3, 0), (0, 0), (0, 0), (4, 0), (4, 0), (4, 0), (0, 0), (4, 0), (4, 0), (4, 0), (4, 0), (0, 0), (4, 0), (0, 0), (0, 0), (3, 0), (0, 0), (0, 0), (3, 0), (0, 0), (4, 0), (3, 0), (0, 0), (0, 0), (0, 0), (0, 0), (0, 0), (4, 0), (3, 0), (0, 0), (4, 0), (4, 0), (4, 0), (0, 0), (0, 0), (4, 0), (0, 0), (4, 0), (0, 0), (1, 0), (4, 0), (0, 0), (3, 0), (0, 0), (0, 0), (0, 0), (0, 0), (3, 0), (0, 0), (1, 0), (0, 0), (4, 0), (4, 0), (3, 0), (4, 0), (3, 0), (0, 0), (0, 0), (4, 0), (3, 0), (0, 0), (0, 0), (0, 0), (4, 0), (4, 0), (0, 0), (1, 0), (0, 0), (0, 0), (3, 0), (4, 0), (0, 0), (0, 0), (0, 0), (0, 0), (0, 0), (0, 0), (0, 0), (4, 0), (0, 0), (4, 0), (0, 0), (0, 0), (3, 0), (0, 0), (4, 0), (0, 0), (4, 0), (4, 0), (0, 0), (4, 0), (4, 0), (3, 0), (0, 0), (0, 0), (4, 0), (4, 0), (4, 0), (0, 0), (0, 0), (0, 0), (0, 0), (4, 0), (0, 0), (0, 0), (3, 0), (0, 0), (3, 0), (4, 0), (0, 0), (3, 0), (4, 0), (0, 0), (0, 0), (3, 0), (0, 0), (0, 0), (0, 0), (2, 0), (0, 0), (0, 0), (4, 0), (0, 0), (0, 0), (0, 0), (3, 0), (4, 0), (0, 0), (3, 0), (0, 0), (4, 0), (0, 0), (0, 0), (0, 0), (4, 0), (1, 0), (1, 0), (1, 0), (3, 0), (4, 0), (0, 0), (3, 0), (3, 0), (4, 0), (3, 0), (4, 0), (4, 0), (0, 0), (0, 3), (4, 3), (0, 3), (4, 3), (0, 3), (1, 3), (0, 3), (0, 3), (1, 3), (3, 3), (4, 3), (0, 3), (4, 3), (0, 3), (0, 3), (0, 3), (0, 3), (0, 3), (3, 3), (3, 3), (4, 3), (4, 3), (3, 3), (4, 3), (3, 3), (3, 3), (3, 3), (3, 3), (3, 3), (0, 3), (1, 3), (4, 3), (1, 3), (3, 3), (0, 3), (4, 3), (0, 3), (0, 3), (4, 3), (0, 3), (0, 3), (3, 3), (0, 3), (0, 3), (3, 3), (4, 3), (3, 3), (4, 3), (3, 3), (3, 3), (1, 3), (1, 3), (3, 3), (0, 3), (4, 3), (4, 3), (3, 3), (0, 3), (3, 3), (0, 3), (1, 3), (1, 3), (4, 3), (4, 3), (0, 3), (3, 3), (3, 3), (4, 3), (3, 3), (0, 3), (4, 3), (4, 3), (3, 3), (0, 3), (3, 3), (0, 3), (4, 3), (1, 3), (3, 3), (4, 3), (0, 3), (4, 3), (1, 3), (3, 3), (0, 3), (4, 3), (4, 3), (0, 3), (1, 3), (0, 3), (0, 3), (3, 3), (0, 3), (0, 3), (3, 3), (0, 3), (3, 3), (0, 3), (0, 3), (0, 3), (4, 3), (4, 3), (0, 3), (4, 3), (0, 3), (0, 3), (3, 3), (3, 3), (3, 3), (4, 3), (0, 3), (3, 3), (4, 3), (3, 3), (3, 3), (4, 3), (0, 3), (1, 3), (3, 3), (4, 3), (0, 3), (0, 3), (4, 3), (3, 3), (3, 3), (4, 3), (0, 3), (3, 3), (0, 3), (0, 3), (1, 3), (1, 3), (3, 3), (0, 3), (0, 3), (3, 3), (3, 3), (0, 3), (3, 3), (0, 3), (3, 3), (0, 3), (4, 3), (3, 3), (4, 3), (4, 3), (0, 3), (1, 3), (4, 3), (3, 3), (3, 3), (4, 3), (0, 3), (3, 3), (3, 3), (4, 3), (1, 3), (0, 3), (4, 3), (3, 3), (0, 3), (0, 3), (3, 3), (0, 3), (0, 3), (3, 3), (3, 3), (4, 3), (0, 3), (0, 3), (0, 3), (4, 3), (3, 3), (3, 3), (0, 3), (4, 3), (0, 3), (0, 3), (3, 3), (0, 3), (0, 3), (4, 3), (3, 3), (0, 3), (0, 3), (0, 3), (0, 3), (0, 3), (4, 3), (0, 3), (0, 3), (0, 3), (4, 3), (3, 3), (3, 3), (4, 3), (0, 3), (3, 3), (4, 3), (4, 3), (3, 3), (0, 3), (4, 3), (0, 3), (3, 3), (3, 3), (0, 3), (3, 3), (3, 3), (0, 3), (0, 3), (3, 3), (3, 3), (4, 3), (3, 3), (3, 3), (0, 3), (3, 3), (4, 3), (1, 3), (0, 3), (3, 3), (3, 3), (4, 3), (4, 3), (4, 3), (0, 3), (1, 3), (0, 3), (3, 3), (0, 3), (3, 3), (0, 3), (0, 3), (4, 3), (0, 3), (0, 3), (3, 3), (3, 3), (3, 3), (4, 3), (1, 3), (0, 3), (4, 3), (0, 3), (3, 3), (0, 3), (0, 3), (0, 3), (3, 3), (0, 3), (1, 3), (0, 3), (0, 3), (0, 3), (4, 3), (4, 3), (4, 3), (1, 3), (0, 3), (0, 3), (0, 3), (0, 3), (0, 3), (1, 3), (3, 3), (1, 3), (3, 3), (0, 3), (4, 3), (0, 3), (0, 3), (4, 3), (3, 3), (4, 3), (1, 3), (0, 3), (4, 3), (4, 3), (0, 3), (4, 3), (3, 3), (4, 3), (0, 3), (0, 3), (0, 3), (4, 3), (0, 3), (0, 3), (0, 3), (3, 3), (0, 3), (4, 3), (4, 3), (0, 3), (0, 3), (4, 3), (0, 3), (3, 3), (1, 3), (4, 3), (0, 3), (3, 3), (3, 3), (0, 3), (0, 3), (0, 3), (1, 3), (0, 3), (1, 3), (0, 3), (4, 3), (3, 3), (1, 3), (0, 3), (0, 3), (3, 3), (4, 3), (4, 3), (3, 3), (1, 3), (1, 3), (0, 3), (0, 3), (4, 3), (4, 3), (0, 3), (3, 3), (3, 3), (3, 3), (4, 3), (3, 3), (1, 3), (4, 3), (3, 3), (1, 3), (4, 3), (0, 3), (4, 3), (3, 3), (0, 3), (0, 3), (0, 3), (0, 3), (0, 3), (0, 3), (1, 3), (1, 3), (0, 3), (3, 3), (0, 3), (0, 3), (3, 3), (0, 3), (3, 3), (4, 3), (0, 3), (3, 3), (4, 3), (4, 3), (4, 3), (3, 3), (4, 3), (0, 3), (4, 3), (3, 3), (0, 3), (0, 3), (0, 3), (4, 3), (4, 3), (0, 3), (0, 3), (0, 3), (3, 3), (0, 3), (4, 3), (4, 3), (4, 3), (4, 3), (0, 3), (4, 3), (0, 3), (4, 3), (0, 3), (0, 3), (3, 3), (4, 3), (0, 3), (0, 3), (3, 3), (0, 3), (4, 3), (3, 3), (0, 3), (0, 3), (4, 3), (0, 3), (0, 3), (4, 3), (3, 3), (0, 3), (3, 3), (4, 3), (3, 3), (4, 3), (0, 3), (2, 3), (0, 3), (1, 3), (0, 3), (3, 3), (3, 3), (3, 3), (0, 3), (3, 3), (0, 3), (4, 3), (4, 3), (3, 3), (4, 3), (4, 3), (4, 3), (0, 3), (3, 3), (4, 3), (0, 3), (1, 3), (3, 3), (1, 3), (0, 3), (3, 3), (0, 3), (3, 3), (3, 3), (0, 3), (0, 3), (3, 3), (0, 3), (3, 3), (0, 3), (0, 3), (3, 3), (4, 3), (0, 3), (4, 3), (4, 3), (3, 3), (3, 3), (0, 3), (0, 3), (0, 3), (3, 3), (3, 3), (0, 3), (4, 3), (0, 3), (0, 3), (3, 3), (0, 3), (0, 3), (0, 3), (4, 3), (3, 3), (3, 3), (3, 3), (0, 3), (3, 3), (0, 3), (1, 3), (3, 3), (0, 3), (0, 3), (3, 3), (1, 3), (4, 3), (1, 3), (3, 3), (0, 3), (0, 3), (0, 3), (0, 3), (0, 3), (3, 3), (0, 3), (4, 3), (4, 3), (4, 3), (4, 3), (3, 3), (0, 3), (4, 3), (0, 3), (0, 3), (4, 3), (0, 3), (0, 3), (1, 3), (3, 3), (0, 3), (0, 3), (0, 3), (3, 3), (0, 3), (0, 3), (4, 3), (0, 3), (3, 3), (0, 3), (0, 3), (1, 3), (1, 3), (4, 3), (4, 3), (4, 3), (0, 3), (0, 3), (0, 3), (0, 3), (4, 3), (0, 3), (4, 3), (3, 3), (3, 3), (0, 3), (0, 3), (0, 3), (3, 3), (3, 3), (3, 3), (3, 3), (0, 3), (0, 3), (0, 3), (0, 3), (0, 3), (0, 3), (0, 3), (0, 3), (1, 3), (1, 3), (1, 3), (0, 3), (3, 3), (0, 3), (4, 3), (4, 3), (0, 3), (3, 3), (0, 3), (0, 3), (0, 3), (3, 3), (4, 3), (0, 3), (0, 3), (0, 3), (3, 3), (0, 3), (4, 3), (0, 3), (4, 3), (3, 3), (4, 3), (0, 3), (0, 3), (3, 3), (0, 3), (4, 3), (3, 3), (3, 3), (3, 3), (0, 3), (3, 3), (0, 3), (0, 3), (0, 3), (4, 3), (0, 3), (0, 3), (0, 3), (3, 3), (0, 3), (3, 3), (3, 3), (4, 3), (3, 3), (3, 3), (3, 3), (3, 3), (3, 3), (0, 3), (3, 3), (3, 3), (0, 3), (3, 3), (3, 3), (3, 3), (0, 3), (3, 3), (4, 3), (3, 3), (4, 3), (0, 3), (4, 3), (0, 3), (0, 3), (0, 3), (3, 3), (0, 3), (3, 3), (3, 3), (1, 3), (3, 3), (0, 3), (4, 3), (1, 3), (1, 3), (0, 3), (3, 3), (0, 3), (0, 3), (0, 3), (4, 3), (0, 3), (1, 3), (3, 3), (3, 3), (4, 3), (0, 3), (0, 3), (0, 3), (2, 3), (0, 3), (3, 3), (4, 3), (3, 3), (0, 3), (3, 3), (0, 3), (3, 3), (4, 3), (3, 3), (3, 3), (4, 3), (3, 3), (4, 3), (0, 3), (3, 3), (0, 3), (1, 3), (0, 3), (3, 3), (0, 3), (1, 3), (0, 3), (0, 3), (4, 3), (4, 3), (3, 3), (3, 3), (3, 3), (0, 3), (0, 3), (1, 3), (0, 3), (4, 3), (0, 3), (1, 3), (3, 3), (0, 3), (0, 3), (3, 3), (3, 3), (3, 3), (4, 3), (0, 3), (4, 3), (3, 3), (0, 3), (0, 3), (0, 3), (3, 3), (0, 3), (4, 3), (4, 3), (4, 3), (0, 3), (3, 3), (0, 3), (0, 3), (0, 3), (0, 3), (0, 3), (3, 3), (0, 3), (0, 3), (0, 3), (3, 3), (0, 3), (1, 3), (0, 3), (3, 3), (3, 3), (0, 3), (4, 3), (0, 3), (3, 3), (4, 3), (4, 3), (0, 3), (3, 3), (3, 3), (0, 3), (4, 3), (3, 3), (0, 3), (0, 3), (0, 3), (0, 3), (0, 3), (3, 3), (0, 3), (3, 3), (0, 3), (3, 3), (3, 3), (1, 3), (1, 3), (3, 3), (4, 3), (0, 3), (0, 3), (0, 3), (4, 3), (3, 3), (0, 3), (0, 3), (3, 3), (0, 3), (0, 3), (0, 3), (4, 3), (4, 3), (3, 3), (0, 3), (0, 3), (0, 3), (3, 3), (0, 3), (0, 3), (3, 3), (4, 3), (0, 3), (0, 3), (0, 3), (0, 3), (0, 3), (0, 3), (4, 3), (0, 3), (4, 3), (1, 3), (1, 3), (4, 3), (1, 3), (1, 3), (3, 3), (1, 3), (0, 3), (4, 3), (3, 3), (0, 3), (0, 3), (0, 3), (3, 3), (0, 3), (1, 3), (0, 3), (0, 3), (0, 3), (4, 3), (0, 3), (4, 3), (0, 3), (3, 3), (0, 3), (0, 3), (1, 3), (3, 3), (3, 3), (1, 3), (0, 3), (4, 3), (4, 3), (4, 3), (0, 3), (0, 3), (0, 3), (1, 3), (4, 3), (3, 3), (1, 3), (0, 3), (3, 3), (0, 3), (4, 3), (0, 3), (4, 3), (3, 3), (1, 3), (3, 3), (3, 3), (0, 3), (3, 3), (0, 3), (3, 3), (3, 3), (1, 3), (3, 3), (3, 3), (0, 3), (0, 3), (0, 3), (0, 3), (3, 3), (0, 3), (1, 3), (4, 3), (0, 3), (3, 3), (4, 3), (4, 3), (4, 3), (0, 3), (0, 3), (0, 3), (0, 3), (0, 3), (0, 3), (0, 3), (3, 3), (3, 3), (4, 3), (4, 3), (4, 3), (0, 3), (4, 3), (0, 3), (1, 3), (0, 3), (4, 3), (0, 3), (3, 3), (4, 3), (3, 3), (3, 3), (4, 3), (0, 3), (0, 3), (0, 3), (3, 3), (3, 3), (0, 3), (0, 3), (3, 3), (4, 3), (4, 3), (3, 3), (0, 3), (4, 3), (0, 3), (4, 3), (3, 3), (0, 3), (0, 3), (0, 3), (3, 3), (3, 3), (4, 3), (0, 3), (0, 3), (0, 3), (4, 3), (4, 3), (0, 3), (4, 3), (1, 3), (0, 3), (0, 3), (3, 3), (0, 3), (0, 3), (0, 3), (0, 3), (0, 3), (4, 3), (0, 3), (0, 3), (0, 3), (0, 3), (4, 3), (3, 3), (4, 3), (0, 3), (3, 3), (3, 3), (4, 3), (0, 3), (0, 3), (0, 3), (0, 3), (0, 3), (4, 3), (4, 3), (0, 3), (4, 3), (0, 3), (0, 3), (0, 3), (3, 3), (0, 3), (4, 3), (0, 3), (3, 3), (4, 3), (4, 3), (0, 3), (0, 3), (0, 3), (0, 3), (0, 3), (3, 3), (3, 3), (4, 3), (4, 3), (0, 3), (0, 3), (0, 3), (0, 3), (0, 3), (0, 3), (3, 3), (4, 3), (0, 3), (0, 3), (4, 3), (3, 3), (0, 3), (0, 3), (4, 3), (0, 3), (3, 3), (4, 3), (0, 3), (1, 3), (3, 3), (0, 3), (0, 3), (4, 3), (3, 3), (0, 3), (0, 3), (3, 3), (4, 3), (0, 3), (0, 3), (0, 3), (0, 3), (0, 3), (0, 3), (0, 3), (4, 3), (3, 3), (0, 3), (4, 3), (0, 3), (0, 3), (0, 3), (0, 3), (3, 3), (0, 3), (3, 3), (0, 3), (0, 3), (0, 3), (4, 3), (3, 3), (1, 3), (3, 3), (0, 3), (0, 3), (3, 3), (3, 3), (3, 3), (1, 3), (4, 3), (4, 3), (3, 3), (0, 3), (0, 3), (0, 3), (0, 3), (0, 3), (0, 3), (0, 3), (3, 3), (4, 3), (0, 3), (3, 3), (4, 3), (4, 3), (4, 3), (0, 3), (0, 3), (4, 3), (3, 3), (0, 3), (0, 3), (3, 3), (0, 3), (0, 3), (4, 3), (0, 3), (1, 3), (0, 3), (0, 3), (0, 3), (4, 3), (0, 3), (4, 3), (3, 3), (0, 3), (0, 3), (0, 3), (0, 3), (3, 3), (4, 3), (0, 3), (0, 3), (0, 3), (4, 3), (0, 3), (0, 3), (0, 3), (4, 3), (0, 3), (0, 3), (0, 3), (0, 3), (0, 3), (0, 3), (0, 3), (4, 3), (0, 3), (3, 3), (4, 3), (4, 3), (0, 3), (0, 3), (0, 3), (0, 3), (0, 3), (0, 3), (0, 3), (0, 3), (0, 3), (4, 3), (0, 3), (0, 3), (0, 3), (0, 3), (0, 3), (0, 3), (4, 3), (0, 3), (0, 3), (1, 0), (0, 0), (0, 0), (4, 0), (0, 0), (3, 0), (0, 0), (1, 0), (0, 0), (4, 0), (0, 0), (4, 0), (3, 0), (4, 0), (0, 0), (3, 0), (3, 0), (3, 0), (1, 0), (1, 0), (0, 0), (1, 0), (3, 0), (3, 0), (0, 0), (0, 0), (3, 0), (1, 0), (1, 0), (0, 0), (3, 0), (1, 0), (1, 0), (3, 0), (0, 0), (1, 0), (3, 0), (0, 0), (0, 0), (3, 0), (4, 0), (0, 0), (0, 0), (3, 0), (3, 0), (0, 0), (0, 0), (1, 0), (3, 0), (1, 0), (3, 0), (3, 0), (3, 0), (0, 0), (3, 0), (0, 0), (0, 0), (4, 0), (1, 0), (1, 0), (3, 0), (3, 0), (0, 0), (0, 0), (0, 0), (1, 0), (4, 0), (4, 0), (0, 0), (1, 0), (1, 0), (1, 0), (0, 0), (0, 0), (0, 0), (0, 0), (3, 0), (4, 0), (3, 0), (3, 0), (1, 0), (0, 0), (4, 0), (0, 0), (4, 0), (0, 0), (0, 0), (4, 0), (0, 0), (0, 0), (3, 0), (3, 0), (0, 0), (0, 0), (0, 0), (1, 0), (0, 0), (0, 0), (1, 0), (0, 0), (4, 0), (1, 0), (1, 0), (3, 0), (0, 0), (3, 0), (1, 0), (0, 0), (0, 0), (3, 0), (0, 0), (0, 0), (1, 0), (1, 0), (0, 0), (0, 0), (1, 0), (3, 0), (1, 0), (1, 0), (1, 0), (1, 0), (0, 0), (3, 0), (0, 0), (0, 0), (3, 0), (0, 0), (0, 0), (1, 0), (0, 0), (0, 0), (1, 0), (0, 0), (1, 0), (1, 0), (1, 0), (0, 0), (1, 0), (0, 0), (1, 0), (1, 0), (1, 0), (1, 0), (1, 0), (4, 0), (0, 0), (0, 0), (0, 0), (1, 0), (1, 0), (1, 0), (0, 0), (1, 0), (0, 0), (1, 0), (1, 0), (1, 0), (3, 0), (1, 0), (1, 0), (1, 0), (1, 0), (1, 0), (1, 0), (1, 0), (1, 0), (1, 0), (0, 0), (1, 0), (1, 0), (3, 0), (0, 0), (0, 0), (1, 0), (0, 0), (0, 0), (1, 0), (1, 0), (1, 0), (0, 0), (0, 0), (1, 0), (1, 0), (0, 0), (1, 0), (1, 0), (1, 0), (1, 0), (1, 0), (0, 0), (0, 0), (1, 0), (0, 0), (0, 0), (0, 0), (0, 0), (1, 0), (1, 0), (1, 0), (1, 0), (1, 0), (1, 0), (0, 0), (0, 0), (1, 0), (1, 0), (0, 0), (1, 0), (1, 0), (1, 0), (1, 0), (0, 0), (1, 0), (1, 0), (1, 0), (0, 0), (0, 0), (0, 0), (0, 0), (0, 0), (1, 0), (0, 0), (1, 0), (1, 0), (0, 0), (1, 0), (1, 0), (1, 0), (1, 0), (3, 0), (0, 0), (1, 0), (1, 0), (1, 0), (0, 0), (1, 0), (1, 0), (1, 0), (1, 0), (0, 0), (1, 0), (1, 0), (0, 0), (0, 0), (1, 0), (1, 0), (1, 0), (1, 0), (1, 0), (1, 0), (0, 0), (0, 0), (1, 0), (1, 0), (0, 0), (1, 0), (1, 0), (1, 0), (1, 0), (1, 0), (1, 0), (1, 0), (1, 0), (1, 0), (1, 0), (1, 0), (0, 0), (1, 0), (1, 0), (0, 0), (1, 0), (3, 0), (1, 0), (1, 0), (0, 0), (1, 0), (1, 0), (1, 0), (0, 0), (1, 0), (1, 0), (1, 0), (1, 0), (1, 0), (0, 0), (1, 0), (0, 0), (1, 0), (0, 0), (0, 0), (1, 0), (1, 0), (1, 0), (1, 0), (0, 0), (0, 0), (1, 0), (1, 0), (0, 0), (0, 0), (1, 0), (1, 0), (1, 0), (0, 0), (1, 0), (1, 0), (1, 0), (1, 0), (1, 0), (1, 0), (1, 0), (1, 0), (0, 0), (1, 0), (1, 0), (0, 0), (1, 0), (1, 0), (1, 0), (1, 0), (1, 0), (1, 0), (1, 0), (0, 0), (1, 0), (0, 0), (1, 0), (1, 0), (3, 0), (1, 0), (1, 0), (0, 0), (1, 0), (1, 0), (0, 0), (1, 0), (1, 0), (0, 0), (4, 0), (0, 0), (0, 0), (1, 0), (0, 0), (0, 0), (1, 0), (1, 0), (0, 0), (1, 0), (1, 0), (0, 0), (0, 0), (0, 0), (1, 0), (0, 0), (1, 0), (1, 0), (0, 0), (1, 0), (1, 0), (0, 0), (0, 0), (0, 0), (0, 0), (1, 0), (1, 0), (0, 0), (0, 0), (1, 0), (0, 0), (0, 0), (1, 0), (1, 0), (1, 0), (1, 0), (0, 0), (1, 0), (3, 0), (1, 0), (1, 0), (0, 0), (3, 0), (0, 0), (1, 0), (0, 0), (0, 0), (4, 0), (0, 0), (1, 0), (0, 0), (1, 0), (0, 0), (1, 0), (3, 0), (1, 0), (0, 0), (4, 0), (1, 0), (0, 0), (4, 0), (1, 0), (1, 0), (0, 0), (1, 0), (1, 0), (0, 0), (1, 0), (0, 0), (0, 0), (1, 0), (0, 0), (0, 0), (1, 0), (0, 0), (1, 0), (0, 0), (0, 0), (0, 0), (0, 0), (1, 0), (0, 0), (0, 0), (0, 0), (0, 0), (3, 0), (3, 0), (0, 0), (0, 0), (0, 0), (0, 0), (0, 0), (0, 0), (0, 0), (1, 0), (0, 0), (0, 0), (0, 0), (1, 0), (0, 0), (1, 0), (0, 0), (0, 0), (0, 0), (1, 0), (0, 0), (0, 0), (0, 0), (0, 0), (3, 0), (4, 0), (4, 0), (0, 0), (1, 0), (1, 0), (1, 0), (0, 0), (0, 0), (0, 0), (0, 0), (0, 0), (1, 0), (4, 0), (0, 0), (0, 0), (1, 0), (1, 0), (0, 0), (4, 0), (0, 0), (0, 0), (0, 0), (4, 0), (1, 0), (0, 0), (1, 0), (3, 0), (4, 0), (1, 0), (4, 0), (3, 0), (0, 0), (0, 0), (0, 0), (3, 0), (0, 0), (0, 0), (0, 0), (0, 0), (0, 0), (0, 0), (0, 0), (0, 0), (3, 0), (0, 0), (4, 0), (4, 0), (0, 0), (0, 0), (0, 0), (3, 0), (3, 0), (1, 0), (4, 0), (0, 0), (0, 0), (4, 0), (0, 0), (0, 0), (0, 0), (0, 0), (0, 0), (3, 0), (4, 0), (0, 0), (3, 0), (0, 0), (0, 0), (3, 0), (3, 0), (3, 0), (4, 0), (0, 0), (0, 0), (0, 0), (3, 0), (3, 0), (3, 0), (3, 0), (0, 0), (3, 0), (0, 0), (3, 0), (0, 0), (3, 0), (4, 0), (4, 0), (4, 0), (0, 0), (3, 0), (4, 0), (0, 0), (3, 0), (3, 0), (0, 0), (3, 0), (1, 0), (3, 0), (3, 0), (0, 0), (4, 0), (0, 0), (0, 0), (0, 0), (0, 0), (4, 0), (0, 0), (0, 0), (0, 0), (0, 0), (0, 0), (3, 0), (0, 0), (3, 0), (4, 0), (0, 0), (0, 0), (0, 0), (0, 0), (3, 0), (3, 0), (0, 0), (0, 0), (0, 0), (0, 0), (3, 0), (4, 0), (0, 0), (0, 0), (0, 0), (4, 0), (3, 0), (3, 0), (0, 0), (3, 0), (3, 0), (3, 0), (3, 0), (3, 0), (0, 0), (0, 0), (4, 0), (0, 0), (0, 0), (3, 0), (3, 0), (3, 0), (4, 0), (3, 0), (4, 0), (0, 0), (3, 0), (0, 0), (0, 0), (3, 0), (3, 0), (3, 0), (3, 0), (0, 0), (0, 0), (3, 0), (0, 0), (0, 0), (4, 0), (0, 0), (3, 0), (4, 0), (3, 0), (0, 0), (4, 0), (4, 0), (0, 0), (0, 0), (0, 0), (0, 0), (3, 0), (0, 0), (3, 0), (0, 0), (0, 0), (0, 0), (4, 0), (3, 0), (0, 0), (4, 0), (3, 0), (4, 0), (4, 0), (3, 0), (0, 0), (0, 0), (4, 0), (3, 0), (4, 0), (3, 0), (3, 0), (3, 0), (3, 0), (4, 0), (0, 0), (0, 0), (3, 0), (4, 0), (3, 0), (3, 0), (0, 0), (0, 0), (0, 0), (0, 0), (0, 0), (0, 0), (4, 0), (3, 0), (4, 0), (3, 0), (0, 0), (0, 0), (3, 0), (0, 0), (0, 0), (3, 0), (0, 0), (0, 0), (3, 0), (3, 0), (3, 0), (3, 0), (0, 0), (0, 0), (3, 0), (3, 0), (4, 0), (0, 0), (0, 0), (2, 0), (3, 0), (0, 0), (0, 0), (0, 0), (1, 0), (4, 0), (0, 0), (4, 0), (4, 0), (1, 0), (0, 0), (0, 0), (4, 0), (4, 0), (3, 0), (1, 0), (3, 0), (3, 0), (0, 0), (0, 0), (4, 0), (0, 0), (1, 0), (0, 0), (4, 0), (3, 0), (3, 0), (0, 0), (3, 0), (0, 0), (0, 0), (0, 0), (0, 0), (1, 0), (4, 0), (0, 0), (4, 0), (0, 0), (0, 0), (3, 0), (0, 0), (3, 0), (0, 0), (0, 0), (0, 0), (0, 0), (0, 0), (1, 0), (4, 0), (4, 0), (4, 0), (0, 0), (4, 0), (0, 0), (0, 0), (0, 0), (0, 0), (0, 0), (0, 0), (0, 0), (0, 0), (1, 0), (3, 0), (4, 0), (0, 0), (1, 0), (0, 0), (0, 0), (4, 0), (3, 0), (3, 0), (0, 0), (3, 0), (1, 0), (1, 0), (3, 0), (1, 0), (1, 0), (3, 0), (1, 0), (1, 0), (3, 0), (4, 0), (0, 0), (1, 0), (1, 0), (1, 0), (1, 0), (0, 0), (3, 0), (1, 0), (0, 0), (1, 0), (1, 0), (1, 0), (1, 0), (0, 0), (0, 0), (1, 0), (1, 0), (0, 0), (1, 0), (1, 0), (1, 0), (1, 0), (0, 0), (1, 0), (1, 0), (0, 0), (1, 0), (1, 0), (1, 0), (1, 0), (1, 0), (0, 0), (1, 0), (1, 0), (1, 0), (1, 0), (1, 0), (0, 0), (1, 0), (0, 0), (0, 0), (1, 0), (0, 0), (1, 0), (1, 0), (0, 0), (1, 0), (1, 0), (1, 0), (1, 0), (1, 0), (1, 0), (1, 0), (1, 0), (0, 0), (1, 0), (0, 0), (1, 0), (0, 0), (1, 0), (1, 0), (1, 0), (1, 0), (1, 0), (1, 0), (1, 0), (1, 0), (0, 0), (1, 0), (1, 0), (1, 0), (0, 0), (1, 0), (0, 0), (3, 0), (1, 0), (1, 0), (1, 0), (1, 0), (0, 0), (0, 0), (1, 0), (4, 0), (1, 0), (1, 0), (1, 0), (1, 0), (1, 0), (1, 0), (1, 0), (1, 0), (1, 0), (0, 0), (1, 0), (0, 0), (1, 0), (0, 0), (1, 0), (0, 0), (1, 0), (0, 0), (1, 0), (1, 0), (1, 0), (1, 0), (1, 0), (0, 0), (0, 0), (1, 0), (0, 0), (1, 0), (1, 0), (0, 0), (1, 0), (0, 0), (0, 0), (1, 0), (1, 0), (0, 0), (0, 0), (1, 0), (1, 0), (0, 0), (1, 0), (0, 0), (0, 0), (0, 0), (1, 0), (1, 0), (1, 0), (3, 0), (1, 0), (0, 0), (1, 0), (3, 0), (1, 0), (0, 0), (1, 0), (0, 0), (0, 0), (1, 0), (1, 0), (1, 0), (0, 0), (3, 0), (0, 0), (1, 0), (1, 0), (0, 0), (1, 0), (1, 0), (1, 0), (0, 0), (1, 0), (1, 0), (3, 0), (0, 0), (1, 0), (1, 0), (1, 0), (4, 0), (0, 0), (0, 0), (1, 0), (1, 0), (1, 0), (1, 0), (0, 0), (0, 0), (0, 0), (1, 0), (1, 0), (0, 0), (1, 0), (0, 0), (1, 0), (1, 0), (1, 0), (4, 0), (1, 0), (0, 0), (4, 0), (3, 0), (3, 0), (4, 0), (1, 0), (1, 0), (1, 0), (1, 0), (1, 0), (1, 0), (1, 0), (0, 0), (1, 0), (1, 0), (3, 0), (4, 0), (0, 0), (1, 0), (1, 0), (0, 0), (1, 0), (0, 0), (0, 0), (1, 0), (0, 0), (1, 0), (1, 0), (1, 0), (1, 0), (1, 0), (1, 0), (1, 0), (1, 0), (1, 0), (1, 0), (1, 0), (0, 0), (1, 0), (4, 0), (3, 0), (1, 0), (1, 0), (0, 0), (1, 0), (0, 0), (0, 0), (1, 0), (0, 0), (1, 0), (1, 0), (1, 0), (1, 0), (0, 0), (0, 0), (1, 0), (1, 0), (0, 0), (1, 0), (1, 0), (0, 0), (4, 0), (0, 0), (0, 0), (0, 0), (0, 0), (0, 0), (1, 0), (1, 0), (3, 0), (0, 0), (1, 0), (1, 0), (0, 0), (1, 0), (1, 0), (4, 0), (1, 0), (3, 0), (1, 0), (0, 0), (0, 0), (0, 0), (0, 0), (0, 0), (1, 0), (3, 0), (0, 0), (0, 0), (3, 0), (1, 0), (0, 0), (1, 0), (0, 0), (0, 0), (0, 0), (0, 0), (3, 0), (0, 0), (0, 0), (1, 0), (1, 0), (0, 0), (0, 0), (1, 0), (3, 0), (0, 0), (1, 0), (0, 0), (3, 0), (3, 0), (0, 0), (1, 0), (0, 0), (1, 0), (3, 0), (0, 0), (0, 0), (0, 0), (0, 0), (1, 0), (1, 0), (0, 0), (0, 0), (0, 0), (0, 0), (0, 0), (0, 0), (0, 0), (0, 0), (0, 0), (0, 0), (0, 0), (0, 0), (0, 0), (0, 0), (1, 0), (4, 0), (0, 0), (0, 0), (0, 0), (4, 0), (1, 0), (0, 0), (0, 0), (1, 0), (4, 0), (0, 0), (1, 0), (1, 0), (0, 0), (4, 0), (4, 0), (4, 0), (4, 0), (0, 0), (4, 0), (0, 0), (0, 0), (4, 0), (0, 0), (3, 0), (3, 0), (4, 0), (0, 0), (0, 0), (4, 0), (0, 0), (0, 0), (0, 0), (0, 0), (4, 0), (0, 0), (0, 0), (1, 0), (0, 0), (0, 0), (0, 0), (0, 0), (3, 0), (3, 0), (0, 0), (0, 0), (4, 0), (0, 0), (1, 0), (1, 0), (0, 0), (0, 0), (4, 0), (3, 0), (0, 0), (0, 0), (4, 0), (0, 0), (0, 0), (4, 0), (1, 0), (0, 0), (0, 0), (0, 0), (0, 0), (4, 0), (0, 0), (0, 0), (3, 0), (4, 0), (0, 0), (4, 0), (0, 0), (4, 0), (3, 0), (3, 0), (0, 0), (0, 0), (3, 0), (3, 0), (4, 0), (0, 0), (0, 0), (0, 0), (0, 0), (0, 0), (3, 0), (0, 0), (3, 0), (0, 0), (0, 0), (3, 0), (3, 0), (3, 0), (0, 0), (3, 0), (1, 0), (3, 0), (0, 0), (3, 0), (0, 0), (0, 0), (0, 0), (3, 0), (4, 0), (3, 0), (4, 0), (3, 0), (0, 0), (0, 0), (0, 0), (1, 0), (1, 0), (0, 0), (0, 0), (3, 0), (3, 0), (1, 0), (4, 0), (3, 0), (4, 0), (0, 0), (3, 0), (3, 0), (0, 0), (0, 0), (4, 0), (0, 0), (2, 0), (4, 0), (0, 0), (0, 0), (0, 0), (0, 0), (0, 0), (3, 0), (0, 0), (0, 0), (3, 0), (0, 0), (0, 0), (4, 0), (1, 0), (4, 0), (3, 0), (4, 0), (0, 0), (3, 0), (3, 0), (3, 0), (3, 0), (0, 0), (0, 0), (1, 0), (1, 0), (0, 0), (4, 0), (3, 0), (3, 0), (4, 0), (4, 0), (4, 0), (1, 0), (1, 0), (1, 0), (1, 0), (0, 0), (1, 0), (1, 0), (1, 0), (3, 0), (0, 0), (0, 0), (1, 0), (0, 0), (1, 0), (1, 0), (1, 0), (0, 0), (1, 0), (0, 0), (0, 0), (1, 0), (1, 0), (0, 0), (0, 0), (1, 0), (1, 0), (0, 0), (1, 0), (1, 0), (1, 0), (3, 0), (1, 0), (1, 0), (1, 0), (0, 0), (1, 0), (0, 0), (0, 0), (1, 0), (1, 0), (1, 0), (1, 0), (0, 0), (1, 0), (1, 0), (1, 0), (0, 0), (0, 0), (0, 0), (1, 0), (1, 0), (1, 0), (4, 0), (1, 0), (1, 0), (1, 0), (0, 0), (0, 0), (1, 0), (0, 0), (1, 0), (1, 0), (3, 0), (4, 0), (0, 0), (1, 0), (1, 0), (1, 0), (1, 0), (1, 0), (0, 0), (0, 0), (1, 0), (3, 0), (1, 0), (0, 0), (1, 0), (1, 0), (0, 0), (1, 0), (1, 0), (0, 0), (1, 0), (1, 0), (1, 0), (1, 0), (1, 0), (1, 0), (1, 0), (0, 0), (1, 0), (1, 0), (0, 0), (1, 0), (0, 0), (1, 0), (0, 0), (1, 0), (1, 0), (1, 0), (1, 0), (0, 0), (1, 0), (1, 0), (1, 0), (1, 0), (0, 0), (1, 0), (1, 0), (1, 0), (1, 0), (0, 0), (1, 0), (4, 0), (0, 0), (1, 0), (0, 0), (0, 0), (1, 0), (0, 0), (1, 0), (0, 0), (0, 0), (1, 0), (0, 0), (1, 0), (0, 0), (1, 0), (4, 0), (1, 0), (1, 0), (0, 0), (1, 0), (1, 0), (1, 0), (0, 0), (0, 0), (1, 0), (0, 0), (0, 0), (0, 0), (4, 0), (1, 0), (0, 0), (3, 0), (0, 0), (1, 0), (4, 0), (0, 0), (0, 0), (1, 0), (3, 0), (0, 0), (0, 0), (0, 0), (0, 0), (0, 0), (3, 0), (3, 0), (4, 0), (1, 0), (1, 0), (0, 0), (1, 0), (1, 0), (0, 0), (0, 0), (1, 0), (0, 0), (0, 0), (4, 0), (1, 0), (0, 0), (1, 0), (1, 0), (1, 0), (0, 0), (0, 0), (3, 0), (0, 0), (0, 0), (0, 0), (3, 0), (0, 0), (0, 0), (4, 0), (0, 0), (4, 0), (1, 0), (0, 0), (0, 0), (1, 0), (3, 0), (0, 0), (0, 0), (0, 0), (0, 0), (0, 0), (1, 0), (1, 0), (0, 0), (0, 0), (0, 0), (3, 0), (0, 0), (0, 0), (0, 0), (0, 0), (0, 0), (0, 0), (0, 0), (0, 0), (0, 0), (0, 0), (3, 0), (0, 0), (0, 0), (0, 0), (0, 0), (0, 0), (3, 0), (0, 0), (0, 0), (0, 0), (4, 0), (0, 0), (0, 0), (0, 0), (4, 0), (3, 0), (0, 0), (0, 0), (0, 0), (0, 0), (0, 0), (4, 0), (0, 0), (4, 0), (4, 0), (0, 0), (0, 0), (0, 0), (0, 0), (4, 0), (0, 0), (4, 0), (0, 0), (4, 0), (0, 0), (0, 0), (4, 0), (1, 0), (0, 0), (0, 0), (4, 0), (3, 0), (0, 0), (4, 0), (4, 0), (1, 0), (0, 0), (4, 0), (3, 0), (4, 0), (0, 0), (0, 0), (0, 0), (3, 0), (4, 0), (0, 0), (0, 0), (3, 0), (0, 0), (0, 0), (0, 0), (0, 0), (3, 0), (3, 0), (0, 0), (0, 0), (0, 0), (4, 0), (3, 0), (3, 0), (3, 0), (3, 0), (0, 0), (4, 0), (0, 0), (0, 0), (3, 0), (3, 0), (3, 0), (0, 0), (0, 0), (0, 0), (1, 0), (1, 0), (1, 0), (1, 0), (1, 0), (4, 0), (1, 0), (1, 0), (1, 0), (0, 0), (1, 0), (1, 0), (1, 0), (0, 0), (0, 0), (1, 0), (1, 0), (4, 0), (3, 0), (0, 0), (0, 0), (1, 0), (1, 0), (1, 0), (0, 0), (1, 0), (1, 0), (0, 0), (1, 0), (1, 0), (1, 0), (0, 0), (0, 0), (0, 0), (1, 0), (0, 0), (1, 0), (0, 0), (0, 0), (0, 0), (1, 0), (4, 0), (3, 0), (4, 0), (1, 0), (0, 0), (0, 0), (1, 0), (1, 0), (0, 0), (3, 0), (1, 0), (4, 0), (1, 0), (4, 0), (1, 0), (1, 0), (0, 0), (1, 0), (0, 0), (0, 0), (0, 0), (0, 0), (0, 0), (1, 0), (0, 0), (0, 0), (0, 0), (1, 0), (0, 0), (1, 0), (0, 0), (0, 0), (0, 0), (0, 0), (0, 0), (0, 0), (0, 0), (1, 0), (1, 0), (4, 0), (0, 0), (0, 0), (1, 0), (1, 0), (3, 0), (0, 0), (0, 0), (3, 0), (3, 0), (1, 0), (1, 0), (1, 0), (0, 0), (1, 0), (1, 0), (1, 0), (0, 0), (0, 0), (1, 0), (0, 0), (0, 0), (0, 0), (1, 0), (4, 0), (0, 0), (0, 0), (1, 0), (0, 0), (1, 0), (0, 0), (0, 0), (0, 0), (1, 0), (1, 0), (0, 0), (1, 0), (1, 0), (1, 0), (1, 0), (3, 0), (1, 0), (0, 0), (1, 0), (0, 0), (0, 0), (3, 0), (0, 0), (1, 0), (0, 0), (0, 0), (0, 0), (0, 0), (3, 0), (0, 0), (0, 0), (1, 0), (3, 0), (0, 0), (0, 0), (0, 0), (0, 0), (0, 0), (0, 0), (0, 0), (1, 0), (0, 0), (1, 0), (0, 0), (1, 0), (0, 0), (0, 0), (1, 0), (1, 0), (0, 0), (0, 0), (0, 0), (0, 0), (4, 0), (0, 0), (1, 0), (0, 0), (0, 0), (3, 0), (3, 0), (0, 0), (0, 0), (1, 0), (3, 0), (3, 0), (4, 0), (0, 0), (0, 0), (0, 0), (1, 0), (3, 0), (0, 0), (3, 0), (0, 0), (3, 0), (4, 0), (0, 0), (0, 0), (0, 0), (4, 0), (0, 0), (0, 0), (0, 0), (4, 0), (4, 0), (0, 0), (0, 0), (0, 0), (4, 0), (0, 0), (0, 0), (0, 0), (3, 0), (0, 0), (0, 0), (0, 0), (4, 0), (0, 0), (4, 0), (0, 0), (0, 0), (4, 0), (0, 0), (0, 0), (4, 0), (0, 0), (0, 0), (0, 0), (0, 0), (4, 0), (0, 0), (0, 0), (0, 0), (3, 0), (4, 0), (2, 0), (1, 0), (1, 0), (0, 0), (0, 0), (3, 0), (3, 0), (3, 0), (3, 0), (3, 0), (0, 0), (0, 0), (4, 0), (0, 0), (1, 0), (0, 0), (4, 0), (0, 0), (0, 0), (0, 0), (1, 0), (3, 0), (0, 0), (0, 0), (1, 0), (0, 0), (0, 0), (1, 0), (0, 0), (0, 0), (4, 0), (1, 0), (4, 0), (4, 0), (0, 0), (4, 0), (0, 0), (0, 0), (0, 0), (4, 0), (1, 0), (1, 0), (3, 0), (3, 0), (1, 0), (4, 0), (0, 0), (1, 0), (0, 0), (1, 0), (0, 0), (0, 0), (0, 0), (1, 0), (0, 0), (0, 0), (1, 0), (1, 0), (0, 0), (0, 0), (1, 0), (0, 0), (1, 0), (1, 0), (4, 0), (4, 0), (0, 0), (1, 0), (0, 0), (1, 0), (0, 0), (0, 0), (1, 0), (0, 0), (1, 0), (1, 0), (0, 0), (1, 0), (1, 0), (0, 0), (1, 0), (1, 0), (1, 0), (1, 0), (0, 0), (0, 0), (1, 0), (0, 0), (0, 0), (0, 0), (0, 0), (3, 0), (1, 0), (0, 0), (0, 0), (1, 0), (4, 0), (0, 0), (1, 0), (1, 0), (1, 0), (0, 0), (1, 0), (1, 0), (0, 0), (0, 0), (0, 0), (1, 0), (1, 0), (0, 0), (1, 0), (0, 0), (1, 0), (1, 0), (1, 0), (1, 0), (0, 0), (4, 0), (1, 0), (4, 0), (1, 0), (0, 0), (0, 0), (0, 0), (1, 0), (1, 0), (0, 0), (0, 0), (0, 0), (0, 0), (0, 0), (0, 0), (4, 0), (0, 0), (1, 0), (3, 0), (1, 0), (0, 0), (0, 0), (3, 0), (0, 0), (1, 0), (0, 0), (4, 0), (3, 0), (0, 0), (0, 0), (0, 0), (4, 0), (0, 0), (3, 0), (0, 0), (3, 0), (3, 0), (3, 0), (3, 0), (1, 0), (4, 0), (3, 0), (0, 0), (0, 0), (0, 0), (3, 0), (0, 0), (1, 0), (0, 0), (0, 0), (0, 0), (0, 0), (0, 0), (0, 0), (0, 0), (0, 0), (0, 0), (0, 0), (0, 0), (0, 0), (0, 0), (4, 0), (3, 0), (4, 0), (0, 0), (4, 0), (0, 0), (0, 0), (0, 0), (3, 0), (3, 0), (3, 0), (4, 0), (4, 0), (0, 0), (0, 0), (4, 0), (3, 0), (0, 0), (0, 0), (0, 0), (3, 0), (0, 0), (3, 0), (4, 0), (0, 0), (3, 0), (4, 0), (0, 0), (4, 0), (3, 0), (4, 0), (0, 0), (3, 0), (3, 0), (3, 0), (0, 0), (0, 0), (4, 0), (1, 0), (0, 0), (4, 0), (0, 0), (3, 0), (0, 0), (0, 0), (4, 0), (1, 0), (0, 0), (0, 0), (1, 0), (0, 0), (3, 0), (3, 0), (3, 0), (0, 0), (4, 0), (0, 0), (0, 0), (0, 0), (3, 0), (1, 0), (3, 0), (0, 0), (0, 0), (4, 0), (0, 0), (4, 0), (0, 0), (3, 0), (0, 0), (0, 0), (0, 0), (0, 0), (3, 0), (3, 0), (3, 0), (0, 0), (0, 0), (4, 0), (0, 0), (0, 0), (0, 0), (3, 0), (0, 0), (3, 0), (4, 0), (0, 0), (1, 0), (0, 0), (4, 0), (0, 0), (0, 0), (4, 0), (4, 0), (0, 0), (0, 0), (0, 0), (0, 0), (3, 0), (0, 0), (3, 0), (0, 0), (0, 0), (4, 0), (4, 0), (0, 0), (0, 0), (0, 0), (0, 0), (1, 1), (0, 1), (1, 1), (4, 1), (0, 1), (0, 1), (3, 1), (3, 1), (1, 1), (4, 1), (4, 1), (0, 1), (4, 1), (1, 1), (1, 1), (4, 1), (1, 1), (0, 1), (0, 1), (3, 1), (3, 1), (0, 1), (4, 1), (0, 1), (0, 1), (0, 1), (0, 1), (3, 1), (0, 1), (0, 1), (0, 1), (0, 1), (3, 1), (4, 1), (3, 1), (0, 1), (3, 1), (3, 1), (4, 1), (0, 1), (0, 1), (0, 1), (4, 1), (0, 1), (0, 1), (3, 1), (0, 1), (4, 1), (3, 1), (4, 1), (0, 1), (3, 1), (0, 1), (1, 1), (3, 1), (3, 1), (0, 1), (4, 1), (0, 1), (0, 1), (0, 1), (0, 1), (0, 1), (1, 1), (0, 1), (4, 1), (3, 1), (0, 1), (0, 1), (0, 1), (1, 1), (4, 1), (0, 1), (3, 1), (4, 1), (0, 1), (3, 1), (0, 1), (4, 1), (0, 1), (0, 1), (0, 1), (4, 1), (4, 1), (4, 1), (3, 1), (4, 1), (3, 1), (0, 1), (0, 1), (3, 1), (0, 1), (0, 1), (3, 1), (0, 1), (1, 1), (3, 1), (4, 1), (4, 1), (4, 1), (3, 1), (0, 1), (0, 1), (0, 1), (4, 1), (0, 1), (3, 1), (4, 1), (3, 1), (3, 1), (4, 1), (3, 1), (1, 1), (0, 1), (0, 1), (1, 1), (3, 1), (0, 1), (1, 1), (1, 1), (4, 1), (0, 1), (0, 1), (1, 1), (0, 1), (0, 1), (3, 1), (3, 1), (3, 1), (0, 1), (4, 1), (0, 1), (1, 1), (4, 1), (0, 1), (0, 1), (0, 1), (4, 1), (0, 1), (1, 1), (0, 1), (0, 1), (0, 1), (3, 1), (0, 1), (0, 1), (4, 1), (1, 1), (0, 1), (4, 1), (1, 1), (4, 1), (4, 1), (0, 1), (4, 1), (0, 1), (3, 1), (0, 1), (0, 1), (3, 1), (0, 1), (0, 1), (0, 1), (0, 1), (4, 1), (0, 1), (3, 1), (4, 1), (0, 1), (4, 1), (0, 1), (1, 1), (3, 1), (3, 1), (3, 1), (4, 1), (0, 1), (0, 1), (4, 1), (4, 1), (0, 1), (0, 1), (0, 1), (4, 1), (0, 1), (3, 1), (3, 1), (4, 1), (3, 1), (3, 1), (4, 1), (0, 1), (3, 1), (4, 1), (4, 1), (0, 1), (4, 1), (0, 1), (0, 1), (3, 1), (0, 1), (3, 1), (4, 1), (0, 1), (4, 1), (1, 1), (0, 1), (4, 1), (0, 1), (0, 1), (0, 1), (3, 1), (0, 1), (4, 1), (0, 1), (0, 1), (0, 1), (3, 1), (3, 1), (3, 1), (0, 1), (0, 1), (0, 1), (0, 1), (0, 1), (0, 1), (0, 1), (0, 1), (0, 1), (0, 1), (0, 1), (0, 1), (0, 1), (4, 1), (0, 1), (1, 1), (1, 1), (0, 1), (4, 1), (4, 1), (0, 1), (1, 1), (0, 1), (3, 1), (0, 1), (0, 1), (4, 1), (1, 1), (0, 1), (3, 1), (3, 1), (3, 1), (1, 1), (0, 1), (0, 1), (3, 1), (3, 1), (3, 1), (4, 1), (0, 1), (1, 1), (0, 1), (0, 1), (1, 1), (0, 1), (4, 1), (0, 1), (1, 1), (4, 1), (1, 1), (0, 1), (0, 1), (1, 1), (1, 1), (0, 1), (3, 1), (0, 1), (3, 1), (1, 1), (1, 1), (1, 1), (3, 1), (4, 1), (1, 1), (4, 1), (0, 1), (0, 1), (1, 1), (4, 1), (0, 1), (0, 1), (0, 1), (3, 1), (3, 1), (1, 1), (3, 1), (0, 1), (0, 1), (0, 1), (1, 1), (4, 1), (0, 1), (3, 1), (3, 1), (0, 1), (3, 1), (0, 1), (0, 1), (0, 1), (0, 1), (0, 1), (0, 1), (1, 1), (3, 1), (0, 1), (0, 1), (0, 1), (0, 1), (3, 1), (0, 1), (0, 1), (4, 1), (0, 1), (0, 1), (4, 1), (0, 1), (4, 1), (4, 1), (0, 1), (0, 1), (1, 1), (1, 1), (4, 1), (0, 1), (0, 1), (4, 1), (4, 1), (0, 1), (3, 1), (0, 1), (4, 1), (4, 1), (4, 1), (0, 1), (0, 1), (3, 1), (0, 1), (0, 1), (0, 1), (0, 1), (1, 1), (0, 1), (1, 1), (0, 1), (0, 1), (1, 1), (1, 1), (1, 1), (0, 1), (0, 1), (0, 1), (3, 1), (4, 1), (0, 1), (1, 1), (4, 1), (0, 1), (1, 1), (0, 1), (0, 1), (4, 1), (0, 1), (1, 1), (0, 1), (0, 1), (1, 1), (4, 1), (4, 1), (4, 1), (1, 1), (1, 1), (0, 1), (3, 1), (3, 1), (1, 1), (0, 1), (0, 1), (0, 1), (0, 1), (4, 1), (4, 1), (0, 1), (0, 1), (4, 1), (4, 1), (3, 1), (3, 1), (0, 1), (1, 1), (3, 1), (0, 1), (0, 1), (3, 1), (0, 1), (4, 1), (0, 1), (3, 1), (1, 1), (3, 1), (4, 1), (0, 1), (0, 1), (4, 1), (3, 1), (4, 1), (3, 1), (0, 1), (4, 1), (0, 1), (3, 1), (1, 1), (1, 1), (0, 1), (3, 1), (1, 1), (1, 1), (0, 1), (0, 1), (0, 1), (1, 1), (1, 1), (1, 1), (0, 1), (0, 1), (4, 1), (0, 1), (1, 1), (1, 1), (3, 1), (0, 1), (0, 1), (0, 1), (3, 1), (0, 1), (4, 1), (3, 1), (4, 1), (4, 1), (0, 1), (0, 1), (3, 1), (0, 1), (0, 1), (4, 1), (0, 1), (3, 1), (1, 1), (1, 1), (0, 1), (0, 1), (3, 1), (0, 1), (0, 1), (1, 1), (0, 1), (0, 1), (0, 1), (3, 1), (0, 1), (0, 1), (0, 1), (3, 1), (3, 1), (0, 1), (3, 1), (3, 1), (3, 1), (3, 1), (4, 1), (0, 1), (0, 1), (4, 1), (4, 1), (0, 1), (0, 1), (3, 1), (0, 1), (3, 1), (0, 1), (1, 1), (0, 1), (4, 1), (0, 1), (4, 1), (0, 1), (0, 1), (0, 1), (0, 1), (0, 1), (0, 1), (4, 1), (0, 1), (0, 1), (4, 1), (0, 1), (1, 1), (0, 1), (0, 1), (0, 1), (0, 1), (0, 1), (3, 1), (0, 1), (0, 1), (0, 1), (0, 1), (4, 1), (1, 1), (0, 1), (4, 1), (0, 1), (0, 1), (4, 1), (1, 1), (0, 1), (3, 1), (0, 1), (1, 1), (0, 1), (0, 1), (0, 1), (0, 1), (1, 1), (1, 1), (4, 1), (4, 1), (3, 1), (0, 1), (0, 1), (3, 1), (3, 1), (0, 1), (1, 1), (1, 1), (1, 1), (0, 1), (4, 1), (0, 1), (0, 1), (1, 1), (0, 1), (0, 1), (0, 1), (0, 1), (0, 1), (0, 1), (4, 1), (3, 1), (3, 1), (4, 1), (0, 1), (4, 1), (1, 1), (4, 1), (0, 1), (0, 1), (0, 1), (3, 1), (0, 1), (3, 1), (0, 1), (0, 1), (0, 1), (0, 1), (4, 1), (3, 1), (0, 1), (0, 1), (0, 1), (3, 1), (3, 1), (0, 1), (0, 1), (4, 1), (4, 1), (0, 1), (3, 1), (3, 1), (3, 1), (4, 1), (4, 1), (3, 1), (3, 1), (0, 1), (0, 1), (0, 1), (1, 1), (1, 1), (3, 1), (3, 1), (3, 1), (0, 1), (0, 1), (0, 1), (0, 1), (1, 1), (0, 1), (4, 1), (4, 1), (1, 1), (4, 1), (1, 1), (0, 1), (0, 1), (0, 1), (0, 1), (3, 1), (3, 1), (1, 1), (0, 1), (0, 1), (0, 1), (4, 1), (4, 1), (1, 1), (1, 1), (4, 1), (0, 1), (0, 1), (0, 1), (4, 1), (4, 1), (0, 1), (3, 1), (4, 1), (0, 1), (3, 1), (3, 1), (0, 1), (4, 1), (3, 1), (3, 1), (3, 1), (4, 1), (4, 1), (3, 1), (0, 1), (3, 1), (4, 1), (0, 1), (3, 1), (1, 1), (0, 1), (1, 1), (0, 1), (0, 1), (0, 1), (4, 1), (0, 1), (0, 1), (0, 1), (3, 1), (0, 1), (0, 1), (0, 1), (0, 1), (3, 1), (4, 1), (0, 1), (0, 1), (1, 1), (0, 1), (0, 1), (0, 1), (4, 1), (4, 1), (0, 1), (3, 1), (3, 1), (0, 1), (0, 1), (4, 1), (0, 1), (3, 1), (0, 1), (0, 1), (0, 1), (4, 1), (0, 1), (3, 1), (0, 1), (0, 1), (0, 1), (3, 1), (3, 1), (4, 1), (0, 1), (0, 1), (0, 1), (1, 1), (1, 1), (0, 1), (0, 1), (0, 1), (0, 1), (0, 1), (3, 1), (3, 1), (3, 1), (0, 1), (0, 1), (4, 1), (4, 1), (3, 1), (4, 1), (3, 1), (0, 1), (1, 1), (1, 1), (3, 1), (0, 1), (3, 1), (4, 1), (4, 1), (3, 1), (3, 1), (0, 1), (0, 1), (3, 1), (4, 1), (3, 1), (4, 1), (3, 1), (1, 1), (1, 1), (0, 1), (0, 0), (3, 0), (0, 0), (0, 0), (0, 0), (0, 0), (4, 0), (0, 0), (4, 0), (4, 0), (0, 0), (0, 0), (3, 0), (0, 0), (0, 0), (0, 0), (0, 0), (1, 0), (0, 0), (0, 0), (4, 0), (0, 0), (0, 0), (3, 0), (4, 0), (3, 0), (3, 0), (0, 0), (0, 0), (3, 0), (3, 0), (0, 0), (3, 0), (1, 0), (0, 0), (0, 0), (0, 0), (0, 0), (4, 0), (0, 0), (0, 0), (0, 0), (4, 0), (1, 0), (0, 0), (0, 0), (0, 0), (0, 0), (0, 0), (0, 0), (3, 0), (3, 0), (1, 0), (3, 0), (0, 0), (0, 0), (0, 0), (1, 0), (0, 0), (0, 0), (0, 0), (0, 0), (3, 0), (0, 0), (4, 0), (0, 0), (0, 0), (3, 0), (0, 0), (0, 0), (0, 0), (4, 0), (0, 0), (4, 0), (0, 0), (3, 0), (3, 0), (0, 0), (0, 0), (0, 0), (0, 0), (4, 0), (3, 0), (0, 0), (0, 0), (1, 0), (3, 0), (1, 0), (3, 0), (4, 0), (4, 0), (0, 0), (0, 0), (0, 0), (1, 0), (3, 0), (0, 0), (0, 0), (0, 0), (0, 0), (3, 0), (3, 0), (0, 0), (0, 0), (0, 0), (0, 0), (0, 0), (0, 0), (4, 0), (1, 0), (4, 0), (0, 0), (0, 0), (4, 0), (1, 0), (0, 0), (0, 0), (4, 0), (4, 0), (4, 0), (0, 0), (0, 0), (0, 0), (4, 0), (0, 0), (0, 0), (0, 0), (4, 0), (4, 0), (0, 0), (4, 0), (0, 0), (0, 0), (0, 0), (1, 0), (0, 0), (4, 0), (3, 0), (0, 0), (0, 0), (4, 0), (0, 0), (0, 0), (4, 0), (0, 0), (3, 0), (1, 0), (0, 0), (3, 0), (4, 0), (4, 0), (0, 0), (4, 0), (0, 0), (0, 0), (0, 0), (0, 0), (1, 0), (0, 0), (0, 0), (0, 0), (4, 0), (0, 0), (4, 0), (0, 0), (4, 0), (0, 0), (2, 0), (0, 0), (0, 0), (0, 0), (4, 0), (0, 0), (0, 0), (3, 0), (0, 0), (0, 0), (0, 0), (3, 0), (0, 0), (0, 0), (3, 0), (4, 0), (4, 0), (4, 0), (4, 0), (0, 0), (0, 0), (3, 0), (3, 0), (0, 0), (3, 0), (0, 0), (0, 0), (0, 0), (0, 0), (4, 0), (0, 0), (0, 0), (0, 0), (0, 0), (0, 0), (4, 0), (0, 0), (0, 0), (0, 0), (1, 0), (3, 0), (0, 0), (0, 0), (0, 0), (0, 0), (0, 0), (0, 0), (0, 0), (0, 0), (0, 0), (0, 0), (0, 0), (4, 0), (0, 0), (0, 0), (0, 0), (0, 0), (0, 0), (0, 0), (1, 0), (3, 0), (4, 0), (0, 0), (4, 0), (3, 0), (0, 0), (1, 0), (3, 0), (1, 0), (3, 0), (0, 0), (0, 0), (4, 0), (0, 0), (0, 0), (3, 0), (4, 0), (0, 0), (4, 0), (0, 0), (0, 0), (4, 0), (0, 0), (4, 0), (0, 0), (0, 0), (4, 0), (4, 0), (0, 0), (3, 0), (0, 0), (1, 0), (0, 0), (0, 0), (4, 0), (0, 0), (0, 0), (0, 0), (1, 0), (4, 0), (1, 0), (4, 0), (0, 0), (3, 0), (3, 0), (3, 0), (0, 0), (0, 0), (4, 0), (0, 0), (0, 0), (0, 0), (3, 0), (4, 0), (4, 0), (0, 0), (0, 0), (3, 0), (3, 0), (1, 0), (0, 0), (0, 0), (3, 0), (0, 0), (0, 0), (0, 0), (4, 0), (0, 0), (4, 0), (0, 0), (0, 0), (3, 0), (0, 0), (3, 0), (0, 0), (0, 0), (0, 0), (0, 0), (4, 0), (0, 0), (0, 0), (0, 0), (3, 0), (0, 0), (0, 0), (0, 0), (0, 0), (0, 0), (0, 0), (0, 0), (3, 0), (0, 0), (0, 0), (4, 0), (0, 0), (0, 0), (1, 0), (0, 0), (4, 0), (4, 0), (0, 0), (3, 0), (0, 0), (4, 0), (0, 0), (4, 0), (0, 0), (0, 0), (0, 0), (0, 0), (0, 0), (0, 0), (0, 0), (0, 0), (0, 0), (0, 0), (1, 0), (4, 0), (0, 0), (0, 0), (0, 0), (1, 0), (0, 0), (0, 0), (0, 0), (0, 0), (1, 0), (0, 0), (0, 0), (4, 0), (0, 0), (4, 0), (4, 0), (0, 0), (0, 0), (0, 0), (0, 0), (4, 0), (3, 0), (0, 0), (4, 0), (4, 0), (0, 0), (0, 0), (0, 0), (3, 0), (3, 0), (0, 0), (0, 0), (0, 0), (3, 0), (0, 0), (3, 0), (0, 0), (4, 0), (0, 0), (3, 0), (1, 0), (3, 0), (0, 0), (3, 0), (3, 0), (3, 0), (3, 0), (0, 0), (3, 0), (0, 0), (0, 0), (0, 0), (0, 0), (0, 0), (0, 0), (0, 0), (3, 0), (1, 0), (0, 0), (3, 0), (0, 0), (0, 0), (0, 0), (3, 0), (0, 0), (0, 0), (0, 0), (4, 0), (0, 0), (1, 0), (0, 0), (3, 0), (0, 0), (0, 0), (3, 0), (0, 0), (0, 0), (0, 0), (0, 0), (4, 0), (0, 0), (1, 0), (0, 0), (3, 0), (3, 0), (0, 0), (0, 0), (0, 0), (0, 0), (0, 0), (4, 0), (0, 0), (3, 0), (0, 0), (0, 0), (0, 0), (0, 0), (0, 0), (1, 0), (4, 0), (3, 0), (3, 0), (3, 0), (3, 0), (4, 0), (0, 0), (0, 0), (0, 0), (0, 0), (1, 0), (0, 0), (0, 0), (0, 0), (3, 0), (0, 0), (0, 0), (0, 0), (1, 0), (3, 0), (0, 0), (0, 0), (3, 0), (0, 0), (3, 0), (0, 0), (0, 0), (3, 0), (4, 0), (0, 0), (0, 0), (0, 0), (3, 0), (0, 0), (0, 0), (1, 0), (0, 0), (0, 0), (0, 0), (0, 0), (0, 0), (0, 0), (0, 0), (0, 0), (4, 0), (0, 0), (0, 0), (3, 0), (0, 0), (0, 0), (3, 0), (0, 0), (3, 0), (3, 0), (4, 0), (3, 0), (1, 0), (0, 0), (3, 0), (3, 0), (3, 0), (3, 0), (3, 0), (0, 0), (4, 0), (1, 0), (1, 0), (1, 0), (0, 0), (3, 0), (0, 0), (0, 0), (0, 0), (3, 0), (3, 0), (0, 0), (0, 0), (4, 0), (0, 0), (0, 0), (0, 0), (0, 0), (0, 0), (0, 0), (4, 0), (4, 0), (0, 0), (3, 0), (4, 0), (0, 0), (0, 0), (4, 0), (3, 0), (1, 0), (0, 0), (3, 0), (0, 0), (3, 0), (1, 0), (3, 0), (4, 0), (3, 0), (0, 0), (4, 0), (4, 0), (0, 0), (4, 0), (3, 0), (4, 0), (0, 0), (1, 0), (3, 0), (3, 0), (3, 0), (3, 0), (0, 0), (3, 0), (3, 0), (3, 0), (4, 0), (4, 0), (3, 0), (0, 0), (4, 0), (4, 0), (0, 0), (3, 0), (0, 0), (0, 0), (0, 0), (3, 0), (0, 0), (0, 0), (3, 0), (3, 0), (0, 0), (4, 0), (3, 0), (3, 0), (4, 0), (3, 0), (0, 0), (3, 0), (1, 0), (0, 0), (4, 0), (0, 0), (3, 0), (0, 0), (3, 0), (3, 0), (3, 0), (0, 0), (3, 0), (0, 0), (4, 0), (4, 0), (0, 0), (0, 0), (1, 0), (0, 2), (4, 2), (1, 2), (0, 2), (3, 2), (0, 2), (0, 2), (3, 2), (3, 2), (0, 2), (0, 2), (0, 2), (0, 2), (0, 2), (1, 2), (4, 2), (0, 2), (3, 2), (4, 2), (0, 2), (0, 2), (0, 2), (4, 2), (3, 2), (4, 2), (0, 2), (0, 2), (3, 2), (0, 2), (0, 2), (0, 2), (3, 2), (4, 2), (0, 2), (0, 2), (4, 2), (0, 2), (0, 2), (3, 2), (0, 2), (0, 2), (4, 2), (4, 2), (0, 2), (0, 2), (4, 2), (0, 2), (3, 2), (4, 2), (0, 2), (0, 2), (4, 2), (0, 2), (1, 2), (0, 2), (0, 2), (0, 2), (3, 2), (0, 2), (0, 2), (0, 2), (3, 2), (0, 2), (3, 2), (0, 2), (0, 2), (0, 2), (0, 2), (0, 2), (3, 2), (0, 2), (0, 2), (1, 2), (0, 2), (0, 2), (0, 2), (0, 2), (0, 2), (3, 2), (0, 2), (3, 2), (0, 2), (3, 2), (3, 2), (1, 2), (0, 2), (4, 2), (1, 2), (4, 2), (3, 2), (2, 2), (4, 0), (1, 0), (3, 0), (0, 0), (0, 0), (4, 0), (3, 0), (4, 0), (4, 0), (3, 0), (3, 0), (4, 0), (3, 0), (3, 0), (4, 0), (3, 0), (4, 0), (4, 0), (0, 0), (3, 0), (0, 0), (0, 0), (1, 0), (4, 0), (3, 0), (0, 0), (0, 0), (4, 0), (3, 0), (0, 0), (0, 0), (3, 0), (0, 0), (0, 0), (3, 0), (4, 0), (0, 0), (3, 0), (0, 0), (0, 0), (0, 0), (0, 0), (0, 0), (0, 0), (0, 0), (4, 0), (0, 0), (0, 0), (0, 0), (0, 0), (3, 0), (4, 0), (0, 0), (0, 0), (4, 0), (0, 0), (0, 0), (1, 0), (0, 0), (4, 0), (0, 0), (3, 0), (0, 0), (4, 0), (0, 0), (1, 0), (0, 0), (3, 0), (4, 0), (0, 0), (0, 0), (4, 0), (0, 0), (4, 0), (1, 0), (0, 0), (0, 0), (0, 0), (4, 0), (0, 0), (0, 0), (0, 0), (0, 0), (4, 0), (1, 0), (4, 0), (4, 0), (3, 0), (0, 0), (3, 0), (3, 0), (0, 0), (0, 0), (1, 0), (4, 0), (3, 0), (0, 0), (0, 0), (0, 0), (4, 0), (0, 0), (0, 0), (4, 0), (0, 0), (0, 0), (0, 0), (1, 0), (0, 0), (0, 0), (0, 0), (0, 0), (4, 0), (0, 0), (0, 0), (0, 0), (3, 0), (0, 0), (0, 0), (0, 0), (4, 0), (4, 0), (4, 0), (0, 0), (0, 0), (0, 0), (0, 0), (0, 0), (0, 0), (0, 0), (4, 0), (0, 0), (0, 0), (0, 0), (4, 0), (3, 0), (0, 0), (4, 0), (0, 0), (0, 0), (0, 0), (0, 0), (0, 0), (0, 0), (3, 0), (4, 0), (0, 0), (0, 0), (3, 0), (4, 0), (1, 0), (0, 0), (0, 0), (0, 0), (0, 0), (0, 0), (0, 0), (4, 0), (4, 0), (0, 0), (0, 0), (0, 0), (0, 0), (0, 0), (4, 0), (0, 0), (0, 0), (3, 0), (3, 0), (0, 0), (0, 0), (0, 0), (0, 0), (1, 0), (4, 0), (0, 0), (3, 0), (4, 0), (3, 0), (3, 0), (1, 0), (0, 0), (0, 0), (4, 0), (4, 0), (3, 0), (0, 0), (3, 0), (3, 0), (4, 0), (3, 0), (1, 0), (0, 0), (1, 0), (0, 0), (0, 0), (1, 0), (4, 0), (0, 0), (3, 0), (1, 0), (0, 0), (0, 0), (3, 0), (4, 0), (4, 0), (0, 0), (4, 0), (1, 0), (1, 0), (4, 0), (3, 0), (0, 0), (1, 0), (0, 0), (1, 0), (0, 0), (0, 0), (0, 0), (3, 0), (3, 0), (3, 0), (0, 0), (0, 0), (1, 0), (4, 0), (3, 0), (1, 0), (0, 0), (0, 0), (4, 0), (0, 0), (3, 0), (0, 0), (0, 0), (0, 0), (3, 0), (3, 0), (1, 0), (0, 0), (1, 0), (0, 0), (0, 0), (0, 0), (0, 0), (1, 0), (1, 0), (0, 0), (1, 0), (3, 0), (0, 0), (4, 0), (3, 0), (3, 0), (3, 0), (3, 0), (1, 0), (1, 0), (1, 0), (1, 0), (1, 0), (1, 0), (3, 0), (3, 0), (1, 0), (3, 0), (1, 0), (1, 0), (3, 0), (1, 0), (3, 0), (0, 0), (0, 0), (3, 0), (1, 0), (4, 0), (0, 0), (1, 0), (1, 0), (3, 0), (3, 0), (3, 0), (0, 0), (1, 0), (4, 0), (4, 0), (3, 0), (4, 0), (0, 0), (3, 0), (0, 0), (4, 0), (0, 0), (4, 0), (0, 0), (4, 0), (4, 0), (0, 0), (0, 0), (4, 0), (0, 0), (3, 0), (0, 0), (1, 0), (0, 0), (0, 0), (3, 0), (0, 0), (3, 0), (1, 0), (0, 0), (0, 0), (0, 0), (4, 0), (0, 0), (0, 0), (4, 0), (0, 0), (0, 0), (0, 0), (3, 0), (3, 0), (3, 0), (0, 0), (0, 0), (1, 0), (0, 0), (0, 0), (0, 0), (0, 0), (0, 0), (0, 0), (0, 0), (3, 0), (0, 0), (3, 0), (4, 0), (0, 0), (0, 0), (0, 0), (4, 0), (0, 0), (0, 0), (0, 0), (0, 0), (4, 0), (0, 0), (4, 0), (0, 0), (4, 0), (0, 0), (3, 0), (4, 0), (0, 0), (3, 0), (4, 0), (0, 0), (0, 0), (4, 0), (3, 0), (4, 0), (4, 0), (0, 0), (0, 0), (4, 0), (0, 0), (3, 0), (0, 0), (3, 0), (1, 0), (0, 0), (4, 0), (4, 0), (3, 0), (3, 0), (1, 0), (0, 0), (0, 0), (0, 0), (1, 0), (0, 0), (1, 0), (3, 0), (0, 0), (0, 0), (0, 0), (0, 0), (0, 0), (0, 0), (3, 0), (4, 0), (0, 0), (0, 0), (0, 0), (1, 0), (0, 0), (4, 0), (0, 0), (4, 0), (3, 0), (4, 0), (3, 0), (4, 0), (3, 0), (3, 0), (1, 0), (0, 0), (1, 0), (3, 0), (4, 0), (4, 0), (4, 0), (0, 0), (3, 0), (4, 0), (4, 0), (3, 0), (0, 0), (0, 0), (3, 0), (3, 0), (0, 0), (0, 0), (0, 0), (4, 0), (0, 0), (0, 0), (4, 0), (0, 0), (0, 0), (3, 0), (0, 0), (3, 0), (3, 0), (3, 0), (0, 0), (0, 0), (0, 0), (3, 0), (3, 0), (3, 0), (3, 0), (4, 0), (4, 0), (3, 0), (3, 0), (3, 0), (0, 0), (3, 0), (4, 0), (3, 0), (0, 0), (3, 0), (3, 0), (4, 0), (4, 0), (1, 0), (3, 0), (4, 0), (0, 0), (0, 0), (4, 0), (0, 0), (4, 0), (0, 0), (4, 0), (0, 0), (0, 0), (0, 0), (0, 0), (0, 0), (3, 0), (0, 0), (3, 0), (0, 0), (4, 0), (1, 0), (3, 0), (0, 0), (4, 0), (1, 0), (0, 0), (0, 0), (0, 0), (0, 0), (0, 0), (3, 0), (3, 0), (0, 0), (4, 0), (4, 0), (0, 0), (0, 0), (0, 0), (0, 0), (1, 0), (0, 0), (0, 0), (1, 0), (3, 0), (0, 0), (3, 0), (0, 0), (3, 0), (0, 0), (0, 0), (0, 0), (3, 0), (0, 0), (1, 0), (0, 0), (4, 0), (0, 0), (0, 0), (1, 0), (0, 0), (0, 0), (1, 0), (1, 0), (0, 0), (0, 0), (0, 0), (4, 0), (4, 0), (4, 0), (1, 0), (3, 0), (1, 0), (0, 0), (0, 0), (1, 0), (3, 0), (1, 0), (4, 0), (1, 0), (0, 0), (0, 0), (0, 0), (0, 0), (0, 0), (4, 0), (0, 0), (1, 0), (0, 0), (1, 0), (0, 0), (1, 0), (3, 0), (4, 0), (0, 0), (4, 0), (1, 0), (0, 0), (0, 0), (3, 0), (0, 0), (4, 0), (0, 0), (4, 0), (0, 0), (1, 0), (0, 0), (0, 0), (3, 0), (3, 0), (3, 0), (1, 0), (3, 0), (4, 0), (4, 0), (0, 0), (0, 0), (4, 0), (0, 0), (0, 0), (0, 0), (3, 0), (3, 0), (3, 0), (3, 0), (4, 0), (3, 0), (0, 0), (4, 0), (4, 0), (0, 0), (4, 0), (0, 0), (0, 0), (4, 0), (0, 0), (3, 0), (4, 0), (3, 0), (3, 0), (4, 0), (4, 0), (4, 0), (3, 0), (0, 0), (0, 0), (0, 0), (0, 0), (0, 0), (4, 0), (0, 0), (3, 0), (0, 0), (0, 0), (0, 0), (0, 0), (4, 0), (4, 0), (4, 0), (0, 0), (0, 0), (0, 0), (4, 0), (3, 0), (0, 0), (3, 0), (0, 0), (0, 0), (0, 0), (4, 0), (3, 0), (4, 0), (0, 0), (3, 0), (1, 0), (4, 0), (4, 0), (3, 0), (0, 0), (4, 0), (1, 0), (3, 0), (4, 0), (1, 0), (0, 0), (3, 0), (3, 0), (0, 0), (3, 0), (0, 0), (4, 0), (1, 0), (0, 0), (0, 0), (0, 0), (0, 0), (4, 0), (4, 0), (0, 0), (4, 0), (0, 0), (1, 0), (0, 0), (0, 0), (0, 0), (0, 0), (0, 0), (3, 0), (1, 0), (1, 0), (0, 0), (3, 0), (4, 0), (4, 0), (3, 0), (0, 0), (0, 0), (3, 0), (3, 0), (0, 0), (4, 0), (3, 0), (0, 0), (4, 0), (4, 0), (3, 0), (0, 0), (4, 0), (4, 0), (0, 0), (1, 0), (0, 0), (4, 0), (3, 0), (3, 0), (0, 0), (4, 0), (0, 0), (4, 0), (4, 0), (3, 0), (0, 0), (1, 0), (0, 0), (2, 0), (0, 0), (3, 0), (0, 0), (4, 0), (3, 0), (4, 0), (4, 0), (0, 0), (3, 0), (0, 0), (0, 0), (3, 0), (0, 0), (3, 0), (1, 0), (3, 0), (0, 0), (3, 0), (0, 0), (0, 0), (1, 0), (3, 0), (4, 0), (0, 0), (4, 0), (3, 0), (4, 0), (4, 0), (3, 0), (3, 0), (4, 0), (0, 0), (3, 0), (1, 0), (3, 0), (0, 0), (0, 0), (0, 0), (0, 0), (0, 0), (3, 0), (0, 0), (3, 0), (0, 0), (3, 0), (4, 0), (0, 0), (0, 0), (0, 0), (1, 0), (4, 0), (0, 0), (3, 0), (4, 0), (0, 0), (3, 0), (4, 0), (3, 0), (3, 0), (3, 0), (1, 0), (4, 0), (1, 0), (0, 0), (1, 0), (4, 0), (3, 0), (4, 0), (4, 0), (4, 0), (0, 0), (4, 0), (0, 0), (1, 0), (0, 0), (4, 0), (0, 0), (3, 0), (4, 0), (0, 0), (0, 0), (4, 0), (3, 0), (4, 0), (3, 0), (0, 0), (4, 0), (1, 0), (4, 0), (3, 0), (0, 0), (0, 0), (0, 0), (4, 0), (3, 0), (4, 0), (3, 0), (4, 0), (0, 0), (0, 0), (0, 0), (0, 0), (0, 0), (3, 0), (0, 0), (4, 0), (0, 0), (4, 0), (4, 0), (1, 0), (3, 0), (4, 0), (0, 0), (1, 0), (3, 0), (3, 0), (4, 0), (4, 0), (4, 0), (0, 0), (4, 0), (1, 0), (3, 0), (4, 0), (3, 0), (4, 0), (4, 0), (3, 0), (4, 0), (1, 0), (3, 0), (4, 0), (4, 0), (0, 0), (4, 0), (0, 0), (4, 0), (3, 0), (0, 0), (0, 0), (0, 0), (0, 0), (3, 0), (0, 0), (3, 0), (1, 0), (3, 0), (0, 0), (0, 0), (0, 0), (1, 0), (4, 0), (3, 0), (4, 0), (4, 0), (0, 0), (4, 0), (3, 0), (0, 0), (1, 0), (1, 0), (1, 0), (3, 0), (4, 0), (4, 0), (1, 0), (0, 0), (4, 1), (3, 1), (4, 1), (1, 1), (3, 1), (4, 1), (0, 1), (4, 1), (0, 1), (0, 1), (4, 1), (3, 1), (3, 1), (1, 1), (1, 1), (4, 1), (2, 1), (3, 1), (3, 1), (0, 1), (3, 1), (0, 1), (3, 1), (0, 1), (3, 1), (0, 1), (0, 1), (0, 1), (0, 1), (0, 1), (0, 1), (3, 1), (0, 1), (1, 1), (0, 1), (1, 1), (1, 1), (0, 1), (3, 1), (4, 1), (0, 1), (0, 1), (0, 1), (3, 1), (3, 1), (3, 1), (0, 1), (0, 1), (3, 1), (0, 1), (4, 1), (3, 1), (0, 1), (0, 1), (4, 1), (0, 1), (3, 1), (0, 1), (0, 1), (0, 1), (0, 1), (3, 1), (0, 1), (1, 1), (4, 1), (0, 1), (0, 1), (0, 1), (0, 1), (0, 1), (3, 1), (3, 1), (4, 1), (4, 1), (4, 1), (4, 1), (0, 1), (0, 1), (0, 1), (0, 1), (3, 1), (0, 1), (0, 1), (0, 1), (0, 1), (1, 1), (0, 1), (0, 1), (0, 1), (4, 1), (0, 1), (4, 1), (0, 1), (0, 1), (0, 1), (0, 1), (0, 1), (0, 1), (0, 1), (0, 1), (0, 1), (0, 1), (4, 1), (3, 1), (3, 1), (0, 1), (3, 1), (3, 1), (0, 1), (4, 1), (4, 1), (4, 1), (0, 1), (1, 1), (1, 1), (4, 1), (3, 1), (0, 1), (0, 1), (3, 1), (0, 1), (1, 1), (3, 1), (1, 1), (0, 1), (3, 1), (0, 1), (4, 1), (0, 1), (4, 1), (3, 1), (0, 1), (0, 1), (3, 1), (4, 1), (4, 1), (0, 1), (0, 1), (0, 1), (0, 1), (4, 1), (0, 1), (4, 1), (0, 1), (1, 1), (0, 1), (1, 1), (4, 1), (0, 1), (1, 1), (0, 1), (4, 1), (1, 1), (0, 1), (1, 1), (4, 1), (1, 1), (4, 1), (0, 1), (4, 1), (1, 1), (1, 1), (3, 1), (3, 1), (3, 1), (0, 1), (1, 1), (4, 1), (4, 1), (3, 1), (1, 1), (3, 1), (0, 1), (3, 1), (0, 1), (0, 1), (0, 1), (3, 1), (0, 1), (0, 1), (3, 1), (3, 1), (0, 1), (3, 1), (3, 1), (0, 1), (0, 1), (0, 1), (0, 1), (0, 1), (0, 1), (3, 1), (4, 1), (0, 1), (0, 1), (3, 1), (3, 1), (4, 1), (0, 1), (0, 1), (4, 1), (3, 1), (0, 1), (4, 1), (0, 1), (4, 1), (4, 1), (3, 1), (0, 1), (1, 1), (0, 1), (4, 1), (4, 1), (0, 1), (4, 1), (3, 1), (3, 1), (0, 1), (0, 1), (0, 1), (3, 1), (1, 1), (0, 1), (4, 1), (0, 1), (4, 1), (4, 1), (3, 1), (3, 1), (0, 1), (1, 1), (0, 1), (0, 1), (3, 1), (0, 1), (4, 1), (1, 1), (4, 1), (0, 1), (0, 1), (0, 1), (4, 1), (4, 1), (0, 1), (0, 1), (3, 1), (0, 1), (4, 1), (0, 1), (0, 1), (3, 1), (0, 1), (4, 1), (0, 1), (4, 1), (1, 1), (0, 1), (0, 1), (0, 1), (0, 1), (4, 1), (1, 1), (1, 1), (0, 1), (4, 1), (3, 1), (4, 1), (3, 1), (0, 1), (4, 1), (0, 1), (0, 1), (4, 1), (0, 1), (0, 1), (4, 1), (4, 1), (0, 1), (0, 1), (2, 1), (0, 1), (0, 1), (0, 1), (0, 1), (0, 1), (0, 1), (0, 1), (3, 1), (4, 1), (0, 1), (3, 1), (0, 1), (1, 1), (0, 1), (3, 1), (4, 1), (0, 1), (0, 1), (0, 1), (3, 1), (0, 1), (0, 1), (0, 1), (0, 1), (4, 1), (4, 1), (0, 1), (3, 1), (4, 1), (1, 1), (0, 1), (0, 1), (0, 1), (4, 1), (3, 1), (3, 1), (3, 1), (3, 1), (4, 1), (3, 1), (0, 1), (4, 1), (0, 1), (0, 1), (3, 1), (0, 1), (4, 1), (3, 1), (3, 1), (4, 1), (4, 1), (0, 1), (0, 1), (0, 1), (3, 1), (4, 1), (0, 1), (3, 1), (4, 1), (3, 1), (4, 1), (0, 1), (0, 1), (3, 1), (0, 1), (0, 1), (0, 1), (4, 1), (4, 1), (3, 1), (0, 1), (0, 1), (4, 1), (3, 1), (1, 1), (0, 1), (3, 1), (0, 1), (3, 1), (4, 1), (1, 1), (0, 1), (4, 1), (3, 1), (0, 1), (1, 1), (1, 1), (0, 1), (4, 1), (4, 1), (0, 1), (0, 1), (0, 1), (0, 1), (1, 1), (0, 1), (3, 1), (0, 1), (0, 1), (0, 1), (1, 1), (0, 1), (4, 1), (4, 1), (0, 1), (4, 1), (1, 1), (3, 1), (4, 1), (0, 1), (4, 1), (0, 1), (0, 1), (0, 1), (0, 1), (3, 1), (0, 1), (0, 1), (0, 1), (3, 1), (4, 1), (0, 1), (1, 1), (1, 1), (3, 1), (0, 1), (4, 1), (3, 1), (0, 1), (3, 1), (0, 1), (0, 1), (0, 1), (3, 1), (0, 1), (0, 1), (0, 1), (4, 1), (1, 1), (0, 1), (0, 1), (0, 1), (0, 1), (4, 1), (0, 1), (0, 1), (0, 1), (0, 1), (0, 1), (4, 1), (3, 1), (3, 1), (3, 1), (0, 1), (3, 1), (4, 1), (3, 1), (0, 1), (3, 1), (1, 1), (1, 1), (4, 1), (3, 1), (4, 1), (0, 1), (0, 1), (0, 1), (0, 1), (0, 1), (4, 1), (3, 1), (4, 1), (0, 1), (3, 1), (0, 1), (0, 1), (0, 1), (0, 1), (4, 1), (0, 1), (3, 1), (3, 1), (0, 1), (3, 1), (3, 1), (1, 1), (0, 1), (4, 1), (3, 1), (0, 1), (4, 1), (4, 1), (3, 1), (0, 1), (4, 1), (1, 1), (0, 1), (0, 1), (3, 1), (1, 1), (4, 1), (4, 1), (3, 1), (3, 1), (3, 1), (0, 1), (3, 1), (3, 1), (1, 1), (4, 1), (4, 1), (0, 1), (3, 1), (0, 1), (0, 1), (3, 1), (4, 1), (0, 1), (0, 1), (4, 1), (4, 1), (1, 1), (0, 1), (3, 1), (4, 1), (4, 1), (3, 1), (0, 1), (0, 1), (4, 1), (1, 1), (4, 1), (0, 1), (0, 1), (0, 1), (3, 1), (0, 1), (0, 1), (0, 1), (0, 1), (1, 1), (4, 1), (4, 1), (0, 1), (3, 1), (2, 1), (3, 1), (3, 1), (0, 1), (0, 1), (3, 1), (0, 1), (4, 1), (3, 1), (0, 1), (1, 1), (4, 1), (0, 1), (3, 1), (0, 1), (0, 1), (0, 1), (0, 1), (4, 1), (0, 1), (3, 1), (3, 1), (1, 1), (0, 1), (0, 1), (0, 1), (0, 1), (4, 1), (0, 1), (3, 1), (3, 1), (0, 1), (1, 1), (3, 1), (0, 1), (1, 1), (0, 1), (3, 1), (1, 1), (0, 1), (0, 1), (4, 1), (3, 1), (4, 1), (1, 1), (4, 1), (0, 1), (4, 1), (4, 1), (4, 1), (3, 1), (0, 1), (0, 1), (4, 1), (1, 1), (0, 1), (2, 1), (4, 1), (3, 1), (4, 1), (3, 1), (0, 1), (0, 1), (3, 1), (0, 1), (0, 1), (0, 1), (3, 1), (1, 1), (4, 1), (3, 1), (0, 1), (3, 1), (0, 1), (0, 1), (4, 1), (1, 1), (4, 1), (4, 1), (0, 1), (0, 1), (3, 1), (4, 1), (4, 1), (0, 1), (4, 1), (4, 1), (3, 1), (4, 1), (0, 1), (0, 1), (4, 1), (4, 1), (3, 1), (0, 1), (0, 1), (4, 1), (0, 1), (0, 1), (0, 1), (4, 1), (1, 1), (3, 1), (3, 1), (0, 1), (0, 1), (4, 1), (0, 1), (0, 1), (0, 1), (3, 1), (0, 1), (4, 1), (0, 1), (4, 1), (0, 1), (0, 1), (0, 1), (4, 1), (3, 1), (0, 1), (0, 1), (4, 1), (0, 1), (3, 1), (4, 1), (1, 1), (4, 1), (0, 1), (0, 1), (0, 1), (1, 1), (0, 1), (3, 1), (4, 1), (4, 1), (3, 1), (3, 1), (0, 1), (3, 1), (3, 1), (3, 1), (3, 1), (0, 1), (0, 1), (4, 1), (3, 1), (4, 1), (3, 1), (3, 1), (0, 1), (0, 1), (4, 1), (3, 1), (0, 1), (0, 1), (4, 1), (1, 1), (4, 1), (1, 1), (4, 1), (0, 1), (0, 1), (1, 1), (4, 1), (3, 1), (0, 1), (4, 1), (0, 1), (3, 1), (0, 1), (3, 1), (1, 1), (4, 1), (4, 1), (0, 1), (0, 1), (3, 1), (0, 1), (4, 1), (4, 1), (1, 1), (3, 1), (0, 1), (0, 1), (0, 1), (0, 1), (0, 1), (0, 1), (0, 1), (0, 1), (0, 1), (1, 1), (0, 1), (1, 1), (4, 1), (0, 1), (4, 1), (0, 1), (4, 1), (3, 1), (0, 1), (4, 1), (0, 1), (4, 1), (0, 1), (3, 1), (4, 1), (0, 1), (0, 1), (4, 1), (0, 1), (3, 1), (0, 1), (0, 1), (3, 1), (1, 1), (0, 1), (4, 1), (0, 1), (0, 1), (3, 1), (4, 1), (0, 1), (0, 1), (0, 1), (4, 1), (0, 1), (0, 1), (0, 1), (1, 1), (3, 1), (0, 1), (0, 1), (4, 1), (0, 1), (4, 1), (0, 1), (3, 1), (0, 1), (4, 1), (0, 1), (4, 1), (0, 1), (3, 1), (0, 1), (1, 1), (0, 1), (1, 1), (3, 1), (4, 1), (4, 1), (1, 1), (3, 1), (0, 1), (0, 1), (3, 1), (4, 1), (4, 1), (0, 1), (0, 1), (0, 1), (0, 1), (3, 1), (0, 1), (0, 1), (1, 1), (4, 1), (1, 1), (3, 1), (0, 1), (0, 1), (0, 1), (0, 1), (4, 1), (0, 1), (4, 1), (3, 1), (4, 1), (0, 1), (0, 1), (4, 1), (3, 1), (4, 1), (3, 1), (0, 1), (4, 1), (0, 1), (1, 1), (0, 1), (0, 1), (4, 1), (3, 1), (0, 1), (3, 1), (0, 1), (3, 1), (3, 1), (0, 1), (0, 1), (0, 1), (0, 1), (0, 1), (3, 1), (0, 1), (4, 1), (3, 1), (1, 1), (0, 1), (0, 1), (0, 1), (0, 1), (1, 1), (0, 1), (0, 1), (3, 1), (0, 1), (1, 1), (3, 1), (4, 1), (1, 1), (1, 1), (1, 1), (1, 1), (0, 1), (4, 1), (0, 1), (0, 1), (0, 1), (1, 1), (0, 1), (4, 1), (4, 1), (0, 1), (4, 1), (0, 1), (0, 1), (3, 1), (3, 1), (0, 1), (3, 1), (1, 1), (0, 1), (0, 1), (0, 1), (0, 1), (3, 1), (1, 1), (4, 1), (0, 1), (0, 1), (3, 1), (0, 1), (0, 1), (0, 1), (0, 1), (0, 1), (3, 1), (1, 1), (0, 1), (3, 1), (0, 1), (0, 1), (0, 1), (0, 1), (0, 1), (0, 1), (0, 1), (3, 1), (0, 1), (1, 1), (0, 1), (0, 1), (1, 1), (0, 1), (0, 1), (3, 1), (1, 1), (0, 1), (4, 1), (3, 1), (0, 1), (0, 1), (0, 1), (3, 1), (1, 1), (1, 1), (4, 1), (4, 1), (0, 1), (1, 1), (3, 1), (3, 1), (0, 1), (0, 1), (0, 1), (0, 1), (0, 1), (0, 1), (4, 1), (0, 1), (4, 1), (4, 1), (4, 1), (0, 1), (0, 1), (0, 1), (3, 1), (0, 1), (0, 1), (0, 1), (3, 1), (3, 1), (0, 1), (1, 1), (0, 1), (1, 1), (0, 1), (4, 1), (4, 1), (4, 1), (1, 1), (3, 1), (3, 1), (4, 1), (0, 1), (0, 1), (1, 1), (4, 1), (3, 1), (3, 1), (0, 1), (0, 1), (3, 1), (3, 1), (3, 1), (1, 1), (0, 1), (0, 1), (0, 1), (0, 1), (0, 1), (4, 1), (0, 1), (4, 1), (0, 1), (4, 1), (0, 1), (4, 1), (4, 1), (0, 1), (1, 1), (0, 1), (3, 1), (4, 1), (4, 1), (1, 1), (0, 1), (1, 1), (4, 1), (0, 1), (0, 1), (0, 1), (4, 1), (3, 1), (0, 1), (3, 1), (1, 1), (3, 1), (3, 1), (0, 1), (1, 1), (3, 1), (0, 1), (1, 1), (0, 1), (0, 1), (4, 1), (3, 1), (0, 1), (4, 1), (3, 1), (0, 1), (4, 1), (3, 1), (4, 1), (1, 1), (4, 1), (0, 1), (3, 1), (1, 1), (0, 1), (0, 1), (0, 1), (0, 1), (0, 1), (0, 1), (0, 1), (0, 1), (0, 1), (4, 1), (4, 1), (1, 1), (4, 1), (0, 1), (0, 1), (0, 1), (4, 1), (0, 1), (0, 1), (4, 1), (0, 1), (4, 1), (0, 1), (0, 1), (0, 1), (4, 1), (0, 1), (0, 1), (0, 1), (1, 1), (0, 1), (0, 1), (3, 1), (3, 1), (3, 1), (0, 1), (0, 1), (3, 1), (4, 1), (4, 1), (4, 1), (0, 1), (0, 1), (0, 1), (0, 1), (3, 1), (1, 1), (4, 1), (0, 1), (0, 1), (0, 1), (0, 1), (0, 1), (1, 1), (4, 1), (0, 1), (4, 1), (3, 1), (4, 1), (0, 1), (0, 1), (0, 1), (4, 1), (4, 1), (3, 1), (3, 1), (0, 1), (0, 1), (0, 1), (3, 1), (0, 1), (1, 1), (3, 1), (4, 1), (0, 1), (0, 1), (3, 1), (3, 1), (3, 1), (3, 1), (4, 1), (0, 1), (3, 1), (1, 1), (4, 1), (3, 1), (3, 1), (3, 1), (4, 1), (1, 1), (0, 1), (3, 1), (1, 1), (0, 1), (0, 1), (3, 1), (0, 1), (0, 1), (1, 1), (3, 1), (0, 1), (3, 1), (3, 1), (3, 1), (0, 1), (0, 1), (0, 1), (1, 1), (1, 1), (0, 1), (0, 1), (1, 1), (4, 1), (3, 1), (4, 1), (0, 1), (0, 1), (4, 1), (4, 1), (0, 1), (3, 1), (0, 1), (4, 1), (4, 1), (4, 1), (0, 1), (4, 1), (3, 1), (3, 1), (1, 1), (0, 1), (0, 1), (0, 1), (0, 1), (0, 1), (3, 1), (1, 1), (0, 1), (0, 1), (1, 1), (0, 1), (0, 1), (0, 1), (0, 1), (0, 1), (0, 1), (4, 1), (4, 1), (0, 1), (1, 1), (0, 1), (0, 1), (0, 1), (3, 1), (0, 1), (4, 1), (0, 1), (0, 1), (4, 1), (3, 1), (1, 1), (0, 1), (3, 1), (4, 1), (3, 1), (0, 1), (3, 1), (0, 1), (0, 1), (3, 1), (0, 1), (4, 1), (1, 1), (4, 1), (0, 1), (4, 1), (3, 1), (4, 1), (0, 1), (4, 1), (4, 1), (0, 1), (3, 1), (0, 1), (0, 1), (0, 1), (1, 1), (0, 1), (0, 1), (0, 1), (4, 1), (0, 1), (0, 1), (3, 1), (4, 1), (3, 1), (0, 1), (0, 1), (0, 1), (3, 1), (1, 1), (3, 1), (0, 1), (1, 1), (0, 1), (1, 1), (3, 1), (0, 1), (3, 1), (3, 1), (1, 1), (4, 1), (0, 1), (4, 1), (0, 1), (3, 1), (0, 1), (1, 1), (0, 1), (1, 1), (1, 1), (0, 1), (3, 1), (1, 1), (0, 1), (0, 1), (0, 1), (3, 1), (0, 1), (0, 1), (4, 1), (0, 1), (3, 1), (0, 1), (0, 1), (3, 1), (0, 1), (4, 1), (4, 1), (1, 1), (1, 1), (0, 1), (1, 1), (3, 1), (0, 1), (0, 1), (0, 1), (0, 1), (0, 1), (0, 1), (4, 1), (0, 1), (0, 1), (1, 1), (3, 1), (4, 1), (3, 1), (3, 1), (4, 1), (4, 1), (4, 1), (3, 1), (3, 1), (1, 1), (0, 1), (0, 1), (4, 1), (0, 1), (3, 1), (3, 1), (3, 1), (4, 1), (1, 1), (3, 1), (0, 1), (0, 1), (0, 1), (0, 1), (0, 1), (0, 1), (3, 1), (1, 1), (0, 1), (3, 1), (0, 1), (4, 1), (3, 1), (0, 1), (0, 1), (3, 1), (3, 1), (3, 1), (0, 1), (0, 1), (1, 1), (1, 1), (1, 1), (0, 1), (3, 1), (3, 1), (3, 1), (4, 1), (0, 1), (0, 1), (4, 1), (1, 1), (4, 1), (4, 1), (0, 1), (3, 1), (1, 1), (0, 1), (0, 1), (3, 1), (0, 1), (4, 1), (0, 1), (0, 1), (0, 1), (0, 1), (3, 1), (4, 1), (0, 1), (0, 1), (4, 1), (0, 1), (1, 1), (1, 1), (0, 1), (0, 1), (3, 1), (1, 1), (0, 1), (0, 1), (3, 1), (4, 1), (0, 1), (4, 1), (3, 1), (0, 1), (1, 1), (0, 1), (0, 1), (0, 1), (4, 1), (0, 1), (3, 1), (4, 1), (0, 1), (0, 1), (0, 1), (0, 1), (3, 1), (0, 1), (0, 1), (0, 1), (0, 1), (0, 1), (4, 1), (3, 1), (0, 1), (0, 1), (0, 1), (4, 1), (0, 1), (0, 1), (4, 1), (1, 1), (4, 1), (0, 1), (0, 1), (0, 1), (0, 1), (1, 1), (0, 1), (0, 1), (0, 1), (0, 1), (3, 1), (3, 1), (3, 1), (0, 0), (4, 0), (0, 0), (3, 0), (4, 0), (3, 0), (4, 0), (4, 0), (1, 0), (1, 0), (3, 0), (0, 0), (4, 0), (1, 0), (0, 0), (1, 0), (3, 0), (0, 0), (0, 0), (0, 0), (3, 0), (1, 0), (4, 0), (3, 0), (3, 0), (4, 0), (3, 0), (3, 0), (3, 0), (3, 0), (0, 0), (4, 0), (3, 0), (3, 0), (3, 0), (4, 0), (0, 0), (0, 0), (0, 0), (0, 0), (1, 0), (3, 0), (3, 0), (4, 0), (3, 0), (3, 0), (3, 0), (0, 0), (0, 0), (1, 0), (4, 0), (0, 0), (3, 0), (4, 0), (4, 0), (0, 0), (0, 0), (0, 0), (3, 0), (3, 0), (4, 0), (4, 0), (3, 0), (3, 0), (1, 0), (3, 0), (0, 0), (0, 0), (3, 0), (4, 0), (0, 0), (1, 0), (3, 0), (1, 0), (3, 0), (3, 0), (0, 0), (3, 0), (0, 0), (1, 0), (3, 0), (0, 0), (1, 0), (3, 0), (0, 0), (3, 0), (0, 0), (0, 0), (0, 0), (3, 0), (3, 0), (0, 0), (3, 0), (0, 0), (0, 0), (4, 0), (0, 0), (0, 0), (4, 0), (3, 0), (3, 0), (0, 0), (3, 0), (0, 0), (0, 0), (0, 0), (0, 0), (0, 0), (4, 0), (3, 0), (4, 0), (3, 0), (4, 0), (0, 0), (3, 0), (0, 0), (3, 0), (4, 0), (0, 0), (4, 0), (0, 0), (0, 0), (0, 0), (0, 0), (0, 0), (0, 0), (0, 0), (0, 0), (0, 0), (4, 0), (0, 0), (3, 0), (4, 0), (0, 0), (3, 0), (3, 0), (1, 0), (3, 0), (3, 0), (0, 0), (0, 0), (0, 0), (4, 0), (0, 0), (0, 0), (0, 0), (3, 0), (0, 0), (0, 0), (4, 0), (0, 0), (0, 0), (0, 0), (4, 0), (0, 0), (3, 0), (0, 0), (0, 0), (4, 0), (4, 0), (0, 0), (3, 0), (3, 0), (3, 0), (3, 0), (4, 0), (3, 0), (3, 0), (3, 0), (0, 0), (0, 0), (0, 0), (0, 0), (0, 0), (0, 0), (3, 0), (3, 0), (3, 0), (3, 0), (4, 0), (4, 0), (0, 0), (0, 0), (3, 0), (4, 0), (0, 0), (0, 0), (0, 0), (3, 0), (0, 0), (3, 0), (4, 0), (4, 0), (0, 0), (0, 0), (3, 0), (0, 0), (0, 0), (3, 0), (0, 0), (1, 0), (0, 0), (1, 0), (0, 0), (4, 0), (3, 0), (1, 0), (3, 0), (0, 0), (1, 0), (3, 0), (3, 0), (0, 0), (0, 0), (3, 0), (0, 0), (0, 0), (3, 0), (0, 0), (0, 0), (3, 0), (4, 0), (3, 0), (4, 0), (3, 0), (3, 0), (0, 0), (0, 0), (0, 0), (0, 0), (3, 0), (1, 0), (4, 0), (3, 0), (0, 0), (0, 0), (3, 0), (4, 0), (0, 0), (3, 0), (3, 0), (0, 0), (4, 0), (4, 0), (3, 0), (3, 0), (3, 0), (0, 0), (4, 0), (1, 0), (4, 0), (0, 0), (0, 0), (4, 0), (0, 0), (0, 0), (4, 0), (0, 0), (4, 0), (4, 0), (4, 0), (3, 0), (0, 0), (0, 0), (0, 0), (3, 0), (0, 0), (3, 0), (4, 0), (3, 0), (4, 0), (0, 0), (3, 0), (0, 0), (0, 0), (3, 0), (1, 0), (3, 0), (4, 0), (4, 0), (0, 0), (2, 0), (3, 0), (1, 0), (3, 0), (0, 0), (0, 0), (0, 0), (1, 0), (4, 0), (1, 0), (1, 0), (0, 0), (4, 0), (4, 0), (4, 0), (3, 0), (4, 0), (0, 0), (0, 0), (0, 0), (4, 0), (4, 0), (0, 0), (0, 0), (4, 0), (0, 0), (0, 0), (0, 0), (0, 0), (3, 0), (1, 0), (0, 0), (4, 0), (4, 0), (4, 0), (0, 0), (1, 0), (4, 0), (0, 0), (4, 0), (0, 0), (0, 0), (4, 0), (4, 4), (3, 4), (4, 4), (4, 4), (4, 4), (3, 4), (4, 4), (0, 4), (4, 4), (0, 4), (3, 4), (0, 4), (3, 4), (0, 4), (0, 4), (3, 4), (0, 4), (3, 4), (0, 4), (0, 4), (4, 4), (0, 4), (4, 4), (1, 4), (0, 4), (0, 4), (0, 4), (1, 4), (3, 4), (4, 4), (0, 4), (0, 4), (0, 4), (0, 4), (1, 4), (0, 4), (0, 4), (3, 4), (1, 4), (0, 4), (0, 4), (3, 4), (3, 4), (3, 4), (4, 4), (1, 4), (0, 4), (0, 4), (3, 4), (3, 4), (0, 4), (1, 4), (0, 4), (3, 4), (0, 4), (4, 4), (0, 4), (0, 4), (0, 4), (1, 4), (0, 4), (0, 4), (1, 4), (0, 4), (0, 4), (0, 4), (1, 4), (1, 4), (3, 4), (0, 4), (0, 4), (4, 4), (4, 4), (1, 4), (0, 4), (4, 4), (0, 4), (3, 4), (0, 4), (0, 4), (1, 4), (1, 4), (0, 4), (0, 4), (0, 4), (0, 4), (0, 4), (0, 4), (0, 4), (3, 4), (4, 4), (3, 4), (1, 4), (0, 4), (0, 4), (0, 4), (4, 4), (4, 4), (3, 4), (3, 4), (0, 4), (0, 4), (4, 4), (0, 4), (0, 4), (0, 4), (3, 4), (4, 4), (0, 4), (3, 4), (0, 4), (0, 4), (4, 4), (0, 4), (0, 4), (0, 4), (3, 4), (4, 4), (0, 4), (0, 4), (0, 4), (3, 4), (3, 4), (0, 4), (0, 4), (0, 4), (0, 4), (1, 4), (0, 4), (0, 4), (0, 4), (3, 4), (0, 4), (4, 4), (0, 4), (1, 4), (0, 4), (1, 4), (0, 4), (0, 4), (1, 4), (0, 4), (4, 4), (0, 4), (0, 4), (0, 4), (0, 4), (4, 4), (3, 4), (0, 4), (0, 4), (3, 4), (0, 4), (0, 4), (0, 4), (0, 4), (0, 4), (0, 4), (0, 4), (1, 4), (1, 4), (0, 4), (1, 4), (4, 4), (0, 4), (0, 4), (0, 4), (4, 4), (0, 4), (0, 4), (0, 4), (3, 4), (4, 4), (3, 4), (4, 4), (0, 4), (0, 4), (0, 4), (0, 4), (3, 4), (0, 4), (0, 4), (0, 4), (0, 4), (0, 4), (0, 4), (0, 4), (4, 4), (4, 4), (1, 4), (0, 4), (0, 4), (0, 4), (3, 4), (3, 4), (0, 4), (0, 4), (1, 4), (0, 4), (0, 4), (0, 4), (3, 4), (0, 4), (0, 4), (1, 4), (0, 4), (0, 4), (4, 4), (0, 4), (4, 4), (4, 4), (4, 4), (0, 4), (0, 4), (0, 4), (0, 4), (3, 4), (3, 4), (3, 4), (0, 4), (0, 4), (3, 4), (0, 4), (0, 4), (0, 4), (0, 4), (0, 4), (0, 4), (4, 4), (3, 4), (0, 4), (0, 4), (0, 4), (0, 4), (0, 4), (0, 4), (0, 4), (0, 4), (1, 4), (0, 4), (1, 4), (0, 4), (0, 4), (0, 4), (3, 4), (1, 4), (1, 4), (0, 4), (3, 4), (1, 4), (3, 4), (1, 4), (0, 4), (0, 4), (4, 4), (3, 4), (0, 4), (1, 4), (0, 4), (0, 4), (0, 4), (0, 4), (3, 4), (0, 4), (0, 4), (0, 4), (0, 4), (4, 4), (0, 4), (3, 4), (3, 4), (0, 4), (1, 4), (4, 4), (3, 4), (3, 4), (3, 4), (0, 4), (3, 4), (4, 4), (3, 4), (3, 4), (0, 4), (0, 4), (4, 4), (4, 4), (0, 4), (0, 4), (0, 4), (0, 4), (0, 4), (0, 4), (0, 4), (4, 4), (0, 4), (3, 4), (4, 4), (4, 4), (0, 0), (0, 0), (3, 0), (4, 0), (0, 0), (0, 0), (0, 0), (1, 0), (4, 0), (3, 0), (3, 0), (0, 0), (0, 0), (0, 0), (0, 0), (0, 0), (4, 0), (4, 0), (3, 0), (3, 0), (1, 0), (0, 0), (4, 0), (0, 0), (4, 0), (0, 0), (0, 0), (0, 0), (0, 0), (4, 0), (0, 0), (0, 0), (0, 0), (4, 0), (3, 0), (0, 0), (0, 0), (1, 0), (0, 0), (0, 0), (0, 0), (0, 0), (0, 0), (1, 0), (0, 0), (1, 0), (3, 0), (4, 0), (1, 0), (3, 0), (4, 0), (1, 0), (3, 0), (1, 0), (3, 0), (4, 0), (3, 0), (4, 0), (3, 0), (0, 0), (0, 0), (0, 0), (3, 0), (0, 0), (3, 0), (0, 0), (0, 0), (3, 0), (0, 0), (0, 0), (4, 0), (0, 0), (0, 0), (0, 0), (0, 0), (4, 0), (0, 0), (3, 0), (4, 0), (0, 0), (0, 0), (4, 0), (0, 0), (0, 0), (3, 0), (4, 0), (0, 0), (0, 0), (3, 0), (3, 0), (0, 0), (1, 0), (3, 0), (0, 0), (4, 0), (1, 0), (3, 0), (0, 0), (0, 0), (0, 0), (0, 0), (0, 0), (4, 0), (0, 0), (4, 0), (3, 0), (0, 0), (0, 0), (3, 0), (1, 0), (0, 0), (0, 0), (0, 0), (0, 0), (0, 0), (0, 0), (0, 0), (1, 0), (0, 0), (0, 0), (3, 0), (3, 0), (0, 0), (0, 0), (3, 0), (0, 0), (0, 0), (0, 0), (0, 0), (1, 0), (0, 0), (4, 0), (4, 0), (3, 0), (0, 0), (3, 0), (0, 0), (0, 0), (1, 0), (0, 0), (0, 0), (0, 0), (0, 0), (4, 0), (3, 0), (0, 0), (4, 0), (3, 0), (0, 0), (4, 0), (4, 0), (0, 0), (0, 0), (0, 0), (1, 0), (0, 0), (0, 0), (4, 0), (3, 0), (3, 0), (0, 0), (4, 0), (4, 0), (0, 0), (3, 0), (3, 0), (4, 0), (0, 0), (3, 0), (3, 0), (0, 0), (1, 0), (0, 0), (4, 0), (0, 0), (3, 0), (4, 0), (0, 0), (4, 0), (1, 0), (0, 0), (0, 0), (3, 0), (0, 0), (0, 0), (0, 0), (0, 0), (4, 0), (0, 0), (0, 0), (4, 0), (0, 0), (4, 0), (3, 0), (4, 0), (0, 0), (4, 0), (3, 0), (0, 0), (3, 0), (0, 0), (1, 0), (0, 0), (1, 0), (0, 0), (0, 0), (0, 0), (3, 0), (3, 0), (0, 0), (3, 0), (0, 0), (4, 0), (1, 0), (1, 0), (1, 0), (1, 0), (1, 0), (1, 0), (4, 0), (4, 0), (3, 0), (0, 0), (0, 0), (3, 0), (3, 0), (0, 0), (0, 0), (3, 0), (1, 0), (3, 0), (0, 0), (0, 0), (3, 0), (3, 0), (4, 0), (4, 0), (4, 0), (0, 0), (4, 0), (4, 0), (1, 0), (2, 0), (0, 0), (0, 0), (3, 0), (4, 0), (0, 0), (0, 0), (3, 0), (3, 0), (0, 0), (4, 0), (4, 0), (4, 0), (3, 0), (3, 0), (3, 0), (0, 0), (3, 0), (3, 0), (0, 0), (0, 0), (4, 0), (3, 0), (4, 0), (0, 0), (0, 0), (0, 0), (1, 0), (4, 0), (0, 0), (3, 0), (3, 0), (0, 0), (4, 0), (1, 0), (0, 0), (0, 0), (1, 0), (0, 0), (0, 0), (3, 0), (0, 0), (3, 0), (0, 0), (1, 0), (0, 0), (0, 0), (0, 0), (0, 0), (3, 0), (3, 0), (3, 0), (0, 0), (0, 0), (4, 0), (0, 0), (4, 0), (4, 0), (3, 0), (3, 0), (0, 0), (3, 0), (4, 0), (4, 0), (4, 0), (3, 0), (0, 0), (0, 0), (1, 0), (0, 0), (4, 0), (4, 0), (0, 0), (3, 0), (0, 0), (4, 0), (3, 0), (4, 0), (0, 0), (3, 0), (0, 0), (4, 0), (0, 0), (0, 0), (3, 0), (0, 0), (3, 0), (3, 0), (1, 0), (3, 0), (0, 0), (4, 0), (4, 0), (3, 0), (0, 0), (0, 0), (0, 0), (0, 0), (0, 0), (0, 0), (4, 0), (0, 0), (0, 0), (0, 0), (0, 0), (0, 0), (0, 0), (0, 0), (3, 0), (4, 0), (0, 0), (0, 0), (4, 0), (0, 0), (0, 0), (0, 0), (0, 0), (0, 0), (0, 0), (1, 0), (4, 0), (1, 0), (1, 0), (4, 0), (0, 0), (3, 0), (0, 0), (0, 0), (0, 0), (3, 0), (3, 0), (3, 0), (4, 0), (0, 0), (0, 0), (0, 0), (0, 0), (0, 0), (0, 0), (0, 0), (0, 0), (0, 0), (0, 0), (4, 0), (4, 0), (0, 0), (3, 0), (0, 0), (0, 0), (3, 0), (3, 0), (4, 0), (0, 0), (3, 0), (0, 0), (0, 0), (1, 0), (0, 0), (4, 0), (3, 0), (4, 0), (3, 0), (4, 0), (3, 0), (3, 0), (0, 0), (0, 0), (0, 0), (0, 0), (0, 0), (0, 0), (1, 0), (0, 0), (4, 0), (3, 0), (1, 0), (0, 0), (1, 0), (1, 0), (0, 0), (4, 0), (0, 0), (4, 0), (4, 0), (0, 0), (4, 0), (4, 0), (4, 0), (4, 0), (1, 0), (0, 0), (4, 0), (3, 0), (4, 0), (4, 0), (4, 0), (4, 0), (4, 0), (1, 0), (0, 0), (0, 0), (1, 0), (0, 0), (1, 0), (0, 0), (3, 0), (1, 0), (3, 0), (4, 0), (1, 0), (1, 0), (0, 0), (0, 0), (3, 0), (0, 0), (0, 0), (1, 0), (1, 0), (0, 0), (4, 0), (4, 0), (0, 0), (1, 0), (3, 0), (3, 0), (0, 0), (3, 0), (3, 0), (4, 0), (4, 0), (3, 0), (0, 0), (0, 0), (3, 0), (3, 0), (0, 0), (0, 0), (0, 0), (3, 0), (0, 0), (0, 0), (0, 0), (3, 0), (0, 0), (3, 0), (1, 0), (4, 0), (0, 0), (0, 0), (0, 0), (3, 0), (4, 0), (0, 0), (1, 0), (1, 0), (4, 0), (3, 0), (0, 0), (4, 0), (1, 0), (3, 0), (0, 0), (1, 0), (0, 0), (3, 0), (3, 0), (4, 0), (0, 0), (3, 0), (4, 0), (0, 0), (0, 0), (0, 0), (4, 0), (3, 0), (0, 0), (0, 0), (0, 0), (0, 0), (0, 0), (0, 0), (0, 0), (1, 0), (0, 0), (4, 0), (0, 0), (4, 0), (1, 0), (0, 0), (1, 0), (0, 0), (2, 0), (0, 0), (1, 0), (3, 0), (4, 0), (0, 0), (3, 0), (0, 0), (3, 0), (4, 0), (4, 0), (0, 0), (4, 0), (4, 0), (4, 0), (4, 0), (3, 0), (3, 0), (0, 0), (0, 0), (0, 0), (1, 0), (0, 0), (4, 0), (4, 0), (0, 0), (0, 0), (0, 0), (0, 0), (3, 0), (0, 0), (4, 0), (3, 0), (3, 0), (0, 0), (1, 0), (0, 0), (0, 0), (3, 0), (0, 0), (4, 0), (0, 0), (0, 0), (0, 0), (0, 0), (0, 0), (0, 0), (0, 0), (1, 0), (0, 0), (0, 0), (0, 0), (3, 0), (4, 0), (0, 0), (0, 0), (0, 0), (0, 0), (4, 0), (0, 0), (4, 0), (1, 0), (0, 0), (0, 0), (0, 0), (3, 0), (4, 0), (0, 0), (4, 0), (4, 0), (0, 0), (0, 0), (0, 0), (0, 0), (3, 0), (0, 0), (0, 0), (3, 0), (0, 0), (0, 0), (3, 0), (0, 0), (0, 0), (0, 0), (0, 0), (1, 0), (3, 0), (0, 0), (0, 0), (0, 0), (4, 0), (0, 0), (3, 0), (0, 0), (1, 0), (1, 0), (4, 0), (4, 0), (3, 0), (0, 0), (3, 0), (1, 0), (3, 0), (0, 0), (4, 0), (3, 0), (3, 0), (4, 0), (0, 0), (0, 0), (0, 0), (1, 0), (3, 0), (0, 0), (3, 0), (0, 0), (3, 0), (3, 0), (3, 0), (0, 0), (3, 0), (3, 0), (0, 0), (0, 0), (0, 0), (3, 0), (4, 0), (3, 0), (0, 0), (4, 0), (1, 0), (4, 0), (3, 0), (0, 0), (0, 0), (3, 0), (3, 0), (0, 0), (3, 0), (3, 0), (3, 0), (3, 0), (4, 0), (0, 0), (0, 0), (3, 0), (0, 0), (1, 0), (3, 0), (0, 0), (4, 0), (0, 0), (0, 0), (0, 0), (4, 0), (4, 0), (0, 0), (0, 0), (4, 0), (3, 0), (0, 0), (0, 0), (1, 0), (1, 0), (0, 0), (3, 0), (1, 0), (3, 0), (1, 0), (4, 0), (4, 0), (0, 0), (0, 0), (1, 0), (0, 0), (4, 0), (2, 0), (0, 0), (1, 0), (3, 0), (0, 0), (4, 0), (4, 0), (1, 0), (0, 0), (3, 0), (0, 0), (0, 0), (0, 0), (0, 0), (0, 0), (0, 0), (0, 0), (1, 0), (4, 0), (0, 0), (0, 0), (0, 0), (0, 0), (0, 0), (0, 0), (1, 0), (0, 0), (0, 0), (0, 0), (0, 0), (0, 0), (1, 0), (4, 0), (4, 0), (0, 0), (4, 0), (0, 0), (0, 0), (0, 0), (0, 0), (4, 0), (4, 0), (0, 0), (0, 0), (0, 0), (0, 0), (4, 0), (3, 0), (4, 0), (0, 0), (1, 0), (0, 0), (0, 0), (0, 0), (0, 0), (0, 0), (3, 0), (1, 0), (4, 0), (0, 0), (0, 0), (3, 0), (0, 0), (1, 0), (0, 0), (1, 0), (4, 0), (4, 0), (4, 0), (4, 0), (0, 0), (0, 0), (0, 0), (4, 0), (3, 0), (4, 0), (0, 0), (3, 0), (0, 0), (0, 0), (4, 0), (0, 0), (0, 0), (0, 0), (1, 0), (0, 0), (4, 0), (3, 0), (0, 0), (0, 0), (4, 0), (0, 0), (0, 0), (4, 0), (0, 0), (3, 0), (4, 0), (0, 0), (3, 0), (1, 0), (3, 0), (0, 0), (4, 0), (0, 0), (0, 0), (4, 0), (0, 0), (3, 0), (3, 0), (3, 0), (1, 0), (4, 0), (0, 0), (4, 0), (0, 0), (0, 0), (0, 0), (3, 0), (0, 0), (1, 0), (0, 0), (0, 0), (0, 0), (4, 0), (0, 0), (3, 0), (3, 0), (4, 0), (3, 0), (0, 0), (0, 0), (0, 0), (0, 0), (0, 0), (3, 0), (4, 0), (0, 0), (4, 0), (0, 0), (0, 0), (0, 0), (0, 0), (0, 0), (0, 0), (0, 0), (0, 0), (0, 0), (4, 0), (4, 0), (0, 0), (1, 0), (0, 0), (0, 0), (4, 0), (3, 0), (3, 0), (0, 0), (3, 0), (1, 0), (1, 0), (0, 0), (1, 0), (4, 0), (0, 0), (1, 0), (1, 0), (3, 0), (1, 0), (0, 0), (1, 0), (1, 0), (0, 0), (1, 0), (0, 0), (3, 0), (0, 0), (0, 0), (0, 0), (0, 0), (0, 0), (4, 0), (3, 0), (3, 0), (0, 0), (0, 0), (0, 0), (0, 0), (4, 0), (3, 0), (4, 0), (0, 0), (0, 0), (0, 0), (0, 0), (0, 0), (0, 0), (0, 0), (0, 0), (3, 0), (0, 0), (0, 0), (3, 0), (1, 0), (0, 0), (0, 0), (4, 0), (4, 0), (4, 0), (3, 0), (4, 0), (3, 0), (0, 0), (4, 0), (0, 0), (0, 0), (0, 0), (0, 0), (3, 0), (3, 0), (0, 0), (3, 0), (3, 0), (1, 0), (0, 0), (4, 0), (0, 0), (0, 0), (0, 0), (3, 0), (0, 0), (3, 0), (0, 0), (0, 0), (4, 0), (0, 0), (0, 0), (0, 0), (0, 0), (4, 0), (4, 0), (4, 0), (4, 0), (4, 0), (3, 0), (3, 0), (0, 0), (0, 0), (0, 0), (4, 0), (0, 0), (1, 0), (0, 0), (0, 0), (0, 0), (3, 0), (0, 0), (1, 0), (1, 0), (3, 0), (4, 0), (4, 0), (4, 0), (4, 0), (0, 0), (3, 0), (3, 0), (3, 0), (3, 0), (0, 0), (0, 0), (0, 0), (0, 0), (0, 0), (0, 0), (4, 0), (3, 0), (4, 0), (3, 0), (0, 0), (3, 0), (0, 0), (0, 0), (0, 0), (4, 0), (0, 0), (1, 0), (4, 0), (3, 0), (3, 0), (0, 0), (0, 0), (4, 0), (3, 0), (4, 0), (1, 0), (0, 0), (0, 0), (4, 0), (1, 0), (0, 0), (0, 0), (0, 0), (3, 0), (3, 0), (0, 0), (3, 0), (1, 0), (4, 0), (4, 0), (0, 0), (0, 0), (4, 0), (4, 0), (4, 0), (3, 0), (3, 0), (0, 0), (0, 0), (3, 0), (3, 0), (0, 0), (0, 0), (4, 0), (3, 0), (0, 0), (3, 0), (0, 0), (0, 0), (4, 0), (4, 0), (4, 0), (0, 0), (1, 0), (1, 0), (3, 0), (3, 0), (4, 0), (0, 0), (0, 0), (3, 0), (0, 0), (4, 0), (3, 0), (0, 0), (0, 0), (0, 0), (0, 0), (1, 0), (4, 0), (1, 0), (0, 0), (0, 0), (1, 0), (1, 0), (0, 0), (0, 0), (0, 0), (0, 0), (3, 0), (0, 0), (4, 0), (0, 0), (1, 0), (3, 0), (0, 0), (3, 0), (0, 0), (1, 0), (0, 0), (0, 0), (0, 0), (3, 0), (0, 0), (0, 0), (3, 0), (0, 0), (0, 0), (3, 0), (4, 0), (0, 0), (0, 0), (0, 0), (0, 0), (3, 0), (3, 0), (1, 0), (0, 0), (0, 0), (0, 0), (4, 0), (1, 0), (1, 0), (4, 0), (1, 0), (3, 0), (4, 0), (0, 0), (0, 0), (0, 0), (3, 0), (1, 0), (3, 0), (0, 0), (4, 0), (0, 0), (3, 0), (3, 0), (4, 0), (1, 0), (0, 0), (0, 0), (3, 0), (0, 0), (4, 0), (3, 0), (0, 0), (3, 0), (3, 0)]\n"
     ]
    }
   ],
   "source": [
    "print NET.evaluate_test(testing_data)"
   ]
  },
  {
   "cell_type": "code",
   "execution_count": null,
   "metadata": {
    "collapsed": true
   },
   "outputs": [],
   "source": []
  }
 ],
 "metadata": {
  "kernelspec": {
   "display_name": "Python 2",
   "language": "python",
   "name": "python2"
  },
  "language_info": {
   "codemirror_mode": {
    "name": "ipython",
    "version": 2
   },
   "file_extension": ".py",
   "mimetype": "text/x-python",
   "name": "python",
   "nbconvert_exporter": "python",
   "pygments_lexer": "ipython2",
   "version": "2.7.10"
  }
 },
 "nbformat": 4,
 "nbformat_minor": 0
}
